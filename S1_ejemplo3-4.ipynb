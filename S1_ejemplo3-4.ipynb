{
 "cells": [
  {
   "cell_type": "code",
   "execution_count": 2,
   "id": "9ee1374f-0c63-4357-aa17-8fb4f2307272",
   "metadata": {},
   "outputs": [],
   "source": [
    "import seaborn as sns\n",
    "import matplotlib.pyplot as plt\n",
    "import pandas as pd"
   ]
  },
  {
   "cell_type": "code",
   "execution_count": 3,
   "id": "de055a2d-7538-4293-a25f-f57e0eced786",
   "metadata": {},
   "outputs": [],
   "source": [
    "countries = pd.read_csv(\"Proyecto/countries.csv\")"
   ]
  },
  {
   "cell_type": "code",
   "execution_count": 4,
   "id": "9379bfc0-7037-457f-9664-36f7407d7259",
   "metadata": {},
   "outputs": [
    {
     "data": {
      "text/html": [
       "<div>\n",
       "<style scoped>\n",
       "    .dataframe tbody tr th:only-of-type {\n",
       "        vertical-align: middle;\n",
       "    }\n",
       "\n",
       "    .dataframe tbody tr th {\n",
       "        vertical-align: top;\n",
       "    }\n",
       "\n",
       "    .dataframe thead th {\n",
       "        text-align: right;\n",
       "    }\n",
       "</style>\n",
       "<table border=\"1\" class=\"dataframe\">\n",
       "  <thead>\n",
       "    <tr style=\"text-align: right;\">\n",
       "      <th></th>\n",
       "      <th>iso_code</th>\n",
       "      <th>continent</th>\n",
       "      <th>location</th>\n",
       "      <th>date</th>\n",
       "      <th>total_cases</th>\n",
       "      <th>new_cases</th>\n",
       "      <th>new_cases_smoothed</th>\n",
       "      <th>total_deaths</th>\n",
       "      <th>new_deaths</th>\n",
       "      <th>new_deaths_smoothed</th>\n",
       "      <th>...</th>\n",
       "      <th>female_smokers</th>\n",
       "      <th>male_smokers</th>\n",
       "      <th>handwashing_facilities</th>\n",
       "      <th>hospital_beds_per_thousand</th>\n",
       "      <th>life_expectancy</th>\n",
       "      <th>human_development_index</th>\n",
       "      <th>excess_mortality_cumulative_absolute</th>\n",
       "      <th>excess_mortality_cumulative</th>\n",
       "      <th>excess_mortality</th>\n",
       "      <th>excess_mortality_cumulative_per_million</th>\n",
       "    </tr>\n",
       "  </thead>\n",
       "  <tbody>\n",
       "    <tr>\n",
       "      <th>0</th>\n",
       "      <td>AFG</td>\n",
       "      <td>Asia</td>\n",
       "      <td>Afghanistan</td>\n",
       "      <td>24/02/2020</td>\n",
       "      <td>5.0</td>\n",
       "      <td>5.0</td>\n",
       "      <td>NaN</td>\n",
       "      <td>NaN</td>\n",
       "      <td>NaN</td>\n",
       "      <td>NaN</td>\n",
       "      <td>...</td>\n",
       "      <td>NaN</td>\n",
       "      <td>NaN</td>\n",
       "      <td>37.746</td>\n",
       "      <td>0.5</td>\n",
       "      <td>64.83</td>\n",
       "      <td>0.511</td>\n",
       "      <td>NaN</td>\n",
       "      <td>NaN</td>\n",
       "      <td>NaN</td>\n",
       "      <td>NaN</td>\n",
       "    </tr>\n",
       "    <tr>\n",
       "      <th>1</th>\n",
       "      <td>AFG</td>\n",
       "      <td>Asia</td>\n",
       "      <td>Afghanistan</td>\n",
       "      <td>25/02/2020</td>\n",
       "      <td>5.0</td>\n",
       "      <td>0.0</td>\n",
       "      <td>NaN</td>\n",
       "      <td>NaN</td>\n",
       "      <td>NaN</td>\n",
       "      <td>NaN</td>\n",
       "      <td>...</td>\n",
       "      <td>NaN</td>\n",
       "      <td>NaN</td>\n",
       "      <td>37.746</td>\n",
       "      <td>0.5</td>\n",
       "      <td>64.83</td>\n",
       "      <td>0.511</td>\n",
       "      <td>NaN</td>\n",
       "      <td>NaN</td>\n",
       "      <td>NaN</td>\n",
       "      <td>NaN</td>\n",
       "    </tr>\n",
       "    <tr>\n",
       "      <th>2</th>\n",
       "      <td>AFG</td>\n",
       "      <td>Asia</td>\n",
       "      <td>Afghanistan</td>\n",
       "      <td>26/02/2020</td>\n",
       "      <td>5.0</td>\n",
       "      <td>0.0</td>\n",
       "      <td>NaN</td>\n",
       "      <td>NaN</td>\n",
       "      <td>NaN</td>\n",
       "      <td>NaN</td>\n",
       "      <td>...</td>\n",
       "      <td>NaN</td>\n",
       "      <td>NaN</td>\n",
       "      <td>37.746</td>\n",
       "      <td>0.5</td>\n",
       "      <td>64.83</td>\n",
       "      <td>0.511</td>\n",
       "      <td>NaN</td>\n",
       "      <td>NaN</td>\n",
       "      <td>NaN</td>\n",
       "      <td>NaN</td>\n",
       "    </tr>\n",
       "    <tr>\n",
       "      <th>3</th>\n",
       "      <td>AFG</td>\n",
       "      <td>Asia</td>\n",
       "      <td>Afghanistan</td>\n",
       "      <td>27/02/2020</td>\n",
       "      <td>5.0</td>\n",
       "      <td>0.0</td>\n",
       "      <td>NaN</td>\n",
       "      <td>NaN</td>\n",
       "      <td>NaN</td>\n",
       "      <td>NaN</td>\n",
       "      <td>...</td>\n",
       "      <td>NaN</td>\n",
       "      <td>NaN</td>\n",
       "      <td>37.746</td>\n",
       "      <td>0.5</td>\n",
       "      <td>64.83</td>\n",
       "      <td>0.511</td>\n",
       "      <td>NaN</td>\n",
       "      <td>NaN</td>\n",
       "      <td>NaN</td>\n",
       "      <td>NaN</td>\n",
       "    </tr>\n",
       "    <tr>\n",
       "      <th>4</th>\n",
       "      <td>AFG</td>\n",
       "      <td>Asia</td>\n",
       "      <td>Afghanistan</td>\n",
       "      <td>28/02/2020</td>\n",
       "      <td>5.0</td>\n",
       "      <td>0.0</td>\n",
       "      <td>NaN</td>\n",
       "      <td>NaN</td>\n",
       "      <td>NaN</td>\n",
       "      <td>NaN</td>\n",
       "      <td>...</td>\n",
       "      <td>NaN</td>\n",
       "      <td>NaN</td>\n",
       "      <td>37.746</td>\n",
       "      <td>0.5</td>\n",
       "      <td>64.83</td>\n",
       "      <td>0.511</td>\n",
       "      <td>NaN</td>\n",
       "      <td>NaN</td>\n",
       "      <td>NaN</td>\n",
       "      <td>NaN</td>\n",
       "    </tr>\n",
       "  </tbody>\n",
       "</table>\n",
       "<p>5 rows × 67 columns</p>\n",
       "</div>"
      ],
      "text/plain": [
       "  iso_code continent     location        date  total_cases  new_cases  \\\n",
       "0      AFG      Asia  Afghanistan  24/02/2020          5.0        5.0   \n",
       "1      AFG      Asia  Afghanistan  25/02/2020          5.0        0.0   \n",
       "2      AFG      Asia  Afghanistan  26/02/2020          5.0        0.0   \n",
       "3      AFG      Asia  Afghanistan  27/02/2020          5.0        0.0   \n",
       "4      AFG      Asia  Afghanistan  28/02/2020          5.0        0.0   \n",
       "\n",
       "   new_cases_smoothed  total_deaths  new_deaths  new_deaths_smoothed  ...  \\\n",
       "0                 NaN           NaN         NaN                  NaN  ...   \n",
       "1                 NaN           NaN         NaN                  NaN  ...   \n",
       "2                 NaN           NaN         NaN                  NaN  ...   \n",
       "3                 NaN           NaN         NaN                  NaN  ...   \n",
       "4                 NaN           NaN         NaN                  NaN  ...   \n",
       "\n",
       "   female_smokers  male_smokers  handwashing_facilities  \\\n",
       "0             NaN           NaN                  37.746   \n",
       "1             NaN           NaN                  37.746   \n",
       "2             NaN           NaN                  37.746   \n",
       "3             NaN           NaN                  37.746   \n",
       "4             NaN           NaN                  37.746   \n",
       "\n",
       "   hospital_beds_per_thousand  life_expectancy  human_development_index  \\\n",
       "0                         0.5            64.83                    0.511   \n",
       "1                         0.5            64.83                    0.511   \n",
       "2                         0.5            64.83                    0.511   \n",
       "3                         0.5            64.83                    0.511   \n",
       "4                         0.5            64.83                    0.511   \n",
       "\n",
       "   excess_mortality_cumulative_absolute  excess_mortality_cumulative  \\\n",
       "0                                   NaN                          NaN   \n",
       "1                                   NaN                          NaN   \n",
       "2                                   NaN                          NaN   \n",
       "3                                   NaN                          NaN   \n",
       "4                                   NaN                          NaN   \n",
       "\n",
       "   excess_mortality  excess_mortality_cumulative_per_million  \n",
       "0               NaN                                      NaN  \n",
       "1               NaN                                      NaN  \n",
       "2               NaN                                      NaN  \n",
       "3               NaN                                      NaN  \n",
       "4               NaN                                      NaN  \n",
       "\n",
       "[5 rows x 67 columns]"
      ]
     },
     "execution_count": 4,
     "metadata": {},
     "output_type": "execute_result"
    }
   ],
   "source": [
    "countries.head()"
   ]
  },
  {
   "cell_type": "code",
   "execution_count": 5,
   "id": "f2ace79c-6239-439b-90b5-dbe839071012",
   "metadata": {},
   "outputs": [],
   "source": [
    "paises = pd.DataFrame(countries.loc[:, [\"continent\",\n",
    "                       \"location\",\n",
    "                       \"date\",\n",
    "                       'total_cases_per_million', \n",
    "                       \"total_deaths_per_million\"]])"
   ]
  },
  {
   "cell_type": "code",
   "execution_count": 6,
   "id": "c06fd560-9811-4915-875c-6ad9128c0279",
   "metadata": {},
   "outputs": [],
   "source": [
    "from datetime import date, datetime, timedelta as td\n",
    "paises[\"date\"]  = pd.to_datetime(paises[\"date\"], format=\"%d/%m/%Y\")"
   ]
  },
  {
   "cell_type": "code",
   "execution_count": 7,
   "id": "c8eb7bb7-2d23-495c-8bdc-666a503ca01d",
   "metadata": {},
   "outputs": [
    {
     "data": {
      "text/plain": [
       "continent                           object\n",
       "location                            object\n",
       "date                        datetime64[ns]\n",
       "total_cases_per_million            float64\n",
       "total_deaths_per_million           float64\n",
       "dtype: object"
      ]
     },
     "execution_count": 7,
     "metadata": {},
     "output_type": "execute_result"
    }
   ],
   "source": [
    "paises.dtypes"
   ]
  },
  {
   "cell_type": "code",
   "execution_count": 8,
   "id": "036faba6-4801-424a-90da-1f735dd99381",
   "metadata": {},
   "outputs": [],
   "source": [
    "# Función para obtener sólo el año en otra columna \n",
    "get_year = lambda x: x.year"
   ]
  },
  {
   "cell_type": "code",
   "execution_count": 9,
   "id": "ab88dd2a-d4c5-4109-b806-816afddaf1de",
   "metadata": {},
   "outputs": [],
   "source": [
    "# Mapping para obtener sólo el año en otra columna \n",
    "paises[\"year\"] = paises[\"date\"].map(get_year)"
   ]
  },
  {
   "cell_type": "code",
   "execution_count": 10,
   "id": "31e947dd-dc1e-43c3-a0c3-76803ba6a4cc",
   "metadata": {},
   "outputs": [
    {
     "data": {
      "text/plain": [
       "year\n",
       "2020     9119.741191\n",
       "2021    42074.261152\n",
       "Name: total_cases_per_million, dtype: float64"
      ]
     },
     "execution_count": 10,
     "metadata": {},
     "output_type": "execute_result"
    }
   ],
   "source": [
    "# Vamos a obtener las desviaciones estándar globales de casos COVID-19 por año\n",
    "std_casos = paises.groupby([\"year\"])[\"total_cases_per_million\"].std()\n",
    "std_casos"
   ]
  },
  {
   "cell_type": "code",
   "execution_count": 11,
   "id": "f1214e7d-d314-44a3-9f9a-41388cbd0273",
   "metadata": {},
   "outputs": [
    {
     "data": {
      "text/plain": [
       "year\n",
       "2020    254.832855\n",
       "2021    822.529654\n",
       "Name: total_deaths_per_million, dtype: float64"
      ]
     },
     "execution_count": 11,
     "metadata": {},
     "output_type": "execute_result"
    }
   ],
   "source": [
    "# Vamos a obtener las desviaciones estándar globales de muertes por COVID-19 por año\n",
    "std_muertes = paises.groupby([\"year\"])[\"total_deaths_per_million\"].std()\n",
    "std_muertes"
   ]
  },
  {
   "cell_type": "code",
   "execution_count": 12,
   "id": "d37a7de8-499e-4c97-973c-144428f55582",
   "metadata": {},
   "outputs": [
    {
     "data": {
      "text/plain": [
       "year\n",
       "2020    8.316968e+07\n",
       "2021    1.770243e+09\n",
       "Name: total_cases_per_million, dtype: float64"
      ]
     },
     "execution_count": 12,
     "metadata": {},
     "output_type": "execute_result"
    }
   ],
   "source": [
    "# Vamos a obtener las varianzas globales de casos COVID-19 por año\n",
    "var_casos = paises.groupby([\"year\"])[\"total_cases_per_million\"].var()\n",
    "var_casos"
   ]
  },
  {
   "cell_type": "code",
   "execution_count": 13,
   "id": "3306bc44-89a6-41eb-85bd-50981175eea9",
   "metadata": {},
   "outputs": [
    {
     "data": {
      "text/plain": [
       "year\n",
       "2020     64939.783963\n",
       "2021    676555.032225\n",
       "Name: total_deaths_per_million, dtype: float64"
      ]
     },
     "execution_count": 13,
     "metadata": {},
     "output_type": "execute_result"
    }
   ],
   "source": [
    "# Vamos a obtener las varianzas globales de muertes por COVID-19 por año\n",
    "var_muertes = paises.groupby([\"year\"])[\"total_deaths_per_million\"].var()\n",
    "var_muertes"
   ]
  },
  {
   "cell_type": "code",
   "execution_count": 14,
   "id": "f657839d-4f01-4ff7-a2bc-0d87f3fdeb3d",
   "metadata": {},
   "outputs": [],
   "source": [
    "cuartil1 = lambda x: x.quantile(.25)\n",
    "cuartil1.__name__ = 'Cuartil_25%'"
   ]
  },
  {
   "cell_type": "code",
   "execution_count": 15,
   "id": "94f81d62-0ff4-4cec-854a-cf5e35a488c6",
   "metadata": {},
   "outputs": [],
   "source": [
    "cuartil2 = lambda x: x.quantile(.50)\n",
    "cuartil2.__name__ = 'Cuartil_50%'"
   ]
  },
  {
   "cell_type": "code",
   "execution_count": 16,
   "id": "2e2778df-d6bd-47a1-b378-bfff5e7fc8f6",
   "metadata": {},
   "outputs": [],
   "source": [
    "cuartil3 = lambda x: x.quantile(.75)\n",
    "cuartil3.__name__ = 'Cuartil_75%'"
   ]
  },
  {
   "cell_type": "code",
   "execution_count": 17,
   "id": "71a86178-b5ff-4d4b-bde8-b98bb4f845e3",
   "metadata": {},
   "outputs": [],
   "source": [
    "cuartil4 = lambda x: x.max()\n",
    "cuartil4.__name__ = 'Cuartil_100%'"
   ]
  },
  {
   "cell_type": "code",
   "execution_count": 18,
   "id": "b9d173bb-dca6-4db0-8d21-3d2126cb6283",
   "metadata": {},
   "outputs": [
    {
     "data": {
      "text/html": [
       "<div>\n",
       "<style scoped>\n",
       "    .dataframe tbody tr th:only-of-type {\n",
       "        vertical-align: middle;\n",
       "    }\n",
       "\n",
       "    .dataframe tbody tr th {\n",
       "        vertical-align: top;\n",
       "    }\n",
       "\n",
       "    .dataframe thead tr th {\n",
       "        text-align: left;\n",
       "    }\n",
       "\n",
       "    .dataframe thead tr:last-of-type th {\n",
       "        text-align: right;\n",
       "    }\n",
       "</style>\n",
       "<table border=\"1\" class=\"dataframe\">\n",
       "  <thead>\n",
       "    <tr>\n",
       "      <th></th>\n",
       "      <th colspan=\"4\" halign=\"left\">total_cases_per_million</th>\n",
       "    </tr>\n",
       "    <tr>\n",
       "      <th></th>\n",
       "      <th>Cuartil_25%</th>\n",
       "      <th>Cuartil_50%</th>\n",
       "      <th>Cuartil_75%</th>\n",
       "      <th>Cuartil_100%</th>\n",
       "    </tr>\n",
       "    <tr>\n",
       "      <th>year</th>\n",
       "      <th></th>\n",
       "      <th></th>\n",
       "      <th></th>\n",
       "      <th></th>\n",
       "    </tr>\n",
       "  </thead>\n",
       "  <tbody>\n",
       "    <tr>\n",
       "      <th>2020</th>\n",
       "      <td>92.62</td>\n",
       "      <td>706.0</td>\n",
       "      <td>4322.24</td>\n",
       "      <td>104054.09</td>\n",
       "    </tr>\n",
       "    <tr>\n",
       "      <th>2021</th>\n",
       "      <td>2248.28</td>\n",
       "      <td>17815.2</td>\n",
       "      <td>60597.56</td>\n",
       "      <td>253504.89</td>\n",
       "    </tr>\n",
       "  </tbody>\n",
       "</table>\n",
       "</div>"
      ],
      "text/plain": [
       "     total_cases_per_million                                     \n",
       "                 Cuartil_25% Cuartil_50% Cuartil_75% Cuartil_100%\n",
       "year                                                             \n",
       "2020                   92.62       706.0     4322.24    104054.09\n",
       "2021                 2248.28     17815.2    60597.56    253504.89"
      ]
     },
     "execution_count": 18,
     "metadata": {},
     "output_type": "execute_result"
    }
   ],
   "source": [
    "func_casos = {\n",
    "    'total_cases_per_million': [cuartil1, cuartil2, cuartil3, cuartil4]\n",
    "}\n",
    "\n",
    "paises.groupby(['year']).agg(func_casos).round(2)"
   ]
  },
  {
   "cell_type": "code",
   "execution_count": null,
   "id": "b9eeec9c-f22b-488f-a7b8-7760f2c5a385",
   "metadata": {},
   "outputs": [],
   "source": [
    "# Hablemos de desigualdad:\n",
    "# En 2020, el 25% de los países del mundo (cuarto cuartil) tuvo 1000x más casos por millón que \n",
    "# otro 25% de países (primer cuartil). Esto pudo ser por mera geografía.\n",
    "# Sin embargo, para 2021, el cuarto cuartil tuvo 100x más casos por millón que el primer cuartil. Quizás la diferencia mejoró,\n",
    "# pero nos puede dar una idea sobre desigualdad la entre condiciones de vida y apoyo sanitario"
   ]
  },
  {
   "cell_type": "code",
   "execution_count": 41,
   "id": "612b567b-e700-41aa-ada2-198af9d69d9d",
   "metadata": {},
   "outputs": [
    {
     "data": {
      "text/plain": [
       "<AxesSubplot:xlabel='year', ylabel='total_cases_per_million'>"
      ]
     },
     "execution_count": 41,
     "metadata": {},
     "output_type": "execute_result"
    },
    {
     "data": {
      "image/png": "[encoded data removed]",
      "text/plain": [
       "<Figure size 432x288 with 1 Axes>"
      ]
     },
     "metadata": {},
     "output_type": "display_data"
    }
   ],
   "source": [
    "sns.set(style=\"white\")\n",
    "sns.boxplot(x=paises['year'], y=paises[\"total_cases_per_million\"])"
   ]
  },
  {
   "cell_type": "code",
   "execution_count": 21,
   "id": "2a12f813-6aef-4179-b18b-37060f3abdd8",
   "metadata": {},
   "outputs": [],
   "source": [
    "iqr = paises[\"total_cases_per_million\"].quantile(0.75) - paises[\"total_cases_per_million\"].quantile(0.25)\n",
    "filtro_inferior = paises[\"total_cases_per_million\"] > paises[\"total_cases_per_million\"].quantile(0.25) - (iqr * 1.5)\n",
    "filtro_superior = paises[\"total_cases_per_million\"] < paises[\"total_cases_per_million\"].quantile(0.75) + (iqr * 1.5)\n",
    "\n",
    "df_filtrado = paises[filtro_inferior & filtro_superior]"
   ]
  },
  {
   "cell_type": "code",
   "execution_count": 38,
   "id": "495ba17d-4b00-4faf-b6c6-58ae5725b179",
   "metadata": {},
   "outputs": [
    {
     "data": {
      "text/plain": [
       "<AxesSubplot:xlabel='year', ylabel='total_cases_per_million'>"
      ]
     },
     "execution_count": 38,
     "metadata": {},
     "output_type": "execute_result"
    },
    {
     "data": {
      "image/png": "[encoded data removed]",
      "text/plain": [
       "<Figure size 432x288 with 1 Axes>"
      ]
     },
     "metadata": {},
     "output_type": "display_data"
    }
   ],
   "source": [
    "sns.set(style=\"white\")\n",
    "sns.boxplot(x=df_filtrado['year'], y=df_filtrado[\"total_cases_per_million\"])"
   ]
  },
  {
   "cell_type": "code",
   "execution_count": 23,
   "id": "3437c57a-7aea-49b7-b486-f16340d3d070",
   "metadata": {
    "jupyter": {
     "source_hidden": true
    },
    "tags": []
   },
   "outputs": [
    {
     "data": {
      "text/html": [
       "<div>\n",
       "<style scoped>\n",
       "    .dataframe tbody tr th:only-of-type {\n",
       "        vertical-align: middle;\n",
       "    }\n",
       "\n",
       "    .dataframe tbody tr th {\n",
       "        vertical-align: top;\n",
       "    }\n",
       "\n",
       "    .dataframe thead tr th {\n",
       "        text-align: left;\n",
       "    }\n",
       "\n",
       "    .dataframe thead tr:last-of-type th {\n",
       "        text-align: right;\n",
       "    }\n",
       "</style>\n",
       "<table border=\"1\" class=\"dataframe\">\n",
       "  <thead>\n",
       "    <tr>\n",
       "      <th></th>\n",
       "      <th colspan=\"4\" halign=\"left\">total_deaths_per_million</th>\n",
       "    </tr>\n",
       "    <tr>\n",
       "      <th></th>\n",
       "      <th>Cuartil_25%</th>\n",
       "      <th>Cuartil_50%</th>\n",
       "      <th>Cuartil_75%</th>\n",
       "      <th>Cuartil_100%</th>\n",
       "    </tr>\n",
       "    <tr>\n",
       "      <th>year</th>\n",
       "      <th></th>\n",
       "      <th></th>\n",
       "      <th></th>\n",
       "      <th></th>\n",
       "    </tr>\n",
       "  </thead>\n",
       "  <tbody>\n",
       "    <tr>\n",
       "      <th>2020</th>\n",
       "      <td>4.29</td>\n",
       "      <td>22.07</td>\n",
       "      <td>114.94</td>\n",
       "      <td>2789.92</td>\n",
       "    </tr>\n",
       "    <tr>\n",
       "      <th>2021</th>\n",
       "      <td>48.38</td>\n",
       "      <td>294.33</td>\n",
       "      <td>1084.81</td>\n",
       "      <td>6041.08</td>\n",
       "    </tr>\n",
       "  </tbody>\n",
       "</table>\n",
       "</div>"
      ],
      "text/plain": [
       "     total_deaths_per_million                                     \n",
       "                  Cuartil_25% Cuartil_50% Cuartil_75% Cuartil_100%\n",
       "year                                                              \n",
       "2020                     4.29       22.07      114.94      2789.92\n",
       "2021                    48.38      294.33     1084.81      6041.08"
      ]
     },
     "execution_count": 23,
     "metadata": {},
     "output_type": "execute_result"
    }
   ],
   "source": [
    "func_muertes = {\n",
    "    'total_deaths_per_million': [cuartil1, cuartil2, cuartil3, cuartil4]\n",
    "}\n",
    "\n",
    "paises.groupby(['year']).agg(func_muertes).round(2)"
   ]
  },
  {
   "cell_type": "code",
   "execution_count": 39,
   "id": "1c70bff0-0eec-49ef-8d0a-870e11749aa6",
   "metadata": {},
   "outputs": [
    {
     "data": {
      "text/plain": [
       "<AxesSubplot:xlabel='year', ylabel='total_deaths_per_million'>"
      ]
     },
     "execution_count": 39,
     "metadata": {},
     "output_type": "execute_result"
    },
    {
     "data": {
      "image/png": "[encoded data removed]",
      "text/plain": [
       "<Figure size 432x288 with 1 Axes>"
      ]
     },
     "metadata": {},
     "output_type": "display_data"
    }
   ],
   "source": [
    "sns.set(style=\"white\")\n",
    "sns.boxplot(x=paises['year'], y=paises[\"total_deaths_per_million\"])"
   ]
  },
  {
   "cell_type": "code",
   "execution_count": 24,
   "id": "06793d93-ebc6-4ad9-a657-e3a24dbb479a",
   "metadata": {},
   "outputs": [],
   "source": [
    "iqr2 = paises[\"total_deaths_per_million\"].quantile(0.75) - paises[\"total_deaths_per_million\"].quantile(0.25)\n",
    "filtro_inferior2 = paises[\"total_deaths_per_million\"] > paises[\"total_deaths_per_million\"].quantile(0.25) - (iqr * 1.5)\n",
    "filtro_superior2 = paises[\"total_deaths_per_million\"] < paises[\"total_deaths_per_million\"].quantile(0.75) + (iqr * 1.5)\n",
    "\n",
    "df_filtrado2 = paises[filtro_inferior2 & filtro_superior2]"
   ]
  },
  {
   "cell_type": "code",
   "execution_count": 40,
   "id": "1d5c2d0a-dc45-4b0d-8d48-1a575042fea0",
   "metadata": {},
   "outputs": [
    {
     "data": {
      "text/plain": [
       "<AxesSubplot:xlabel='year', ylabel='total_deaths_per_million'>"
      ]
     },
     "execution_count": 40,
     "metadata": {},
     "output_type": "execute_result"
    },
    {
     "data": {
      "image/png": "[encoded data removed]",
      "text/plain": [
       "<Figure size 432x288 with 1 Axes>"
      ]
     },
     "metadata": {},
     "output_type": "display_data"
    }
   ],
   "source": [
    "sns.set(style=\"white\")\n",
    "sns.boxplot(x=df_filtrado2['year'], y=df_filtrado2[\"total_deaths_per_million\"])"
   ]
  },
  {
   "cell_type": "code",
   "execution_count": null,
   "id": "4fbd1b6c-0703-42fa-a9ec-5d5e927319e3",
   "metadata": {},
   "outputs": [],
   "source": [
    "# Hablemos de desigualdad:\n",
    "# En 2020, el 25% de los países del mundo (cuarto cuartil) tuvo 600x más muertes por millón que \n",
    "# otro 25% de países (primer cuartil). Esto pudo ser por mera geografía.\n",
    "# Sin embargo, para 2021, el cuarto cuartil tuvo 100x más muertes por millón que el primer cuartil. Quizás la diferencia mejoró,\n",
    "# pero nos puede dar una idea sobre desigualdad la entre condiciones de vida y apoyo sanitario"
   ]
  },
  {
   "cell_type": "code",
   "execution_count": 32,
   "id": "108d099b-03b3-4601-931e-b42380b9af27",
   "metadata": {},
   "outputs": [],
   "source": [
    "from scipy.stats import skew, kurtosis"
   ]
  },
  {
   "cell_type": "code",
   "execution_count": 33,
   "id": "01fdd280-1b74-485a-8e57-60853e686c6a",
   "metadata": {},
   "outputs": [],
   "source": [
    "sns.set(style='white')"
   ]
  },
  {
   "cell_type": "code",
   "execution_count": 34,
   "id": "f02c0cab-8f71-401b-a29e-22ad9b924a94",
   "metadata": {},
   "outputs": [
    {
     "data": {
      "text/plain": [
       "<matplotlib.lines.Line2D at 0x22004c3bca0>"
      ]
     },
     "execution_count": 34,
     "metadata": {},
     "output_type": "execute_result"
    },
    {
     "data": {
      "image/png": "[encoded data removed]",
      "text/plain": [
       "<Figure size 432x288 with 1 Axes>"
      ]
     },
     "metadata": {},
     "output_type": "display_data"
    }
   ],
   "source": [
    "sns.distplot(df_filtrado[\"total_cases_per_million\"], kde=False, norm_hist=False, bins=50)\n",
    "plt.axvline(df_filtrado[\"total_cases_per_million\"].mean(), c='y')"
   ]
  },
  {
   "cell_type": "code",
   "execution_count": 35,
   "id": "80695f3f-e8ec-4b69-83a3-5185a8cbbbeb",
   "metadata": {},
   "outputs": [
    {
     "name": "stdout",
     "output_type": "stream",
     "text": [
      "Curtosis: 2.220950510253479\n",
      "Asimetría: 1.7969544064512282\n"
     ]
    }
   ],
   "source": [
    "print(f'Curtosis: {kurtosis(df_filtrado[\"total_cases_per_million\"])}')\n",
    "print(f'Asimetría: {skew(df_filtrado[\"total_cases_per_million\"])}')"
   ]
  },
  {
   "cell_type": "code",
   "execution_count": null,
   "id": "58180c4b-9cdb-4951-a8bf-7152d2eb7146",
   "metadata": {},
   "outputs": [],
   "source": [
    "# Hallazgo: distribución leptocúrtica (k>0) con asimetría positiva"
   ]
  },
  {
   "cell_type": "code",
   "execution_count": 36,
   "id": "f1d9bb3e-85d1-4179-959f-84f360aedbc4",
   "metadata": {},
   "outputs": [
    {
     "data": {
      "text/plain": [
       "<matplotlib.lines.Line2D at 0x22005de6c10>"
      ]
     },
     "execution_count": 36,
     "metadata": {},
     "output_type": "execute_result"
    },
    {
     "data": {
      "image/png": "[encoded data removed]",
      "text/plain": [
       "<Figure size 432x288 with 1 Axes>"
      ]
     },
     "metadata": {},
     "output_type": "display_data"
    }
   ],
   "source": [
    "sns.distplot(df_filtrado2[\"total_deaths_per_million\"], kde=False, norm_hist=False, bins=50)\n",
    "plt.axvline(df_filtrado2[\"total_deaths_per_million\"].mean(), c='y')"
   ]
  },
  {
   "cell_type": "code",
   "execution_count": 37,
   "id": "30ad74fa-7d10-4f52-be08-e43751118652",
   "metadata": {},
   "outputs": [
    {
     "name": "stdout",
     "output_type": "stream",
     "text": [
      "Curtosis: 9.648340030208852\n",
      "Asimetría: 2.5851643080077364\n"
     ]
    }
   ],
   "source": [
    "print(f'Curtosis: {kurtosis(df_filtrado2[\"total_deaths_per_million\"])}')\n",
    "print(f'Asimetría: {skew(df_filtrado2[\"total_deaths_per_million\"])}')"
   ]
  }
 ],
 "metadata": {
  "kernelspec": {
   "display_name": "Python 3 (ipykernel)",
   "language": "python",
   "name": "python3"
  },
  "language_info": {
   "codemirror_mode": {
    "name": "ipython",
    "version": 3
   },
   "file_extension": ".py",
   "mimetype": "text/x-python",
   "name": "python",
   "nbconvert_exporter": "python",
   "pygments_lexer": "ipython3",
   "version": "3.9.7"
  }
 },
 "nbformat": 4,
 "nbformat_minor": 5
}
