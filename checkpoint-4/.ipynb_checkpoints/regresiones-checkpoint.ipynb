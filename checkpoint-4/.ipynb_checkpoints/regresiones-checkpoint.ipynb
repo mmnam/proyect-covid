{
 "cells": [
  {
   "cell_type": "code",
   "execution_count": 1,
   "id": "0172188e-4b4b-4ee3-84a8-851a5e5bb1a5",
   "metadata": {},
   "outputs": [],
   "source": [
    "import numpy as np\n",
    "import seaborn as sns\n",
    "import pandas as pd\n",
    "import matplotlib.pyplot as plt\n",
    "from sklearn.linear_model import LinearRegression"
   ]
  },
  {
   "cell_type": "code",
   "execution_count": 2,
   "id": "b927f9fc-99b4-41cc-a74a-c0541f38ca67",
   "metadata": {},
   "outputs": [],
   "source": [
    "sns.set_theme(color_codes=True)"
   ]
  },
  {
   "cell_type": "code",
   "execution_count": 3,
   "id": "ec229f2c-2126-4aa7-a376-2edc191979b0",
   "metadata": {},
   "outputs": [
    {
     "data": {
      "text/html": [
       "<div>\n",
       "<style scoped>\n",
       "    .dataframe tbody tr th:only-of-type {\n",
       "        vertical-align: middle;\n",
       "    }\n",
       "\n",
       "    .dataframe tbody tr th {\n",
       "        vertical-align: top;\n",
       "    }\n",
       "\n",
       "    .dataframe thead th {\n",
       "        text-align: right;\n",
       "    }\n",
       "</style>\n",
       "<table border=\"1\" class=\"dataframe\">\n",
       "  <thead>\n",
       "    <tr style=\"text-align: right;\">\n",
       "      <th></th>\n",
       "      <th>code</th>\n",
       "      <th>continent</th>\n",
       "      <th>country</th>\n",
       "      <th>date</th>\n",
       "      <th>total_cases_per_million</th>\n",
       "      <th>total_deaths_per_million</th>\n",
       "      <th>population_density</th>\n",
       "      <th>cardiovasc_death_rate</th>\n",
       "      <th>diabetes_prevalence</th>\n",
       "      <th>life_expectancy</th>\n",
       "      <th>hdi</th>\n",
       "    </tr>\n",
       "  </thead>\n",
       "  <tbody>\n",
       "    <tr>\n",
       "      <th>0</th>\n",
       "      <td>AFG</td>\n",
       "      <td>Asia</td>\n",
       "      <td>Afghanistan</td>\n",
       "      <td>09/12/2021</td>\n",
       "      <td>3955.901</td>\n",
       "      <td>183.781</td>\n",
       "      <td>54.422</td>\n",
       "      <td>597.029</td>\n",
       "      <td>9.59</td>\n",
       "      <td>64.83</td>\n",
       "      <td>0.511</td>\n",
       "    </tr>\n",
       "    <tr>\n",
       "      <th>1</th>\n",
       "      <td>ALB</td>\n",
       "      <td>Europe</td>\n",
       "      <td>Albania</td>\n",
       "      <td>09/12/2021</td>\n",
       "      <td>70611.786</td>\n",
       "      <td>1088.782</td>\n",
       "      <td>104.871</td>\n",
       "      <td>304.195</td>\n",
       "      <td>10.08</td>\n",
       "      <td>78.57</td>\n",
       "      <td>0.795</td>\n",
       "    </tr>\n",
       "    <tr>\n",
       "      <th>2</th>\n",
       "      <td>DZA</td>\n",
       "      <td>Africa</td>\n",
       "      <td>Algeria</td>\n",
       "      <td>09/12/2021</td>\n",
       "      <td>4756.612</td>\n",
       "      <td>137.303</td>\n",
       "      <td>17.348</td>\n",
       "      <td>278.364</td>\n",
       "      <td>6.73</td>\n",
       "      <td>76.88</td>\n",
       "      <td>0.748</td>\n",
       "    </tr>\n",
       "    <tr>\n",
       "      <th>3</th>\n",
       "      <td>AND</td>\n",
       "      <td>Europe</td>\n",
       "      <td>Andorra</td>\n",
       "      <td>09/12/2021</td>\n",
       "      <td>249140.316</td>\n",
       "      <td>1719.368</td>\n",
       "      <td>163.755</td>\n",
       "      <td>109.135</td>\n",
       "      <td>7.97</td>\n",
       "      <td>83.73</td>\n",
       "      <td>0.868</td>\n",
       "    </tr>\n",
       "    <tr>\n",
       "      <th>4</th>\n",
       "      <td>AGO</td>\n",
       "      <td>Africa</td>\n",
       "      <td>Angola</td>\n",
       "      <td>09/12/2021</td>\n",
       "      <td>1925.701</td>\n",
       "      <td>51.159</td>\n",
       "      <td>23.890</td>\n",
       "      <td>276.045</td>\n",
       "      <td>3.94</td>\n",
       "      <td>61.15</td>\n",
       "      <td>0.581</td>\n",
       "    </tr>\n",
       "  </tbody>\n",
       "</table>\n",
       "</div>"
      ],
      "text/plain": [
       "  code continent      country        date  total_cases_per_million  \\\n",
       "0  AFG      Asia  Afghanistan  09/12/2021                 3955.901   \n",
       "1  ALB    Europe      Albania  09/12/2021                70611.786   \n",
       "2  DZA    Africa      Algeria  09/12/2021                 4756.612   \n",
       "3  AND    Europe      Andorra  09/12/2021               249140.316   \n",
       "4  AGO    Africa       Angola  09/12/2021                 1925.701   \n",
       "\n",
       "   total_deaths_per_million  population_density  cardiovasc_death_rate  \\\n",
       "0                   183.781              54.422                597.029   \n",
       "1                  1088.782             104.871                304.195   \n",
       "2                   137.303              17.348                278.364   \n",
       "3                  1719.368             163.755                109.135   \n",
       "4                    51.159              23.890                276.045   \n",
       "\n",
       "   diabetes_prevalence  life_expectancy    hdi  \n",
       "0                 9.59            64.83  0.511  \n",
       "1                10.08            78.57  0.795  \n",
       "2                 6.73            76.88  0.748  \n",
       "3                 7.97            83.73  0.868  \n",
       "4                 3.94            61.15  0.581  "
      ]
     },
     "execution_count": 3,
     "metadata": {},
     "output_type": "execute_result"
    }
   ],
   "source": [
    "df=pd.read_csv(\"/home/manuel/Documents/Bedu/proyecto-covid/datasets/paises.csv\")\n",
    "df.head()"
   ]
  },
  {
   "cell_type": "code",
   "execution_count": 4,
   "id": "9c54b3f8-78c2-4eba-9bd6-c5a6caaec2de",
   "metadata": {},
   "outputs": [
    {
     "data": {
      "text/plain": [
       "(196, 11)"
      ]
     },
     "execution_count": 4,
     "metadata": {},
     "output_type": "execute_result"
    }
   ],
   "source": [
    "df.shape"
   ]
  },
  {
   "cell_type": "code",
   "execution_count": 5,
   "id": "95b17901-41b4-478d-bacb-54479366f07d",
   "metadata": {},
   "outputs": [
    {
     "data": {
      "text/plain": [
       "code                         0\n",
       "continent                    0\n",
       "country                      0\n",
       "date                         0\n",
       "total_cases_per_million      3\n",
       "total_deaths_per_million    11\n",
       "population_density           4\n",
       "cardiovasc_death_rate       10\n",
       "diabetes_prevalence          5\n",
       "life_expectancy              0\n",
       "hdi                          8\n",
       "dtype: int64"
      ]
     },
     "execution_count": 5,
     "metadata": {},
     "output_type": "execute_result"
    }
   ],
   "source": [
    "df.isna().sum()"
   ]
  },
  {
   "cell_type": "code",
   "execution_count": 6,
   "id": "7c60ef2d-0cc6-4ac3-9747-02d16e6c4a6b",
   "metadata": {},
   "outputs": [],
   "source": [
    "df_nona = df.dropna(subset = ['total_cases_per_million', 'hdi']) #para quitar na en columnas especificas"
   ]
  },
  {
   "cell_type": "code",
   "execution_count": 7,
   "id": "07362f10-89d3-4f76-8db8-3c39898ab6dc",
   "metadata": {},
   "outputs": [
    {
     "data": {
      "text/plain": [
       "code                        0\n",
       "continent                   0\n",
       "country                     0\n",
       "date                        0\n",
       "total_cases_per_million     0\n",
       "total_deaths_per_million    7\n",
       "population_density          2\n",
       "cardiovasc_death_rate       4\n",
       "diabetes_prevalence         1\n",
       "life_expectancy             0\n",
       "hdi                         0\n",
       "dtype: int64"
      ]
     },
     "execution_count": 7,
     "metadata": {},
     "output_type": "execute_result"
    }
   ],
   "source": [
    "df_nona.isna().sum()"
   ]
  },
  {
   "cell_type": "markdown",
   "id": "9b7490d0-606c-44da-b829-3f75d5bb64ad",
   "metadata": {},
   "source": [
    "Ahora vamos a hacer una matriz de correlaciones entre estas variables"
   ]
  },
  {
   "cell_type": "code",
   "execution_count": 8,
   "id": "1e20d851-03c5-4eb8-a393-26dadfc7f77c",
   "metadata": {},
   "outputs": [
    {
     "data": {
      "text/html": [
       "<div>\n",
       "<style scoped>\n",
       "    .dataframe tbody tr th:only-of-type {\n",
       "        vertical-align: middle;\n",
       "    }\n",
       "\n",
       "    .dataframe tbody tr th {\n",
       "        vertical-align: top;\n",
       "    }\n",
       "\n",
       "    .dataframe thead th {\n",
       "        text-align: right;\n",
       "    }\n",
       "</style>\n",
       "<table border=\"1\" class=\"dataframe\">\n",
       "  <thead>\n",
       "    <tr style=\"text-align: right;\">\n",
       "      <th></th>\n",
       "      <th>total_cases_per_million</th>\n",
       "      <th>total_deaths_per_million</th>\n",
       "      <th>population_density</th>\n",
       "      <th>cardiovasc_death_rate</th>\n",
       "      <th>diabetes_prevalence</th>\n",
       "      <th>life_expectancy</th>\n",
       "      <th>hdi</th>\n",
       "    </tr>\n",
       "  </thead>\n",
       "  <tbody>\n",
       "    <tr>\n",
       "      <th>total_cases_per_million</th>\n",
       "      <td>1.000000</td>\n",
       "      <td>0.689870</td>\n",
       "      <td>-0.008042</td>\n",
       "      <td>-0.258685</td>\n",
       "      <td>0.015127</td>\n",
       "      <td>0.589132</td>\n",
       "      <td>0.660183</td>\n",
       "    </tr>\n",
       "    <tr>\n",
       "      <th>total_deaths_per_million</th>\n",
       "      <td>0.689870</td>\n",
       "      <td>1.000000</td>\n",
       "      <td>-0.111853</td>\n",
       "      <td>-0.119710</td>\n",
       "      <td>0.059955</td>\n",
       "      <td>0.440781</td>\n",
       "      <td>0.505902</td>\n",
       "    </tr>\n",
       "    <tr>\n",
       "      <th>population_density</th>\n",
       "      <td>-0.008042</td>\n",
       "      <td>-0.111853</td>\n",
       "      <td>1.000000</td>\n",
       "      <td>-0.167567</td>\n",
       "      <td>0.096197</td>\n",
       "      <td>0.209081</td>\n",
       "      <td>0.179622</td>\n",
       "    </tr>\n",
       "    <tr>\n",
       "      <th>cardiovasc_death_rate</th>\n",
       "      <td>-0.258685</td>\n",
       "      <td>-0.119710</td>\n",
       "      <td>-0.167567</td>\n",
       "      <td>1.000000</td>\n",
       "      <td>0.154641</td>\n",
       "      <td>-0.457181</td>\n",
       "      <td>-0.427486</td>\n",
       "    </tr>\n",
       "    <tr>\n",
       "      <th>diabetes_prevalence</th>\n",
       "      <td>0.015127</td>\n",
       "      <td>0.059955</td>\n",
       "      <td>0.096197</td>\n",
       "      <td>0.154641</td>\n",
       "      <td>1.000000</td>\n",
       "      <td>0.234316</td>\n",
       "      <td>0.199409</td>\n",
       "    </tr>\n",
       "    <tr>\n",
       "      <th>life_expectancy</th>\n",
       "      <td>0.589132</td>\n",
       "      <td>0.440781</td>\n",
       "      <td>0.209081</td>\n",
       "      <td>-0.457181</td>\n",
       "      <td>0.234316</td>\n",
       "      <td>1.000000</td>\n",
       "      <td>0.912164</td>\n",
       "    </tr>\n",
       "    <tr>\n",
       "      <th>hdi</th>\n",
       "      <td>0.660183</td>\n",
       "      <td>0.505902</td>\n",
       "      <td>0.179622</td>\n",
       "      <td>-0.427486</td>\n",
       "      <td>0.199409</td>\n",
       "      <td>0.912164</td>\n",
       "      <td>1.000000</td>\n",
       "    </tr>\n",
       "  </tbody>\n",
       "</table>\n",
       "</div>"
      ],
      "text/plain": [
       "                          total_cases_per_million  total_deaths_per_million  \\\n",
       "total_cases_per_million                  1.000000                  0.689870   \n",
       "total_deaths_per_million                 0.689870                  1.000000   \n",
       "population_density                      -0.008042                 -0.111853   \n",
       "cardiovasc_death_rate                   -0.258685                 -0.119710   \n",
       "diabetes_prevalence                      0.015127                  0.059955   \n",
       "life_expectancy                          0.589132                  0.440781   \n",
       "hdi                                      0.660183                  0.505902   \n",
       "\n",
       "                          population_density  cardiovasc_death_rate  \\\n",
       "total_cases_per_million            -0.008042              -0.258685   \n",
       "total_deaths_per_million           -0.111853              -0.119710   \n",
       "population_density                  1.000000              -0.167567   \n",
       "cardiovasc_death_rate              -0.167567               1.000000   \n",
       "diabetes_prevalence                 0.096197               0.154641   \n",
       "life_expectancy                     0.209081              -0.457181   \n",
       "hdi                                 0.179622              -0.427486   \n",
       "\n",
       "                          diabetes_prevalence  life_expectancy       hdi  \n",
       "total_cases_per_million              0.015127         0.589132  0.660183  \n",
       "total_deaths_per_million             0.059955         0.440781  0.505902  \n",
       "population_density                   0.096197         0.209081  0.179622  \n",
       "cardiovasc_death_rate                0.154641        -0.457181 -0.427486  \n",
       "diabetes_prevalence                  1.000000         0.234316  0.199409  \n",
       "life_expectancy                      0.234316         1.000000  0.912164  \n",
       "hdi                                  0.199409         0.912164  1.000000  "
      ]
     },
     "execution_count": 8,
     "metadata": {},
     "output_type": "execute_result"
    }
   ],
   "source": [
    "df_nona.corr()"
   ]
  },
  {
   "cell_type": "markdown",
   "id": "03003426-c5d4-4fb4-8799-6ebc074c447a",
   "metadata": {},
   "source": [
    "Para visualizarlo mejor, se hará un mapa de calor con las correlaciones"
   ]
  },
  {
   "cell_type": "code",
   "execution_count": 9,
   "id": "af6f92f9-6f4c-46c9-a327-f611dc960057",
   "metadata": {},
   "outputs": [
    {
     "data": {
      "image/png": "[encoded data removed]",
      "text/plain": [
       "<Figure size 576x432 with 2 Axes>"
      ]
     },
     "metadata": {},
     "output_type": "display_data"
    }
   ],
   "source": [
    "plt.figure(figsize=(8, 6))\n",
    "ax = sns.heatmap(df_nona.corr(), vmin=-1, vmax=1, annot=True, cmap=\"YlGnBu\", linewidths=.5);"
   ]
  },
  {
   "cell_type": "markdown",
   "id": "3a0adc23-9d7e-47a9-abdf-1473b4dba9af",
   "metadata": {},
   "source": [
    "Vemos que las que mejor ser correlacionan con \"total cases per million\" es la de HDI y life_expectancy. Haremos una gráfica de dispersión entre estas variables con total cases per million para ver como se distribuyen los casos"
   ]
  },
  {
   "cell_type": "code",
   "execution_count": 10,
   "id": "09cb9c33-5771-4690-a0e6-5fc21323b93b",
   "metadata": {},
   "outputs": [
    {
     "name": "stderr",
     "output_type": "stream",
     "text": [
      "/home/manuel/miniconda3/lib/python3.9/site-packages/seaborn/_decorators.py:36: FutureWarning: Pass the following variables as keyword args: x, y. From version 0.12, the only valid positional argument will be `data`, and passing other arguments without an explicit keyword will result in an error or misinterpretation.\n",
      "  warnings.warn(\n"
     ]
    },
    {
     "data": {
      "text/plain": [
       "<AxesSubplot:xlabel='total_cases_per_million', ylabel='hdi'>"
      ]
     },
     "execution_count": 10,
     "metadata": {},
     "output_type": "execute_result"
    },
    {
     "data": {
      "image/png": "[encoded data removed]",
      "text/plain": [
       "<Figure size 432x288 with 1 Axes>"
      ]
     },
     "metadata": {},
     "output_type": "display_data"
    }
   ],
   "source": [
    "sns.scatterplot(df_nona['total_cases_per_million'], df_nona['hdi'])"
   ]
  },
  {
   "cell_type": "code",
   "execution_count": 11,
   "id": "7105b783-5004-4b20-aaa2-ae929a590124",
   "metadata": {},
   "outputs": [
    {
     "name": "stderr",
     "output_type": "stream",
     "text": [
      "/home/manuel/miniconda3/lib/python3.9/site-packages/seaborn/_decorators.py:36: FutureWarning: Pass the following variables as keyword args: x, y. From version 0.12, the only valid positional argument will be `data`, and passing other arguments without an explicit keyword will result in an error or misinterpretation.\n",
      "  warnings.warn(\n"
     ]
    },
    {
     "data": {
      "text/plain": [
       "<AxesSubplot:xlabel='total_cases_per_million', ylabel='life_expectancy'>"
      ]
     },
     "execution_count": 11,
     "metadata": {},
     "output_type": "execute_result"
    },
    {
     "data": {
      "image/png": "[encoded data removed]",
      "text/plain": [
       "<Figure size 432x288 with 1 Axes>"
      ]
     },
     "metadata": {},
     "output_type": "display_data"
    }
   ],
   "source": [
    "sns.scatterplot(df_nona['total_cases_per_million'], df_nona['life_expectancy'])"
   ]
  },
  {
   "cell_type": "code",
   "execution_count": 12,
   "id": "02d3e266-a5b0-457e-90b2-b55f8c550fe6",
   "metadata": {},
   "outputs": [],
   "source": [
    "raros = df[df.total_cases_per_million < 5000]"
   ]
  },
  {
   "cell_type": "code",
   "execution_count": 13,
   "id": "024b48a2-c8d6-48eb-b80d-be60a0f3c00d",
   "metadata": {},
   "outputs": [],
   "source": [
    "raros2 = df[df.life_expectancy == 0]"
   ]
  },
  {
   "cell_type": "code",
   "execution_count": 14,
   "id": "2077b8c7-ce4e-404a-a8fe-67e358d8e5e9",
   "metadata": {},
   "outputs": [
    {
     "data": {
      "text/html": [
       "<div>\n",
       "<style scoped>\n",
       "    .dataframe tbody tr th:only-of-type {\n",
       "        vertical-align: middle;\n",
       "    }\n",
       "\n",
       "    .dataframe tbody tr th {\n",
       "        vertical-align: top;\n",
       "    }\n",
       "\n",
       "    .dataframe thead th {\n",
       "        text-align: right;\n",
       "    }\n",
       "</style>\n",
       "<table border=\"1\" class=\"dataframe\">\n",
       "  <thead>\n",
       "    <tr style=\"text-align: right;\">\n",
       "      <th></th>\n",
       "      <th>code</th>\n",
       "      <th>continent</th>\n",
       "      <th>country</th>\n",
       "      <th>date</th>\n",
       "      <th>total_cases_per_million</th>\n",
       "      <th>total_deaths_per_million</th>\n",
       "      <th>population_density</th>\n",
       "      <th>cardiovasc_death_rate</th>\n",
       "      <th>diabetes_prevalence</th>\n",
       "      <th>life_expectancy</th>\n",
       "      <th>hdi</th>\n",
       "    </tr>\n",
       "  </thead>\n",
       "  <tbody>\n",
       "  </tbody>\n",
       "</table>\n",
       "</div>"
      ],
      "text/plain": [
       "Empty DataFrame\n",
       "Columns: [code, continent, country, date, total_cases_per_million, total_deaths_per_million, population_density, cardiovasc_death_rate, diabetes_prevalence, life_expectancy, hdi]\n",
       "Index: []"
      ]
     },
     "execution_count": 14,
     "metadata": {},
     "output_type": "execute_result"
    }
   ],
   "source": [
    "raros2"
   ]
  },
  {
   "cell_type": "code",
   "execution_count": 15,
   "id": "1ba7d29a-471e-4759-abea-c0f9b1b50e45",
   "metadata": {},
   "outputs": [
    {
     "name": "stderr",
     "output_type": "stream",
     "text": [
      "/home/manuel/miniconda3/lib/python3.9/site-packages/seaborn/_decorators.py:36: FutureWarning: Pass the following variable as a keyword arg: x. From version 0.12, the only valid positional argument will be `data`, and passing other arguments without an explicit keyword will result in an error or misinterpretation.\n",
      "  warnings.warn(\n"
     ]
    },
    {
     "data": {
      "text/plain": [
       "<AxesSubplot:xlabel='hdi'>"
      ]
     },
     "execution_count": 15,
     "metadata": {},
     "output_type": "execute_result"
    },
    {
     "data": {
      "image/png": "[encoded data removed]",
      "text/plain": [
       "<Figure size 432x288 with 1 Axes>"
      ]
     },
     "metadata": {},
     "output_type": "display_data"
    }
   ],
   "source": [
    "sns.boxplot(df_nona['hdi'])"
   ]
  },
  {
   "cell_type": "code",
   "execution_count": 16,
   "id": "d5997651-4388-4c2e-bea3-6b8ada06314b",
   "metadata": {},
   "outputs": [
    {
     "name": "stderr",
     "output_type": "stream",
     "text": [
      "/home/manuel/miniconda3/lib/python3.9/site-packages/seaborn/_decorators.py:36: FutureWarning: Pass the following variable as a keyword arg: x. From version 0.12, the only valid positional argument will be `data`, and passing other arguments without an explicit keyword will result in an error or misinterpretation.\n",
      "  warnings.warn(\n"
     ]
    },
    {
     "data": {
      "text/plain": [
       "<AxesSubplot:xlabel='life_expectancy'>"
      ]
     },
     "execution_count": 16,
     "metadata": {},
     "output_type": "execute_result"
    },
    {
     "data": {
      "image/png": "[encoded data removed]",
      "text/plain": [
       "<Figure size 432x288 with 1 Axes>"
      ]
     },
     "metadata": {},
     "output_type": "display_data"
    }
   ],
   "source": [
    "sns.boxplot(df_nona['life_expectancy'])"
   ]
  },
  {
   "cell_type": "code",
   "execution_count": 17,
   "id": "a73ec0de-e5e9-47ff-9251-7aeb200056e3",
   "metadata": {},
   "outputs": [
    {
     "name": "stderr",
     "output_type": "stream",
     "text": [
      "/home/manuel/miniconda3/lib/python3.9/site-packages/seaborn/_decorators.py:36: FutureWarning: Pass the following variable as a keyword arg: x. From version 0.12, the only valid positional argument will be `data`, and passing other arguments without an explicit keyword will result in an error or misinterpretation.\n",
      "  warnings.warn(\n"
     ]
    },
    {
     "data": {
      "text/plain": [
       "<AxesSubplot:xlabel='total_cases_per_million'>"
      ]
     },
     "execution_count": 17,
     "metadata": {},
     "output_type": "execute_result"
    },
    {
     "data": {
      "image/png": "[encoded data removed]",
      "text/plain": [
       "<Figure size 432x288 with 1 Axes>"
      ]
     },
     "metadata": {},
     "output_type": "display_data"
    }
   ],
   "source": [
    "sns.boxplot(df_nona['total_cases_per_million'])"
   ]
  },
  {
   "cell_type": "code",
   "execution_count": 18,
   "id": "578592e2-ec1c-4789-8b25-ffe1819c94a1",
   "metadata": {},
   "outputs": [
    {
     "data": {
      "text/html": [
       "<div>\n",
       "<style scoped>\n",
       "    .dataframe tbody tr th:only-of-type {\n",
       "        vertical-align: middle;\n",
       "    }\n",
       "\n",
       "    .dataframe tbody tr th {\n",
       "        vertical-align: top;\n",
       "    }\n",
       "\n",
       "    .dataframe thead th {\n",
       "        text-align: right;\n",
       "    }\n",
       "</style>\n",
       "<table border=\"1\" class=\"dataframe\">\n",
       "  <thead>\n",
       "    <tr style=\"text-align: right;\">\n",
       "      <th></th>\n",
       "      <th>code</th>\n",
       "      <th>continent</th>\n",
       "      <th>country</th>\n",
       "      <th>date</th>\n",
       "      <th>total_cases_per_million</th>\n",
       "      <th>total_deaths_per_million</th>\n",
       "      <th>population_density</th>\n",
       "      <th>cardiovasc_death_rate</th>\n",
       "      <th>diabetes_prevalence</th>\n",
       "      <th>life_expectancy</th>\n",
       "      <th>hdi</th>\n",
       "    </tr>\n",
       "  </thead>\n",
       "  <tbody>\n",
       "    <tr>\n",
       "      <th>0</th>\n",
       "      <td>AFG</td>\n",
       "      <td>Asia</td>\n",
       "      <td>Afghanistan</td>\n",
       "      <td>09/12/2021</td>\n",
       "      <td>3955.901</td>\n",
       "      <td>183.781</td>\n",
       "      <td>54.422</td>\n",
       "      <td>597.029</td>\n",
       "      <td>9.59</td>\n",
       "      <td>64.83</td>\n",
       "      <td>0.511</td>\n",
       "    </tr>\n",
       "    <tr>\n",
       "      <th>1</th>\n",
       "      <td>ALB</td>\n",
       "      <td>Europe</td>\n",
       "      <td>Albania</td>\n",
       "      <td>09/12/2021</td>\n",
       "      <td>70611.786</td>\n",
       "      <td>1088.782</td>\n",
       "      <td>104.871</td>\n",
       "      <td>304.195</td>\n",
       "      <td>10.08</td>\n",
       "      <td>78.57</td>\n",
       "      <td>0.795</td>\n",
       "    </tr>\n",
       "    <tr>\n",
       "      <th>2</th>\n",
       "      <td>DZA</td>\n",
       "      <td>Africa</td>\n",
       "      <td>Algeria</td>\n",
       "      <td>09/12/2021</td>\n",
       "      <td>4756.612</td>\n",
       "      <td>137.303</td>\n",
       "      <td>17.348</td>\n",
       "      <td>278.364</td>\n",
       "      <td>6.73</td>\n",
       "      <td>76.88</td>\n",
       "      <td>0.748</td>\n",
       "    </tr>\n",
       "    <tr>\n",
       "      <th>3</th>\n",
       "      <td>AND</td>\n",
       "      <td>Europe</td>\n",
       "      <td>Andorra</td>\n",
       "      <td>09/12/2021</td>\n",
       "      <td>249140.316</td>\n",
       "      <td>1719.368</td>\n",
       "      <td>163.755</td>\n",
       "      <td>109.135</td>\n",
       "      <td>7.97</td>\n",
       "      <td>83.73</td>\n",
       "      <td>0.868</td>\n",
       "    </tr>\n",
       "    <tr>\n",
       "      <th>4</th>\n",
       "      <td>AGO</td>\n",
       "      <td>Africa</td>\n",
       "      <td>Angola</td>\n",
       "      <td>09/12/2021</td>\n",
       "      <td>1925.701</td>\n",
       "      <td>51.159</td>\n",
       "      <td>23.890</td>\n",
       "      <td>276.045</td>\n",
       "      <td>3.94</td>\n",
       "      <td>61.15</td>\n",
       "      <td>0.581</td>\n",
       "    </tr>\n",
       "  </tbody>\n",
       "</table>\n",
       "</div>"
      ],
      "text/plain": [
       "  code continent      country        date  total_cases_per_million  \\\n",
       "0  AFG      Asia  Afghanistan  09/12/2021                 3955.901   \n",
       "1  ALB    Europe      Albania  09/12/2021                70611.786   \n",
       "2  DZA    Africa      Algeria  09/12/2021                 4756.612   \n",
       "3  AND    Europe      Andorra  09/12/2021               249140.316   \n",
       "4  AGO    Africa       Angola  09/12/2021                 1925.701   \n",
       "\n",
       "   total_deaths_per_million  population_density  cardiovasc_death_rate  \\\n",
       "0                   183.781              54.422                597.029   \n",
       "1                  1088.782             104.871                304.195   \n",
       "2                   137.303              17.348                278.364   \n",
       "3                  1719.368             163.755                109.135   \n",
       "4                    51.159              23.890                276.045   \n",
       "\n",
       "   diabetes_prevalence  life_expectancy    hdi  \n",
       "0                 9.59            64.83  0.511  \n",
       "1                10.08            78.57  0.795  \n",
       "2                 6.73            76.88  0.748  \n",
       "3                 7.97            83.73  0.868  \n",
       "4                 3.94            61.15  0.581  "
      ]
     },
     "execution_count": 18,
     "metadata": {},
     "output_type": "execute_result"
    }
   ],
   "source": [
    "df_nona.head()"
   ]
  },
  {
   "cell_type": "code",
   "execution_count": 19,
   "id": "8739cda6-cc0e-49a2-9a4c-d329a74d0aa8",
   "metadata": {},
   "outputs": [
    {
     "data": {
      "text/html": [
       "<div>\n",
       "<style scoped>\n",
       "    .dataframe tbody tr th:only-of-type {\n",
       "        vertical-align: middle;\n",
       "    }\n",
       "\n",
       "    .dataframe tbody tr th {\n",
       "        vertical-align: top;\n",
       "    }\n",
       "\n",
       "    .dataframe thead th {\n",
       "        text-align: right;\n",
       "    }\n",
       "</style>\n",
       "<table border=\"1\" class=\"dataframe\">\n",
       "  <thead>\n",
       "    <tr style=\"text-align: right;\">\n",
       "      <th></th>\n",
       "      <th>code</th>\n",
       "      <th>continent</th>\n",
       "      <th>country</th>\n",
       "      <th>date</th>\n",
       "      <th>total_cases_per_million</th>\n",
       "      <th>total_deaths_per_million</th>\n",
       "      <th>population_density</th>\n",
       "      <th>cardiovasc_death_rate</th>\n",
       "      <th>diabetes_prevalence</th>\n",
       "      <th>life_expectancy</th>\n",
       "      <th>hdi</th>\n",
       "    </tr>\n",
       "  </thead>\n",
       "  <tbody>\n",
       "    <tr>\n",
       "      <th>118</th>\n",
       "      <td>MNE</td>\n",
       "      <td>Europe</td>\n",
       "      <td>Montenegro</td>\n",
       "      <td>09/12/2021</td>\n",
       "      <td>253504.891</td>\n",
       "      <td>3728.997</td>\n",
       "      <td>46.280</td>\n",
       "      <td>387.305</td>\n",
       "      <td>10.08</td>\n",
       "      <td>76.88</td>\n",
       "      <td>0.829</td>\n",
       "    </tr>\n",
       "    <tr>\n",
       "      <th>3</th>\n",
       "      <td>AND</td>\n",
       "      <td>Europe</td>\n",
       "      <td>Andorra</td>\n",
       "      <td>09/12/2021</td>\n",
       "      <td>249140.316</td>\n",
       "      <td>1719.368</td>\n",
       "      <td>163.755</td>\n",
       "      <td>109.135</td>\n",
       "      <td>7.97</td>\n",
       "      <td>83.73</td>\n",
       "      <td>0.868</td>\n",
       "    </tr>\n",
       "    <tr>\n",
       "      <th>155</th>\n",
       "      <td>SYC</td>\n",
       "      <td>Africa</td>\n",
       "      <td>Seychelles</td>\n",
       "      <td>09/12/2021</td>\n",
       "      <td>240683.450</td>\n",
       "      <td>1304.216</td>\n",
       "      <td>208.354</td>\n",
       "      <td>242.648</td>\n",
       "      <td>10.55</td>\n",
       "      <td>73.40</td>\n",
       "      <td>0.796</td>\n",
       "    </tr>\n",
       "    <tr>\n",
       "      <th>158</th>\n",
       "      <td>SVK</td>\n",
       "      <td>Europe</td>\n",
       "      <td>Slovakia</td>\n",
       "      <td>09/12/2021</td>\n",
       "      <td>231664.434</td>\n",
       "      <td>2779.667</td>\n",
       "      <td>113.128</td>\n",
       "      <td>287.959</td>\n",
       "      <td>7.29</td>\n",
       "      <td>77.54</td>\n",
       "      <td>0.860</td>\n",
       "    </tr>\n",
       "    <tr>\n",
       "      <th>64</th>\n",
       "      <td>GEO</td>\n",
       "      <td>Asia</td>\n",
       "      <td>Georgia</td>\n",
       "      <td>09/12/2021</td>\n",
       "      <td>220959.336</td>\n",
       "      <td>3161.487</td>\n",
       "      <td>65.032</td>\n",
       "      <td>496.218</td>\n",
       "      <td>7.11</td>\n",
       "      <td>73.77</td>\n",
       "      <td>0.812</td>\n",
       "    </tr>\n",
       "    <tr>\n",
       "      <th>...</th>\n",
       "      <td>...</td>\n",
       "      <td>...</td>\n",
       "      <td>...</td>\n",
       "      <td>...</td>\n",
       "      <td>...</td>\n",
       "      <td>...</td>\n",
       "      <td>...</td>\n",
       "      <td>...</td>\n",
       "      <td>...</td>\n",
       "      <td>...</td>\n",
       "      <td>...</td>\n",
       "    </tr>\n",
       "    <tr>\n",
       "      <th>189</th>\n",
       "      <td>VUT</td>\n",
       "      <td>Oceania</td>\n",
       "      <td>Vanuatu</td>\n",
       "      <td>09/12/2021</td>\n",
       "      <td>19.080</td>\n",
       "      <td>3.180</td>\n",
       "      <td>22.662</td>\n",
       "      <td>546.300</td>\n",
       "      <td>12.02</td>\n",
       "      <td>70.47</td>\n",
       "      <td>0.609</td>\n",
       "    </tr>\n",
       "    <tr>\n",
       "      <th>91</th>\n",
       "      <td>KIR</td>\n",
       "      <td>Oceania</td>\n",
       "      <td>Kiribati</td>\n",
       "      <td>09/12/2021</td>\n",
       "      <td>16.476</td>\n",
       "      <td>NaN</td>\n",
       "      <td>143.701</td>\n",
       "      <td>434.657</td>\n",
       "      <td>22.66</td>\n",
       "      <td>68.37</td>\n",
       "      <td>0.630</td>\n",
       "    </tr>\n",
       "    <tr>\n",
       "      <th>149</th>\n",
       "      <td>WSM</td>\n",
       "      <td>Oceania</td>\n",
       "      <td>Samoa</td>\n",
       "      <td>09/12/2021</td>\n",
       "      <td>14.989</td>\n",
       "      <td>NaN</td>\n",
       "      <td>69.413</td>\n",
       "      <td>348.977</td>\n",
       "      <td>9.21</td>\n",
       "      <td>73.32</td>\n",
       "      <td>0.715</td>\n",
       "    </tr>\n",
       "    <tr>\n",
       "      <th>178</th>\n",
       "      <td>TON</td>\n",
       "      <td>Oceania</td>\n",
       "      <td>Tonga</td>\n",
       "      <td>09/12/2021</td>\n",
       "      <td>9.367</td>\n",
       "      <td>NaN</td>\n",
       "      <td>150.028</td>\n",
       "      <td>227.490</td>\n",
       "      <td>15.42</td>\n",
       "      <td>70.91</td>\n",
       "      <td>0.725</td>\n",
       "    </tr>\n",
       "    <tr>\n",
       "      <th>114</th>\n",
       "      <td>FSM</td>\n",
       "      <td>Oceania</td>\n",
       "      <td>Micronesia</td>\n",
       "      <td>09/12/2021</td>\n",
       "      <td>8.602</td>\n",
       "      <td>NaN</td>\n",
       "      <td>150.777</td>\n",
       "      <td>454.343</td>\n",
       "      <td>12.02</td>\n",
       "      <td>67.88</td>\n",
       "      <td>0.620</td>\n",
       "    </tr>\n",
       "  </tbody>\n",
       "</table>\n",
       "<p>188 rows × 11 columns</p>\n",
       "</div>"
      ],
      "text/plain": [
       "    code continent     country        date  total_cases_per_million  \\\n",
       "118  MNE    Europe  Montenegro  09/12/2021               253504.891   \n",
       "3    AND    Europe     Andorra  09/12/2021               249140.316   \n",
       "155  SYC    Africa  Seychelles  09/12/2021               240683.450   \n",
       "158  SVK    Europe    Slovakia  09/12/2021               231664.434   \n",
       "64   GEO      Asia     Georgia  09/12/2021               220959.336   \n",
       "..   ...       ...         ...         ...                      ...   \n",
       "189  VUT   Oceania     Vanuatu  09/12/2021                   19.080   \n",
       "91   KIR   Oceania    Kiribati  09/12/2021                   16.476   \n",
       "149  WSM   Oceania       Samoa  09/12/2021                   14.989   \n",
       "178  TON   Oceania       Tonga  09/12/2021                    9.367   \n",
       "114  FSM   Oceania  Micronesia  09/12/2021                    8.602   \n",
       "\n",
       "     total_deaths_per_million  population_density  cardiovasc_death_rate  \\\n",
       "118                  3728.997              46.280                387.305   \n",
       "3                    1719.368             163.755                109.135   \n",
       "155                  1304.216             208.354                242.648   \n",
       "158                  2779.667             113.128                287.959   \n",
       "64                   3161.487              65.032                496.218   \n",
       "..                        ...                 ...                    ...   \n",
       "189                     3.180              22.662                546.300   \n",
       "91                        NaN             143.701                434.657   \n",
       "149                       NaN              69.413                348.977   \n",
       "178                       NaN             150.028                227.490   \n",
       "114                       NaN             150.777                454.343   \n",
       "\n",
       "     diabetes_prevalence  life_expectancy    hdi  \n",
       "118                10.08            76.88  0.829  \n",
       "3                   7.97            83.73  0.868  \n",
       "155                10.55            73.40  0.796  \n",
       "158                 7.29            77.54  0.860  \n",
       "64                  7.11            73.77  0.812  \n",
       "..                   ...              ...    ...  \n",
       "189                12.02            70.47  0.609  \n",
       "91                 22.66            68.37  0.630  \n",
       "149                 9.21            73.32  0.715  \n",
       "178                15.42            70.91  0.725  \n",
       "114                12.02            67.88  0.620  \n",
       "\n",
       "[188 rows x 11 columns]"
      ]
     },
     "execution_count": 19,
     "metadata": {},
     "output_type": "execute_result"
    }
   ],
   "source": [
    "df_nona.sort_values(by=['total_cases_per_million'], ascending=False)"
   ]
  },
  {
   "cell_type": "code",
   "execution_count": 20,
   "id": "ba0331eb-37ed-41c0-a142-fa591c997bc6",
   "metadata": {},
   "outputs": [],
   "source": [
    "df_nonaout = df_nona[df_nona.total_cases_per_million < 230000]"
   ]
  },
  {
   "cell_type": "code",
   "execution_count": 21,
   "id": "a16ba5b8-22a2-435c-8bc7-1ea0ebce736d",
   "metadata": {},
   "outputs": [
    {
     "name": "stdout",
     "output_type": "stream",
     "text": [
      "<class 'pandas.core.frame.DataFrame'>\n",
      "Int64Index: 184 entries, 0 to 195\n",
      "Data columns (total 11 columns):\n",
      " #   Column                    Non-Null Count  Dtype  \n",
      "---  ------                    --------------  -----  \n",
      " 0   code                      184 non-null    object \n",
      " 1   continent                 184 non-null    object \n",
      " 2   country                   184 non-null    object \n",
      " 3   date                      184 non-null    object \n",
      " 4   total_cases_per_million   184 non-null    float64\n",
      " 5   total_deaths_per_million  177 non-null    float64\n",
      " 6   population_density        182 non-null    float64\n",
      " 7   cardiovasc_death_rate     180 non-null    float64\n",
      " 8   diabetes_prevalence       183 non-null    float64\n",
      " 9   life_expectancy           184 non-null    float64\n",
      " 10  hdi                       184 non-null    float64\n",
      "dtypes: float64(7), object(4)\n",
      "memory usage: 17.2+ KB\n"
     ]
    }
   ],
   "source": [
    "df_nonaout.info()"
   ]
  },
  {
   "cell_type": "code",
   "execution_count": 22,
   "id": "e014f7ef-c095-4393-82d9-9d83eae6929b",
   "metadata": {},
   "outputs": [
    {
     "name": "stderr",
     "output_type": "stream",
     "text": [
      "/home/manuel/miniconda3/lib/python3.9/site-packages/seaborn/_decorators.py:36: FutureWarning: Pass the following variable as a keyword arg: x. From version 0.12, the only valid positional argument will be `data`, and passing other arguments without an explicit keyword will result in an error or misinterpretation.\n",
      "  warnings.warn(\n"
     ]
    },
    {
     "data": {
      "text/plain": [
       "<AxesSubplot:xlabel='total_cases_per_million'>"
      ]
     },
     "execution_count": 22,
     "metadata": {},
     "output_type": "execute_result"
    },
    {
     "data": {
      "image/png": "[encoded data removed]",
      "text/plain": [
       "<Figure size 432x288 with 1 Axes>"
      ]
     },
     "metadata": {},
     "output_type": "display_data"
    }
   ],
   "source": [
    "sns.boxplot(df_nonaout['total_cases_per_million'])"
   ]
  },
  {
   "cell_type": "markdown",
   "id": "f57a7beb-f9b6-42d2-acbf-ab317d0068c6",
   "metadata": {},
   "source": [
    "Aquí comienza la regresión"
   ]
  },
  {
   "cell_type": "code",
   "execution_count": 23,
   "id": "3f5a9211-7fec-4576-ac67-d7ce2bd025cf",
   "metadata": {},
   "outputs": [],
   "source": [
    "lr = LinearRegression()"
   ]
  },
  {
   "cell_type": "code",
   "execution_count": 24,
   "id": "cb4829de-31e3-4b12-846c-fa287beb4cda",
   "metadata": {},
   "outputs": [
    {
     "data": {
      "text/plain": [
       "LinearRegression()"
      ]
     },
     "execution_count": 24,
     "metadata": {},
     "output_type": "execute_result"
    }
   ],
   "source": [
    "lr.fit(df_nonaout['hdi'].to_frame(), df_nonaout['total_cases_per_million'])"
   ]
  },
  {
   "cell_type": "code",
   "execution_count": 25,
   "id": "c10c5fce-4c15-4703-9add-974b093426b5",
   "metadata": {},
   "outputs": [
    {
     "data": {
      "text/plain": [
       "code                        0\n",
       "continent                   0\n",
       "country                     0\n",
       "date                        0\n",
       "total_cases_per_million     0\n",
       "total_deaths_per_million    7\n",
       "population_density          2\n",
       "cardiovasc_death_rate       4\n",
       "diabetes_prevalence         1\n",
       "life_expectancy             0\n",
       "hdi                         0\n",
       "dtype: int64"
      ]
     },
     "execution_count": 25,
     "metadata": {},
     "output_type": "execute_result"
    }
   ],
   "source": [
    "df_nonaout.isna().sum()"
   ]
  },
  {
   "cell_type": "code",
   "execution_count": 26,
   "id": "c545dc4a-751a-4500-b1f4-1ef02958ff55",
   "metadata": {},
   "outputs": [
    {
     "name": "stdout",
     "output_type": "stream",
     "text": [
      "<class 'pandas.core.frame.DataFrame'>\n",
      "Int64Index: 184 entries, 0 to 195\n",
      "Data columns (total 11 columns):\n",
      " #   Column                    Non-Null Count  Dtype  \n",
      "---  ------                    --------------  -----  \n",
      " 0   code                      184 non-null    object \n",
      " 1   continent                 184 non-null    object \n",
      " 2   country                   184 non-null    object \n",
      " 3   date                      184 non-null    object \n",
      " 4   total_cases_per_million   184 non-null    float64\n",
      " 5   total_deaths_per_million  177 non-null    float64\n",
      " 6   population_density        182 non-null    float64\n",
      " 7   cardiovasc_death_rate     180 non-null    float64\n",
      " 8   diabetes_prevalence       183 non-null    float64\n",
      " 9   life_expectancy           184 non-null    float64\n",
      " 10  hdi                       184 non-null    float64\n",
      "dtypes: float64(7), object(4)\n",
      "memory usage: 17.2+ KB\n"
     ]
    }
   ],
   "source": [
    "df_nonaout.info()"
   ]
  },
  {
   "cell_type": "markdown",
   "id": "118f3818-6168-4deb-abb2-a74221ec810e",
   "metadata": {},
   "source": [
    "Habiendo entrenado nuestro modelo, usamos nuestra variable x para poder predecir y"
   ]
  },
  {
   "cell_type": "code",
   "execution_count": 27,
   "id": "cbdff56e-8490-43a6-86dc-7107cfdeb59e",
   "metadata": {},
   "outputs": [],
   "source": [
    "y_predict = lr.predict(df_nonaout['hdi'].to_frame())"
   ]
  },
  {
   "cell_type": "code",
   "execution_count": 28,
   "id": "183d75b9-ec88-4a3f-863c-fb823bd11d66",
   "metadata": {},
   "outputs": [
    {
     "name": "stderr",
     "output_type": "stream",
     "text": [
      "/home/manuel/miniconda3/lib/python3.9/site-packages/seaborn/_decorators.py:36: FutureWarning: Pass the following variables as keyword args: x, y. From version 0.12, the only valid positional argument will be `data`, and passing other arguments without an explicit keyword will result in an error or misinterpretation.\n",
      "  warnings.warn(\n",
      "/home/manuel/miniconda3/lib/python3.9/site-packages/seaborn/_decorators.py:36: FutureWarning: Pass the following variables as keyword args: x, y. From version 0.12, the only valid positional argument will be `data`, and passing other arguments without an explicit keyword will result in an error or misinterpretation.\n",
      "  warnings.warn(\n"
     ]
    },
    {
     "data": {
      "image/png": "[encoded data removed]",
      "text/plain": [
       "<Figure size 432x288 with 1 Axes>"
      ]
     },
     "metadata": {},
     "output_type": "display_data"
    }
   ],
   "source": [
    "sns.scatterplot(df_nonaout['hdi'], df_nonaout['total_cases_per_million'], s=40);\n",
    "sns.scatterplot(df_nonaout['hdi'], y_predict, s=25);"
   ]
  },
  {
   "cell_type": "markdown",
   "id": "0a4a6168-2acc-4d2d-aa6a-4099900177de",
   "metadata": {},
   "source": [
    "Para obtener la ecuacion:"
   ]
  },
  {
   "cell_type": "code",
   "execution_count": 29,
   "id": "2289ee91-47ff-48b3-8506-fb23cc49d756",
   "metadata": {},
   "outputs": [],
   "source": [
    "intercept = lr.intercept_\n",
    "coefficient = lr.coef_[0]"
   ]
  },
  {
   "cell_type": "code",
   "execution_count": 30,
   "id": "2d170ec2-3892-4692-a110-a682f8ee8f76",
   "metadata": {},
   "outputs": [
    {
     "name": "stdout",
     "output_type": "stream",
     "text": [
      "y = 248957.23443046858 * x + -125506.40246741402\n"
     ]
    }
   ],
   "source": [
    "print(f'y = {coefficient} * x + {intercept}')"
   ]
  },
  {
   "cell_type": "markdown",
   "id": "84e87500-d71c-494c-bbac-230c8f7b2286",
   "metadata": {},
   "source": [
    "Obtenemos el R2 de nuestro modelo"
   ]
  },
  {
   "cell_type": "code",
   "execution_count": 31,
   "id": "21525ff3-64f2-4762-8708-684aa403a64f",
   "metadata": {},
   "outputs": [
    {
     "name": "stdout",
     "output_type": "stream",
     "text": [
      "{0.4730032854931948}\n"
     ]
    }
   ],
   "source": [
    "print({lr.score(df_nonaout['hdi'].to_frame(), df_nonaout['total_cases_per_million'])})"
   ]
  },
  {
   "cell_type": "markdown",
   "id": "9306693f-a15e-40d9-946f-a912b9b98ca8",
   "metadata": {},
   "source": [
    "Sin quitar los outliers de total cases per million"
   ]
  },
  {
   "cell_type": "code",
   "execution_count": 32,
   "id": "e870ce71-3f36-469d-8541-7d4bbfee2d5f",
   "metadata": {},
   "outputs": [
    {
     "name": "stdout",
     "output_type": "stream",
     "text": [
      "{0.43078177108574056}\n"
     ]
    }
   ],
   "source": [
    "print({lr.score(df_nona['hdi'].to_frame(), df_nona['total_cases_per_million'])})"
   ]
  },
  {
   "cell_type": "code",
   "execution_count": 33,
   "id": "a56c831e-7779-4303-8038-ab0caaf010f6",
   "metadata": {},
   "outputs": [
    {
     "data": {
      "text/plain": [
       "Text(0, 0.5, 'Casos totales por millon')"
      ]
     },
     "execution_count": 33,
     "metadata": {},
     "output_type": "execute_result"
    },
    {
     "data": {
      "image/png": "[encoded data removed]",
      "text/plain": [
       "<Figure size 432x288 with 1 Axes>"
      ]
     },
     "metadata": {},
     "output_type": "display_data"
    }
   ],
   "source": [
    "regresion = sns.regplot(x=\"hdi\", y=\"total_cases_per_million\", data=df)\n",
    "regresion.set_xlabel('Indice de Desarrollo Humano')\n",
    "regresion.set_ylabel('Casos totales por millon')"
   ]
  },
  {
   "cell_type": "code",
   "execution_count": 34,
   "id": "7c1ce34f-6be2-4fb4-ac9e-182b6330b7fe",
   "metadata": {},
   "outputs": [
    {
     "data": {
      "text/plain": [
       "Text(0, 0.5, 'Casos totales por millon')"
      ]
     },
     "execution_count": 34,
     "metadata": {},
     "output_type": "execute_result"
    },
    {
     "data": {
      "image/png": "[encoded data removed]",
      "text/plain": [
       "<Figure size 432x288 with 1 Axes>"
      ]
     },
     "metadata": {},
     "output_type": "display_data"
    }
   ],
   "source": [
    "regresion_2 = sns.regplot(x=\"hdi\", y=\"total_cases_per_million\", data=df, order=5, ci=None)\n",
    "regresion_2.set_xlabel('Indice de Desarrollo Humano')\n",
    "regresion_2.set_ylabel('Casos totales por millon')"
   ]
  },
  {
   "cell_type": "markdown",
   "id": "6115cf07-91a1-4f5f-93e5-e29d3cd0e929",
   "metadata": {},
   "source": [
    "Ahora haremos las regresiones multiples "
   ]
  },
  {
   "cell_type": "code",
   "execution_count": 35,
   "id": "708831e8-4242-4dbb-b2d7-3ad508b0c347",
   "metadata": {},
   "outputs": [],
   "source": [
    "from sklearn.model_selection import train_test_split"
   ]
  },
  {
   "cell_type": "markdown",
   "id": "9b3f4181-56ce-4ac4-a255-b5cb2bdae969",
   "metadata": {},
   "source": [
    "Establecemos nuestras variables independientes y nuestra variable dependiente"
   ]
  },
  {
   "cell_type": "code",
   "execution_count": 36,
   "id": "57a3143f-0434-4883-b072-098d9888dbb7",
   "metadata": {},
   "outputs": [],
   "source": [
    "X = df_nonaout[['hdi', 'life_expectancy']]\n",
    "y = df_nonaout['total_cases_per_million']"
   ]
  },
  {
   "cell_type": "markdown",
   "id": "d3a0ac1e-1ead-49d9-834c-e4e6c3f9e44e",
   "metadata": {},
   "source": [
    "Vamos a revolver el dataset antes de hacer la division, y solo tomaremos el 70% para hacer el training"
   ]
  },
  {
   "cell_type": "code",
   "execution_count": 37,
   "id": "6ae1c06e-0714-4536-bfb4-c92e07455719",
   "metadata": {},
   "outputs": [],
   "source": [
    "X_training, X_test, y_training, y_test = train_test_split(X, y, test_size=0.3, shuffle=True)"
   ]
  },
  {
   "cell_type": "code",
   "execution_count": 38,
   "id": "734338ef-8685-4a92-b884-8d868ec7570c",
   "metadata": {},
   "outputs": [
    {
     "data": {
      "text/plain": [
       "LinearRegression()"
      ]
     },
     "execution_count": 38,
     "metadata": {},
     "output_type": "execute_result"
    }
   ],
   "source": [
    "lr = LinearRegression()\n",
    "lr.fit(X_training, y_training)"
   ]
  },
  {
   "cell_type": "code",
   "execution_count": 39,
   "id": "d6e39f0c-adbd-422f-979a-5449394299fd",
   "metadata": {},
   "outputs": [
    {
     "data": {
      "text/plain": [
       "0.5925415493322823"
      ]
     },
     "execution_count": 39,
     "metadata": {},
     "output_type": "execute_result"
    }
   ],
   "source": [
    "lr.score(X_test, y_test)"
   ]
  },
  {
   "cell_type": "markdown",
   "id": "d4c1d06e-7c7c-4c95-8511-1daba1ac0a2e",
   "metadata": {},
   "source": [
    "Vemos que el R2 es menor que cuando hicimos la regresion lineal simple solo con el HDI"
   ]
  },
  {
   "cell_type": "markdown",
   "id": "35519286-604d-4a67-b2bd-22dbef2abd4a",
   "metadata": {},
   "source": [
    "Validacion cruzada. Ahora vamos a evaluar nuestro modelo predictivo"
   ]
  },
  {
   "cell_type": "markdown",
   "id": "3f1ccae3-efc7-47cb-8b2d-f66e6b00b8b3",
   "metadata": {},
   "source": [
    "### Validación Cruzada de K-Iteraciones\n",
    "\n",
    "\n",
    "1. Tomamos nuestro dataset y lo revolvemos aleatoriamente.\n",
    "\n",
    "2. Decidimos un número `K` que va a ser el número de subdivisiones en el que vamos a dividir a nuestro dataset.\n",
    "\n",
    "3. Para el primer entrenamiento, dejamos fuera la primera sección. Entrenamos usando la secciones restantes, probamos el modelo entrenado con la primera sección y evaluamos su desempeño.\n",
    "\n",
    "4. Volvemos a entrenar nuestro modelo, pero esta vez dejando fuera la segunda sección como dataset prueba. Entrenamos, probamos con la segunda sección y evaluamos el desempeño del modelo.\n",
    "\n",
    "5. Repetimos el proceso `K` veces. En cada iteración dejamos la sección siguiente como dataset de prueba.\n",
    "\n",
    "6. Tomamos todas las evaluaciones de los `K` entrenamientos (que en el caso de una Regresión Lineal Múltiple podrían ser coeficientes de determinación) y sacamos el promedio y la desviación estándar. Esto servirá como una medida del \"valor típico\" de desempeño y la incertidumbre que tiene nuestro modelo."
   ]
  },
  {
   "cell_type": "code",
   "execution_count": 40,
   "id": "a8123dd2-7973-43ab-a668-0d74a88100af",
   "metadata": {},
   "outputs": [],
   "source": [
    "from sklearn.model_selection import cross_validate"
   ]
  },
  {
   "cell_type": "code",
   "execution_count": 41,
   "id": "1c3f01d1-374b-4145-9e5c-1ea645f59e41",
   "metadata": {},
   "outputs": [],
   "source": [
    "scores = cross_validate(lr, X, y, scoring='r2')"
   ]
  },
  {
   "cell_type": "code",
   "execution_count": 42,
   "id": "c67c92a9-ae1f-4c37-8f8a-6fca853bec57",
   "metadata": {},
   "outputs": [
    {
     "data": {
      "text/plain": [
       "{'fit_time': array([0.0071187 , 0.00447011, 0.00510788, 0.00525522, 0.00458813]),\n",
       " 'score_time': array([0.0038693 , 0.00360036, 0.00637031, 0.00340581, 0.00449562]),\n",
       " 'test_score': array([0.46746823, 0.45059878, 0.4845299 , 0.31564131, 0.57496602])}"
      ]
     },
     "execution_count": 42,
     "metadata": {},
     "output_type": "execute_result"
    }
   ],
   "source": [
    "scores"
   ]
  },
  {
   "cell_type": "code",
   "execution_count": 43,
   "id": "ddd56717-cb0b-494f-b20a-3ea65a853b93",
   "metadata": {},
   "outputs": [
    {
     "name": "stdout",
     "output_type": "stream",
     "text": [
      "Score del modelo: 0.459 +/- 0.083\n"
     ]
    }
   ],
   "source": [
    "print(f'Score del modelo: {scores[\"test_score\"].mean():.3f} +/- {scores[\"test_score\"].std():.3f}')"
   ]
  },
  {
   "cell_type": "code",
   "execution_count": 46,
   "id": "804dbc29-1b0d-44ef-87b6-2b43b3d19e2b",
   "metadata": {},
   "outputs": [
    {
     "ename": "TypeError",
     "evalue": "'method' object is not subscriptable",
     "output_type": "error",
     "traceback": [
      "\u001b[0;31m---------------------------------------------------------------------------\u001b[0m",
      "\u001b[0;31mTypeError\u001b[0m                                 Traceback (most recent call last)",
      "Input \u001b[0;32mIn [46]\u001b[0m, in \u001b[0;36m<cell line: 1>\u001b[0;34m()\u001b[0m\n\u001b[0;32m----> 1\u001b[0m df_nonaout2 \u001b[38;5;241m=\u001b[39m df_nonaout\u001b[38;5;241m.\u001b[39mdropna[\u001b[38;5;124m'\u001b[39m\u001b[38;5;124mtotal_deaths_per_million\u001b[39m\u001b[38;5;124m'\u001b[39m]\n",
      "\u001b[0;31mTypeError\u001b[0m: 'method' object is not subscriptable"
     ]
    }
   ],
   "source": []
  }
 ],
 "metadata": {
  "kernelspec": {
   "display_name": "Python 3 (ipykernel)",
   "language": "python",
   "name": "python3"
  },
  "language_info": {
   "codemirror_mode": {
    "name": "ipython",
    "version": 3
   },
   "file_extension": ".py",
   "mimetype": "text/x-python",
   "name": "python",
   "nbconvert_exporter": "python",
   "pygments_lexer": "ipython3",
   "version": "3.9.7"
  }
 },
 "nbformat": 4,
 "nbformat_minor": 5
}
