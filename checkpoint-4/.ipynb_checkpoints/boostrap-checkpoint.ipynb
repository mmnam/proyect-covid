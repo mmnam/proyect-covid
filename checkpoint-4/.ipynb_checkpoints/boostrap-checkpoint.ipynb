{
 "cells": [
  {
   "cell_type": "markdown",
   "id": "73fb8702-48c9-4ade-8380-46f9eedf9120",
   "metadata": {},
   "source": [
    "Hacemos el boostrap"
   ]
  },
  {
   "cell_type": "markdown",
   "id": "e5db0f04-c419-4fc4-a097-984728742fc8",
   "metadata": {},
   "source": [
    "Primero limpiamos la base de datos"
   ]
  },
  {
   "cell_type": "markdown",
   "id": "92ed2c7e-f880-4286-aa1b-fb2c851d4659",
   "metadata": {},
   "source": [
    "### b) Bootstrap\n",
    "\n",
    "El Bootstrap nos sirve para generar lo que se llaman distribuciones muestrales de estadísticas. Esto es un histograma de una medida estadística cuantificada utilizando un gran número de remuestreos. ¿Para qué queremos hacer esto? Para calcular la incertidumbre de nuestra medida estadística. Dado que no podemos regresar a la fuente original, vamos a crear 'nuevas muestras' a partir de la que tenemos, con el fin de simular qué pasaría si regresáramos a la fuente original a tomar más muestras. El algoritmo es el siguiente:\n",
    "\n",
    "1. Toma un elemento de tu conjunto de datos de manera aleatoria con reposición.\n",
    "2. Repite el paso 1 `n` veces (entre más grande tu `n`, más preciso tu cálculo; pero no tiene sentido que sea tan grande como el tamaño de tu muestra).\n",
    "3. Toma la medida estadística que te interese de tus valores remuestreados.\n",
    "4. Repite los pasos 1 a 3 `R` veces (entre mayor sea `R`, más preciso tu cálculo).\n",
    "5. Utiliza las medidas obtenidas para:\n",
    "  a) Generar un histograma o boxplot\n",
    "  b) Calcular el error estándar\n",
    "  c) Calcular un intervalo de confianza\n",
    "  \n",
    "Nuestro cálculo va a resultar más exacto si `n` y `R` son lo más grandes posibles. Pero el boostrapping es un proceso que toma mucho tiempo y poder computacional, así que si nuestro dataset es muy grande habrá que disminuir estos valores hasta que el procedimiento completo tome una cantidad decente de tiempo.\n",
    "\n",
    "Vamos a realizar estos pasos y llevar a cabo el inciso *a* del paso 5:"
   ]
  },
  {
   "cell_type": "code",
   "execution_count": 1,
   "id": "0c2870fa-305f-4238-9bb1-e8c3b5015872",
   "metadata": {},
   "outputs": [],
   "source": [
    "import pandas as pd\n",
    "import matplotlib.pyplot as plt\n",
    "import seaborn as sns"
   ]
  },
  {
   "cell_type": "code",
   "execution_count": 2,
   "id": "ed991c10-b95a-4ec2-92f7-8fb1b025b3ba",
   "metadata": {},
   "outputs": [
    {
     "data": {
      "text/html": [
       "<div>\n",
       "<style scoped>\n",
       "    .dataframe tbody tr th:only-of-type {\n",
       "        vertical-align: middle;\n",
       "    }\n",
       "\n",
       "    .dataframe tbody tr th {\n",
       "        vertical-align: top;\n",
       "    }\n",
       "\n",
       "    .dataframe thead th {\n",
       "        text-align: right;\n",
       "    }\n",
       "</style>\n",
       "<table border=\"1\" class=\"dataframe\">\n",
       "  <thead>\n",
       "    <tr style=\"text-align: right;\">\n",
       "      <th></th>\n",
       "      <th>code</th>\n",
       "      <th>continent</th>\n",
       "      <th>country</th>\n",
       "      <th>date</th>\n",
       "      <th>total_cases_per_million</th>\n",
       "      <th>total_deaths_per_million</th>\n",
       "      <th>population_density</th>\n",
       "      <th>cardiovasc_death_rate</th>\n",
       "      <th>diabetes_prevalence</th>\n",
       "      <th>life_expectancy</th>\n",
       "      <th>hdi</th>\n",
       "    </tr>\n",
       "  </thead>\n",
       "  <tbody>\n",
       "    <tr>\n",
       "      <th>0</th>\n",
       "      <td>AFG</td>\n",
       "      <td>Asia</td>\n",
       "      <td>Afghanistan</td>\n",
       "      <td>09/12/2021</td>\n",
       "      <td>3955.901</td>\n",
       "      <td>183.781</td>\n",
       "      <td>54.422</td>\n",
       "      <td>597.029</td>\n",
       "      <td>9.59</td>\n",
       "      <td>64.83</td>\n",
       "      <td>0.511</td>\n",
       "    </tr>\n",
       "    <tr>\n",
       "      <th>1</th>\n",
       "      <td>ALB</td>\n",
       "      <td>Europe</td>\n",
       "      <td>Albania</td>\n",
       "      <td>09/12/2021</td>\n",
       "      <td>70611.786</td>\n",
       "      <td>1088.782</td>\n",
       "      <td>104.871</td>\n",
       "      <td>304.195</td>\n",
       "      <td>10.08</td>\n",
       "      <td>78.57</td>\n",
       "      <td>0.795</td>\n",
       "    </tr>\n",
       "    <tr>\n",
       "      <th>2</th>\n",
       "      <td>DZA</td>\n",
       "      <td>Africa</td>\n",
       "      <td>Algeria</td>\n",
       "      <td>09/12/2021</td>\n",
       "      <td>4756.612</td>\n",
       "      <td>137.303</td>\n",
       "      <td>17.348</td>\n",
       "      <td>278.364</td>\n",
       "      <td>6.73</td>\n",
       "      <td>76.88</td>\n",
       "      <td>0.748</td>\n",
       "    </tr>\n",
       "    <tr>\n",
       "      <th>3</th>\n",
       "      <td>AND</td>\n",
       "      <td>Europe</td>\n",
       "      <td>Andorra</td>\n",
       "      <td>09/12/2021</td>\n",
       "      <td>249140.316</td>\n",
       "      <td>1719.368</td>\n",
       "      <td>163.755</td>\n",
       "      <td>109.135</td>\n",
       "      <td>7.97</td>\n",
       "      <td>83.73</td>\n",
       "      <td>0.868</td>\n",
       "    </tr>\n",
       "    <tr>\n",
       "      <th>4</th>\n",
       "      <td>AGO</td>\n",
       "      <td>Africa</td>\n",
       "      <td>Angola</td>\n",
       "      <td>09/12/2021</td>\n",
       "      <td>1925.701</td>\n",
       "      <td>51.159</td>\n",
       "      <td>23.890</td>\n",
       "      <td>276.045</td>\n",
       "      <td>3.94</td>\n",
       "      <td>61.15</td>\n",
       "      <td>0.581</td>\n",
       "    </tr>\n",
       "  </tbody>\n",
       "</table>\n",
       "</div>"
      ],
      "text/plain": [
       "  code continent      country        date  total_cases_per_million  \\\n",
       "0  AFG      Asia  Afghanistan  09/12/2021                 3955.901   \n",
       "1  ALB    Europe      Albania  09/12/2021                70611.786   \n",
       "2  DZA    Africa      Algeria  09/12/2021                 4756.612   \n",
       "3  AND    Europe      Andorra  09/12/2021               249140.316   \n",
       "4  AGO    Africa       Angola  09/12/2021                 1925.701   \n",
       "\n",
       "   total_deaths_per_million  population_density  cardiovasc_death_rate  \\\n",
       "0                   183.781              54.422                597.029   \n",
       "1                  1088.782             104.871                304.195   \n",
       "2                   137.303              17.348                278.364   \n",
       "3                  1719.368             163.755                109.135   \n",
       "4                    51.159              23.890                276.045   \n",
       "\n",
       "   diabetes_prevalence  life_expectancy    hdi  \n",
       "0                 9.59            64.83  0.511  \n",
       "1                10.08            78.57  0.795  \n",
       "2                 6.73            76.88  0.748  \n",
       "3                 7.97            83.73  0.868  \n",
       "4                 3.94            61.15  0.581  "
      ]
     },
     "execution_count": 2,
     "metadata": {},
     "output_type": "execute_result"
    }
   ],
   "source": [
    "df=pd.read_csv(\"/home/manuel/Documents/Bedu/proyecto-covid/datasets/paises.csv\")\n",
    "df.head()"
   ]
  },
  {
   "cell_type": "code",
   "execution_count": 3,
   "id": "800dc60a-d345-48b1-93c5-6f22485fc3b7",
   "metadata": {},
   "outputs": [],
   "source": [
    "df_nona = df.dropna(subset = ['total_cases_per_million', 'hdi']) #para quitar na en columnas especificas"
   ]
  },
  {
   "cell_type": "code",
   "execution_count": 4,
   "id": "92ca1320-e5fd-499f-b92b-72bbaa126480",
   "metadata": {},
   "outputs": [],
   "source": [
    "df_nonaout = df_nona[df_nona.total_cases_per_million < 230000] #para quitar los outliers de esta variable"
   ]
  },
  {
   "cell_type": "raw",
   "id": "e80cc88c-0f29-40b4-b575-71b8c76cc90c",
   "metadata": {},
   "source": [
    "Vamos a tomar una muestra de la variable de HDI, sin reposicion "
   ]
  },
  {
   "cell_type": "code",
   "execution_count": 5,
   "id": "f7969268-89f0-481f-94e4-e0ad346bc0f5",
   "metadata": {},
   "outputs": [
    {
     "data": {
      "text/plain": [
       "35     0.761\n",
       "108    0.434\n",
       "22     0.735\n",
       "171    0.567\n",
       "99     0.724\n",
       "175    0.777\n",
       "106    0.810\n",
       "156    0.452\n",
       "151    0.625\n",
       "123    0.602\n",
       "161      NaN\n",
       "23     0.765\n",
       "130    0.957\n",
       "139    0.718\n",
       "88     0.729\n",
       "136    0.555\n",
       "12     0.852\n",
       "160    0.567\n",
       "153    0.512\n",
       "166    0.782\n",
       "Name: hdi, dtype: float64"
      ]
     },
     "execution_count": 5,
     "metadata": {},
     "output_type": "execute_result"
    }
   ],
   "source": [
    "df['hdi'].sample(n=20, replace=False)"
   ]
  },
  {
   "cell_type": "markdown",
   "id": "110c975b-5729-4a8b-b0c2-f3fca12131a5",
   "metadata": {},
   "source": [
    "Aqui tenemos el código que hace el bootstrap"
   ]
  },
  {
   "cell_type": "code",
   "execution_count": 7,
   "id": "e0d9784f-2b0d-41b0-a494-2ba42679ed18",
   "metadata": {},
   "outputs": [],
   "source": [
    "hdi = df['hdi']\n",
    "\n",
    "means = []\n",
    "\n",
    "for i in range(100_000):\n",
    "    sample = hdi.sample(n=50, replace=True)\n",
    "    means.append(sample.mean())\n",
    "    \n",
    "serie_means = pd.Series(means)"
   ]
  },
  {
   "cell_type": "code",
   "execution_count": 8,
   "id": "137f1abb-2625-4ff2-8ec4-91521f1ef065",
   "metadata": {},
   "outputs": [
    {
     "name": "stderr",
     "output_type": "stream",
     "text": [
      "/home/manuel/miniconda3/lib/python3.9/site-packages/seaborn/distributions.py:2619: FutureWarning: `distplot` is a deprecated function and will be removed in a future version. Please adapt your code to use either `displot` (a figure-level function with similar flexibility) or `histplot` (an axes-level function for histograms).\n",
      "  warnings.warn(msg, FutureWarning)\n"
     ]
    },
    {
     "data": {
      "image/png": "[encoded data removed]",
      "text/plain": [
       "<Figure size 432x288 with 1 Axes>"
      ]
     },
     "metadata": {
      "needs_background": "light"
     },
     "output_type": "display_data"
    }
   ],
   "source": [
    "sns.distplot(serie_means, kde=False, norm_hist=False);"
   ]
  },
  {
   "cell_type": "code",
   "execution_count": 9,
   "id": "2a8bce17-2f6b-4ca0-aa33-7f48ab2ee56d",
   "metadata": {},
   "outputs": [
    {
     "data": {
      "text/plain": [
       "-0.05221727717819215"
      ]
     },
     "execution_count": 9,
     "metadata": {},
     "output_type": "execute_result"
    }
   ],
   "source": [
    "serie_means.skew()"
   ]
  },
  {
   "cell_type": "code",
   "execution_count": 10,
   "id": "70d341f5-eaf3-4ae9-8a30-1b4bab1e9391",
   "metadata": {},
   "outputs": [
    {
     "data": {
      "text/plain": [
       "-0.018897177667608567"
      ]
     },
     "execution_count": 10,
     "metadata": {},
     "output_type": "execute_result"
    }
   ],
   "source": [
    "serie_means.kurtosis()"
   ]
  }
 ],
 "metadata": {
  "kernelspec": {
   "display_name": "Python 3 (ipykernel)",
   "language": "python",
   "name": "python3"
  },
  "language_info": {
   "codemirror_mode": {
    "name": "ipython",
    "version": 3
   },
   "file_extension": ".py",
   "mimetype": "text/x-python",
   "name": "python",
   "nbconvert_exporter": "python",
   "pygments_lexer": "ipython3",
   "version": "3.9.7"
  }
 },
 "nbformat": 4,
 "nbformat_minor": 5
}
