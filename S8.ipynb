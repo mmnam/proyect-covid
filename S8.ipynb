{
 "cells": [
  {
   "cell_type": "code",
   "execution_count": 39,
   "id": "59ec05c1-6499-4e3f-a8e4-12969c65d5bf",
   "metadata": {},
   "outputs": [],
   "source": [
    "import pandas as pd\n",
    "import seaborn as sns\n",
    "import matplotlib.pyplot as plt\n",
    "\n",
    "from IPython.display import Image\n",
    "from sklearn.linear_model import LogisticRegression\n",
    "from sklearn.model_selection import train_test_split\n",
    "import numpy as np\n",
    "from sklearn import metrics"
   ]
  },
  {
   "cell_type": "code",
   "execution_count": 3,
   "id": "ff0a5f92-a39a-439e-a170-84d68c97c235",
   "metadata": {},
   "outputs": [],
   "source": [
    "countries = pd.read_csv(\"Proyecto/countries.csv\")"
   ]
  },
  {
   "cell_type": "code",
   "execution_count": 4,
   "id": "00aabd5f-3aa7-4aa5-9340-3b94c8d064b2",
   "metadata": {},
   "outputs": [],
   "source": [
    "paises = pd.DataFrame(countries.loc[:, [\"continent\",\n",
    "                       \"location\",\n",
    "                       \"date\",\n",
    "                       'total_cases_per_million', \n",
    "                       \"total_deaths_per_million\"]])"
   ]
  },
  {
   "cell_type": "code",
   "execution_count": 5,
   "id": "684f0100-1c24-472e-8136-4bdfb7d514df",
   "metadata": {},
   "outputs": [],
   "source": [
    "from datetime import date, datetime, timedelta as td\n",
    "paises[\"date\"]  = pd.to_datetime(paises[\"date\"], format=\"%d/%m/%Y\")"
   ]
  },
  {
   "cell_type": "code",
   "execution_count": 6,
   "id": "fe909ce0-bc79-4cb2-87be-2d3f3aaf940a",
   "metadata": {},
   "outputs": [
    {
     "data": {
      "text/plain": [
       "continent                           object\n",
       "location                            object\n",
       "date                        datetime64[ns]\n",
       "total_cases_per_million            float64\n",
       "total_deaths_per_million           float64\n",
       "dtype: object"
      ]
     },
     "execution_count": 6,
     "metadata": {},
     "output_type": "execute_result"
    }
   ],
   "source": [
    "paises.dtypes"
   ]
  },
  {
   "cell_type": "code",
   "execution_count": 7,
   "id": "9a02bd47-4618-4933-88c9-173253745fb3",
   "metadata": {},
   "outputs": [],
   "source": [
    "# Función para obtener sólo el año en otra columna \n",
    "get_year = lambda x: x.year\n",
    "# Mapping para obtener sólo el año en otra columna \n",
    "paises[\"year\"] = paises[\"date\"].map(get_year)"
   ]
  },
  {
   "cell_type": "code",
   "execution_count": 8,
   "id": "ea0086e9-ebd7-4790-b02b-63239cd79ffa",
   "metadata": {},
   "outputs": [
    {
     "data": {
      "text/html": [
       "<div>\n",
       "<style scoped>\n",
       "    .dataframe tbody tr th:only-of-type {\n",
       "        vertical-align: middle;\n",
       "    }\n",
       "\n",
       "    .dataframe tbody tr th {\n",
       "        vertical-align: top;\n",
       "    }\n",
       "\n",
       "    .dataframe thead th {\n",
       "        text-align: right;\n",
       "    }\n",
       "</style>\n",
       "<table border=\"1\" class=\"dataframe\">\n",
       "  <thead>\n",
       "    <tr style=\"text-align: right;\">\n",
       "      <th></th>\n",
       "      <th>continent</th>\n",
       "      <th>location</th>\n",
       "      <th>date</th>\n",
       "      <th>total_cases_per_million</th>\n",
       "      <th>total_deaths_per_million</th>\n",
       "      <th>year</th>\n",
       "    </tr>\n",
       "  </thead>\n",
       "  <tbody>\n",
       "    <tr>\n",
       "      <th>0</th>\n",
       "      <td>Asia</td>\n",
       "      <td>Afghanistan</td>\n",
       "      <td>2020-02-24</td>\n",
       "      <td>0.126</td>\n",
       "      <td>NaN</td>\n",
       "      <td>2020</td>\n",
       "    </tr>\n",
       "    <tr>\n",
       "      <th>1</th>\n",
       "      <td>Asia</td>\n",
       "      <td>Afghanistan</td>\n",
       "      <td>2020-02-25</td>\n",
       "      <td>0.126</td>\n",
       "      <td>NaN</td>\n",
       "      <td>2020</td>\n",
       "    </tr>\n",
       "    <tr>\n",
       "      <th>2</th>\n",
       "      <td>Asia</td>\n",
       "      <td>Afghanistan</td>\n",
       "      <td>2020-02-26</td>\n",
       "      <td>0.126</td>\n",
       "      <td>NaN</td>\n",
       "      <td>2020</td>\n",
       "    </tr>\n",
       "    <tr>\n",
       "      <th>3</th>\n",
       "      <td>Asia</td>\n",
       "      <td>Afghanistan</td>\n",
       "      <td>2020-02-27</td>\n",
       "      <td>0.126</td>\n",
       "      <td>NaN</td>\n",
       "      <td>2020</td>\n",
       "    </tr>\n",
       "    <tr>\n",
       "      <th>4</th>\n",
       "      <td>Asia</td>\n",
       "      <td>Afghanistan</td>\n",
       "      <td>2020-02-28</td>\n",
       "      <td>0.126</td>\n",
       "      <td>NaN</td>\n",
       "      <td>2020</td>\n",
       "    </tr>\n",
       "    <tr>\n",
       "      <th>...</th>\n",
       "      <td>...</td>\n",
       "      <td>...</td>\n",
       "      <td>...</td>\n",
       "      <td>...</td>\n",
       "      <td>...</td>\n",
       "      <td>...</td>\n",
       "    </tr>\n",
       "    <tr>\n",
       "      <th>138936</th>\n",
       "      <td>Africa</td>\n",
       "      <td>Zimbabwe</td>\n",
       "      <td>2021-12-05</td>\n",
       "      <td>9213.121</td>\n",
       "      <td>312.082</td>\n",
       "      <td>2021</td>\n",
       "    </tr>\n",
       "    <tr>\n",
       "      <th>138937</th>\n",
       "      <td>Africa</td>\n",
       "      <td>Zimbabwe</td>\n",
       "      <td>2021-12-06</td>\n",
       "      <td>9213.121</td>\n",
       "      <td>312.082</td>\n",
       "      <td>2021</td>\n",
       "    </tr>\n",
       "    <tr>\n",
       "      <th>138938</th>\n",
       "      <td>Africa</td>\n",
       "      <td>Zimbabwe</td>\n",
       "      <td>2021-12-07</td>\n",
       "      <td>9382.414</td>\n",
       "      <td>312.281</td>\n",
       "      <td>2021</td>\n",
       "    </tr>\n",
       "    <tr>\n",
       "      <th>138939</th>\n",
       "      <td>Africa</td>\n",
       "      <td>Zimbabwe</td>\n",
       "      <td>2021-12-08</td>\n",
       "      <td>9980.539</td>\n",
       "      <td>312.745</td>\n",
       "      <td>2021</td>\n",
       "    </tr>\n",
       "    <tr>\n",
       "      <th>138940</th>\n",
       "      <td>Africa</td>\n",
       "      <td>Zimbabwe</td>\n",
       "      <td>2021-12-09</td>\n",
       "      <td>10324.360</td>\n",
       "      <td>312.944</td>\n",
       "      <td>2021</td>\n",
       "    </tr>\n",
       "  </tbody>\n",
       "</table>\n",
       "<p>138941 rows × 6 columns</p>\n",
       "</div>"
      ],
      "text/plain": [
       "       continent     location       date  total_cases_per_million  \\\n",
       "0           Asia  Afghanistan 2020-02-24                    0.126   \n",
       "1           Asia  Afghanistan 2020-02-25                    0.126   \n",
       "2           Asia  Afghanistan 2020-02-26                    0.126   \n",
       "3           Asia  Afghanistan 2020-02-27                    0.126   \n",
       "4           Asia  Afghanistan 2020-02-28                    0.126   \n",
       "...          ...          ...        ...                      ...   \n",
       "138936    Africa     Zimbabwe 2021-12-05                 9213.121   \n",
       "138937    Africa     Zimbabwe 2021-12-06                 9213.121   \n",
       "138938    Africa     Zimbabwe 2021-12-07                 9382.414   \n",
       "138939    Africa     Zimbabwe 2021-12-08                 9980.539   \n",
       "138940    Africa     Zimbabwe 2021-12-09                10324.360   \n",
       "\n",
       "        total_deaths_per_million  year  \n",
       "0                            NaN  2020  \n",
       "1                            NaN  2020  \n",
       "2                            NaN  2020  \n",
       "3                            NaN  2020  \n",
       "4                            NaN  2020  \n",
       "...                          ...   ...  \n",
       "138936                   312.082  2021  \n",
       "138937                   312.082  2021  \n",
       "138938                   312.281  2021  \n",
       "138939                   312.745  2021  \n",
       "138940                   312.944  2021  \n",
       "\n",
       "[138941 rows x 6 columns]"
      ]
     },
     "execution_count": 8,
     "metadata": {},
     "output_type": "execute_result"
    }
   ],
   "source": [
    "paises"
   ]
  },
  {
   "cell_type": "code",
   "execution_count": 29,
   "id": "1cdf6c71-6758-41ad-90a7-03794a6205a2",
   "metadata": {},
   "outputs": [
    {
     "data": {
      "text/html": [
       "<div>\n",
       "<style scoped>\n",
       "    .dataframe tbody tr th:only-of-type {\n",
       "        vertical-align: middle;\n",
       "    }\n",
       "\n",
       "    .dataframe tbody tr th {\n",
       "        vertical-align: top;\n",
       "    }\n",
       "\n",
       "    .dataframe thead th {\n",
       "        text-align: right;\n",
       "    }\n",
       "</style>\n",
       "<table border=\"1\" class=\"dataframe\">\n",
       "  <thead>\n",
       "    <tr style=\"text-align: right;\">\n",
       "      <th></th>\n",
       "      <th>continent</th>\n",
       "      <th>location</th>\n",
       "      <th>date</th>\n",
       "      <th>total_cases_per_million</th>\n",
       "      <th>total_deaths_per_million</th>\n",
       "      <th>year</th>\n",
       "    </tr>\n",
       "  </thead>\n",
       "  <tbody>\n",
       "    <tr>\n",
       "      <th>28</th>\n",
       "      <td>Asia</td>\n",
       "      <td>Afghanistan</td>\n",
       "      <td>2020-03-23</td>\n",
       "      <td>1.004</td>\n",
       "      <td>0.025</td>\n",
       "      <td>2020</td>\n",
       "    </tr>\n",
       "    <tr>\n",
       "      <th>29</th>\n",
       "      <td>Asia</td>\n",
       "      <td>Afghanistan</td>\n",
       "      <td>2020-03-24</td>\n",
       "      <td>1.054</td>\n",
       "      <td>0.025</td>\n",
       "      <td>2020</td>\n",
       "    </tr>\n",
       "    <tr>\n",
       "      <th>30</th>\n",
       "      <td>Asia</td>\n",
       "      <td>Afghanistan</td>\n",
       "      <td>2020-03-25</td>\n",
       "      <td>1.858</td>\n",
       "      <td>0.025</td>\n",
       "      <td>2020</td>\n",
       "    </tr>\n",
       "    <tr>\n",
       "      <th>31</th>\n",
       "      <td>Asia</td>\n",
       "      <td>Afghanistan</td>\n",
       "      <td>2020-03-26</td>\n",
       "      <td>2.008</td>\n",
       "      <td>0.050</td>\n",
       "      <td>2020</td>\n",
       "    </tr>\n",
       "    <tr>\n",
       "      <th>32</th>\n",
       "      <td>Asia</td>\n",
       "      <td>Afghanistan</td>\n",
       "      <td>2020-03-27</td>\n",
       "      <td>2.284</td>\n",
       "      <td>0.050</td>\n",
       "      <td>2020</td>\n",
       "    </tr>\n",
       "    <tr>\n",
       "      <th>...</th>\n",
       "      <td>...</td>\n",
       "      <td>...</td>\n",
       "      <td>...</td>\n",
       "      <td>...</td>\n",
       "      <td>...</td>\n",
       "      <td>...</td>\n",
       "    </tr>\n",
       "    <tr>\n",
       "      <th>138936</th>\n",
       "      <td>Africa</td>\n",
       "      <td>Zimbabwe</td>\n",
       "      <td>2021-12-05</td>\n",
       "      <td>9213.121</td>\n",
       "      <td>312.082</td>\n",
       "      <td>2021</td>\n",
       "    </tr>\n",
       "    <tr>\n",
       "      <th>138937</th>\n",
       "      <td>Africa</td>\n",
       "      <td>Zimbabwe</td>\n",
       "      <td>2021-12-06</td>\n",
       "      <td>9213.121</td>\n",
       "      <td>312.082</td>\n",
       "      <td>2021</td>\n",
       "    </tr>\n",
       "    <tr>\n",
       "      <th>138938</th>\n",
       "      <td>Africa</td>\n",
       "      <td>Zimbabwe</td>\n",
       "      <td>2021-12-07</td>\n",
       "      <td>9382.414</td>\n",
       "      <td>312.281</td>\n",
       "      <td>2021</td>\n",
       "    </tr>\n",
       "    <tr>\n",
       "      <th>138939</th>\n",
       "      <td>Africa</td>\n",
       "      <td>Zimbabwe</td>\n",
       "      <td>2021-12-08</td>\n",
       "      <td>9980.539</td>\n",
       "      <td>312.745</td>\n",
       "      <td>2021</td>\n",
       "    </tr>\n",
       "    <tr>\n",
       "      <th>138940</th>\n",
       "      <td>Africa</td>\n",
       "      <td>Zimbabwe</td>\n",
       "      <td>2021-12-09</td>\n",
       "      <td>10324.360</td>\n",
       "      <td>312.944</td>\n",
       "      <td>2021</td>\n",
       "    </tr>\n",
       "  </tbody>\n",
       "</table>\n",
       "<p>119205 rows × 6 columns</p>\n",
       "</div>"
      ],
      "text/plain": [
       "       continent     location       date  total_cases_per_million  \\\n",
       "28          Asia  Afghanistan 2020-03-23                    1.004   \n",
       "29          Asia  Afghanistan 2020-03-24                    1.054   \n",
       "30          Asia  Afghanistan 2020-03-25                    1.858   \n",
       "31          Asia  Afghanistan 2020-03-26                    2.008   \n",
       "32          Asia  Afghanistan 2020-03-27                    2.284   \n",
       "...          ...          ...        ...                      ...   \n",
       "138936    Africa     Zimbabwe 2021-12-05                 9213.121   \n",
       "138937    Africa     Zimbabwe 2021-12-06                 9213.121   \n",
       "138938    Africa     Zimbabwe 2021-12-07                 9382.414   \n",
       "138939    Africa     Zimbabwe 2021-12-08                 9980.539   \n",
       "138940    Africa     Zimbabwe 2021-12-09                10324.360   \n",
       "\n",
       "        total_deaths_per_million  year  \n",
       "28                         0.025  2020  \n",
       "29                         0.025  2020  \n",
       "30                         0.025  2020  \n",
       "31                         0.050  2020  \n",
       "32                         0.050  2020  \n",
       "...                          ...   ...  \n",
       "138936                   312.082  2021  \n",
       "138937                   312.082  2021  \n",
       "138938                   312.281  2021  \n",
       "138939                   312.745  2021  \n",
       "138940                   312.944  2021  \n",
       "\n",
       "[119205 rows x 6 columns]"
      ]
     },
     "execution_count": 29,
     "metadata": {},
     "output_type": "execute_result"
    }
   ],
   "source": [
    "paises = paises.dropna(subset=[\"total_deaths_per_million\"])\n",
    "paises = paises.dropna(subset=[\"total_cases_per_million\"])\n",
    "paises"
   ]
  },
  {
   "cell_type": "code",
   "execution_count": 30,
   "id": "a4a4b675-efda-4bd4-8b86-10f965178150",
   "metadata": {},
   "outputs": [
    {
     "data": {
      "image/png": "[encoded data removed]",
      "text/plain": [
       "<Figure size 576x432 with 2 Axes>"
      ]
     },
     "metadata": {
      "needs_background": "light"
     },
     "output_type": "display_data"
    }
   ],
   "source": [
    "plt.figure(figsize=(8, 6))\n",
    "ax = sns.heatmap(paises.corr(), vmin=0, vmax=1, annot=True, cmap=\"rocket_r\", linewidth=0.5)"
   ]
  },
  {
   "cell_type": "code",
   "execution_count": 50,
   "id": "09fb06b7-c86c-41ed-bfb0-a6c88b42850d",
   "metadata": {},
   "outputs": [],
   "source": [
    "# Vamos a ver si se puede hacer un modelo por probabilidad por año\n",
    "X = paises[[\"total_deaths_per_million\"]]\n",
    "y = paises[[\"year\"]]"
   ]
  },
  {
   "cell_type": "code",
   "execution_count": 51,
   "id": "1e456873-f6c9-4bbe-a8cf-64594b8dc4a7",
   "metadata": {},
   "outputs": [],
   "source": [
    "from sklearn.linear_model import LogisticRegression\n",
    "from sklearn.model_selection import train_test_split"
   ]
  },
  {
   "cell_type": "code",
   "execution_count": 52,
   "id": "46908748-dfb7-40bd-a553-2b730dd0586c",
   "metadata": {},
   "outputs": [],
   "source": [
    "X_train, X_test, y_train, y_test = train_test_split(X, y, test_size=0.3)"
   ]
  },
  {
   "cell_type": "code",
   "execution_count": 53,
   "id": "eef18e82-6e04-4b32-9122-d8e7c4505c0b",
   "metadata": {},
   "outputs": [],
   "source": [
    "logreg = LogisticRegression()"
   ]
  },
  {
   "cell_type": "code",
   "execution_count": 54,
   "id": "83b17f2b-ed93-4803-8417-74291a98dd97",
   "metadata": {},
   "outputs": [
    {
     "name": "stderr",
     "output_type": "stream",
     "text": [
      "C:\\Users\\Frida\\miniconda3\\lib\\site-packages\\sklearn\\utils\\validation.py:993: DataConversionWarning: A column-vector y was passed when a 1d array was expected. Please change the shape of y to (n_samples, ), for example using ravel().\n",
      "  y = column_or_1d(y, warn=True)\n"
     ]
    },
    {
     "data": {
      "text/plain": [
       "LogisticRegression()"
      ]
     },
     "execution_count": 54,
     "metadata": {},
     "output_type": "execute_result"
    }
   ],
   "source": [
    "logreg.fit(X_train, y_train)"
   ]
  },
  {
   "cell_type": "code",
   "execution_count": 55,
   "id": "f878cc59-b275-4a11-adf9-0a402861c510",
   "metadata": {},
   "outputs": [
    {
     "data": {
      "text/plain": [
       "array([2020, 2020, 2020, ..., 2021, 2020, 2020], dtype=int64)"
      ]
     },
     "execution_count": 55,
     "metadata": {},
     "output_type": "execute_result"
    }
   ],
   "source": [
    "y_pred = logreg.predict(X_test)\n",
    "y_pred"
   ]
  },
  {
   "cell_type": "code",
   "execution_count": 56,
   "id": "6b59030f-e214-443f-9713-7eb2b1fd07ab",
   "metadata": {},
   "outputs": [
    {
     "data": {
      "text/plain": [
       "0.6651194004809574"
      ]
     },
     "execution_count": 56,
     "metadata": {},
     "output_type": "execute_result"
    }
   ],
   "source": [
    "logreg.score(X_test, y_test)"
   ]
  },
  {
   "cell_type": "code",
   "execution_count": 57,
   "id": "b3345aae-211c-451d-99e2-33eea7eb7f52",
   "metadata": {},
   "outputs": [
    {
     "data": {
      "text/plain": [
       "array([[12687,  3013],\n",
       "       [ 8963, 11099]], dtype=int64)"
      ]
     },
     "execution_count": 57,
     "metadata": {},
     "output_type": "execute_result"
    }
   ],
   "source": [
    "cnf_matrix = metrics.confusion_matrix(y_test, y_pred)\n",
    "\n",
    "cnf_matrix"
   ]
  },
  {
   "cell_type": "code",
   "execution_count": 60,
   "id": "f815191f-fd38-4c4a-b42f-1cb567e3f3a6",
   "metadata": {},
   "outputs": [
    {
     "data": {
      "image/png": "[encoded data removed]",
      "text/plain": [
       "<Figure size 432x432 with 1 Axes>"
      ]
     },
     "metadata": {
      "needs_background": "light"
     },
     "output_type": "display_data"
    }
   ],
   "source": [
    "class_names=[2020,2021] # name  of classes\n",
    "fig, ax = plt.subplots(figsize=(6, 6))\n",
    "tick_marks = np.arange(len(class_names))\n",
    "plt.xticks(tick_marks, class_names)\n",
    "plt.yticks(tick_marks, class_names)\n",
    "# create heatmap\n",
    "sns.heatmap(pd.DataFrame(cnf_matrix), annot=True, cmap=\"Blues\" ,fmt='g', cbar=False, annot_kws={\"size\": 20})\n",
    "ax.xaxis.set_label_position(\"top\")\n",
    "plt.tight_layout()\n",
    "plt.ylabel('Realidad', fontsize=15, y=0.5)\n",
    "plt.xlabel('Estimado por el modelo', fontsize=15);"
   ]
  },
  {
   "cell_type": "code",
   "execution_count": 62,
   "id": "7ebcbd71-3a83-463b-8ff7-26c1ad751525",
   "metadata": {},
   "outputs": [
    {
     "name": "stdout",
     "output_type": "stream",
     "text": [
      "Precision: 0.7864937641723356\n",
      "Exactitud: 0.6651194004809574\n",
      "Sensibilidad: 0.553234971588077\n",
      "Especificidad: 0.8080891719745223\n"
     ]
    }
   ],
   "source": [
    "tn, fp, fn, tp = cnf_matrix.ravel()\n",
    "\n",
    "print(\"Precision:\",metrics.precision_score(y_test, y_pred, pos_label=2021))\n",
    "print(\"Exactitud:\",metrics.accuracy_score(y_test, y_pred))\n",
    "print(\"Sensibilidad:\",metrics.recall_score(y_test, y_pred, pos_label=2021))\n",
    "print(\"Especificidad:\", tn / (tn + fp))"
   ]
  },
  {
   "cell_type": "code",
   "execution_count": 64,
   "id": "a3957ec7-2481-449b-a1f5-301492f31876",
   "metadata": {},
   "outputs": [],
   "source": [
    "from sklearn.metrics import roc_curve, auc"
   ]
  },
  {
   "cell_type": "code",
   "execution_count": 65,
   "id": "f655f336-16d7-4b22-a0b2-d3ec8b407ad5",
   "metadata": {},
   "outputs": [
    {
     "data": {
      "text/plain": [
       "array([[0.58708273, 0.41291727],\n",
       "       [0.59013602, 0.40986398],\n",
       "       [0.60807832, 0.39192168],\n",
       "       [0.04136632, 0.95863368],\n",
       "       [0.50100822, 0.49899178],\n",
       "       [0.51230371, 0.48769629],\n",
       "       [0.02717152, 0.97282848],\n",
       "       [0.40227005, 0.59772995],\n",
       "       [0.60960968, 0.39039032],\n",
       "       [0.54738323, 0.45261677]])"
      ]
     },
     "execution_count": 65,
     "metadata": {},
     "output_type": "execute_result"
    }
   ],
   "source": [
    "y_pred_proba = logreg.predict_proba(X_test)\n",
    "\n",
    "y_pred_proba[:10,:]"
   ]
  },
  {
   "cell_type": "code",
   "execution_count": 67,
   "id": "684286cd-d390-40d3-b6e7-372503eb4651",
   "metadata": {},
   "outputs": [],
   "source": [
    "fpr, tpr, _ = roc_curve(y_test, y_pred_proba[:, 1], pos_label=2021)\n",
    "roc_auc = auc(fpr, tpr)"
   ]
  },
  {
   "cell_type": "code",
   "execution_count": 70,
   "id": "3135c45c-b3b2-4228-bcd2-289bf3e63f49",
   "metadata": {},
   "outputs": [
    {
     "data": {
      "image/png": "[encoded data removed]",
      "text/plain": [
       "<Figure size 432x288 with 1 Axes>"
      ]
     },
     "metadata": {
      "needs_background": "light"
     },
     "output_type": "display_data"
    }
   ],
   "source": [
    "plt.figure()\n",
    "plt.plot(fpr, tpr, color='darkorange',\n",
    "         label='Curva ROC (Área = %0.2f)' % roc_auc)\n",
    "plt.plot([0, 1], [0, 1], color='navy', linestyle='--')\n",
    "plt.xlim([0.0, 1.0])\n",
    "plt.ylim([0.0, 1.05])\n",
    "plt.xlabel('Proporción de falsos positivos')\n",
    "plt.ylabel('Proporción de verdaderos positivos')\n",
    "plt.title('Curva ROC / AUC')\n",
    "plt.legend(loc=\"lower right\")\n",
    "plt.show()"
   ]
  }
 ],
 "metadata": {
  "kernelspec": {
   "display_name": "Python 3 (ipykernel)",
   "language": "python",
   "name": "python3"
  },
  "language_info": {
   "codemirror_mode": {
    "name": "ipython",
    "version": 3
   },
   "file_extension": ".py",
   "mimetype": "text/x-python",
   "name": "python",
   "nbconvert_exporter": "python",
   "pygments_lexer": "ipython3",
   "version": "3.9.7"
  }
 },
 "nbformat": 4,
 "nbformat_minor": 5
}
