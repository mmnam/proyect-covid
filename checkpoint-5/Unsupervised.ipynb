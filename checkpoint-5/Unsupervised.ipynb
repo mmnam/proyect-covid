{
 "cells": [
  {
   "cell_type": "code",
   "execution_count": 69,
   "id": "841dcbbc",
   "metadata": {},
   "outputs": [],
   "source": [
    "import pandas as pd\n",
    "import matplotlib.pyplot as plt\n",
    "import seaborn as sns"
   ]
  },
  {
   "cell_type": "code",
   "execution_count": 70,
   "id": "31ecc129",
   "metadata": {},
   "outputs": [
    {
     "data": {
      "text/html": [
       "<div>\n",
       "<style scoped>\n",
       "    .dataframe tbody tr th:only-of-type {\n",
       "        vertical-align: middle;\n",
       "    }\n",
       "\n",
       "    .dataframe tbody tr th {\n",
       "        vertical-align: top;\n",
       "    }\n",
       "\n",
       "    .dataframe thead th {\n",
       "        text-align: right;\n",
       "    }\n",
       "</style>\n",
       "<table border=\"1\" class=\"dataframe\">\n",
       "  <thead>\n",
       "    <tr style=\"text-align: right;\">\n",
       "      <th></th>\n",
       "      <th>code</th>\n",
       "      <th>continent</th>\n",
       "      <th>country</th>\n",
       "      <th>date</th>\n",
       "      <th>total_cases_per_million</th>\n",
       "      <th>total_deaths_per_million</th>\n",
       "      <th>population_density</th>\n",
       "      <th>cardiovasc_death_rate</th>\n",
       "      <th>diabetes_prevalence</th>\n",
       "      <th>life_expectancy</th>\n",
       "      <th>hdi</th>\n",
       "    </tr>\n",
       "  </thead>\n",
       "  <tbody>\n",
       "    <tr>\n",
       "      <th>0</th>\n",
       "      <td>AFG</td>\n",
       "      <td>Asia</td>\n",
       "      <td>Afghanistan</td>\n",
       "      <td>09/12/2021</td>\n",
       "      <td>3955.901</td>\n",
       "      <td>183.781</td>\n",
       "      <td>54.422</td>\n",
       "      <td>597.029</td>\n",
       "      <td>9.59</td>\n",
       "      <td>64.83</td>\n",
       "      <td>0.511</td>\n",
       "    </tr>\n",
       "    <tr>\n",
       "      <th>1</th>\n",
       "      <td>ALB</td>\n",
       "      <td>Europe</td>\n",
       "      <td>Albania</td>\n",
       "      <td>09/12/2021</td>\n",
       "      <td>70611.786</td>\n",
       "      <td>1088.782</td>\n",
       "      <td>104.871</td>\n",
       "      <td>304.195</td>\n",
       "      <td>10.08</td>\n",
       "      <td>78.57</td>\n",
       "      <td>0.795</td>\n",
       "    </tr>\n",
       "    <tr>\n",
       "      <th>2</th>\n",
       "      <td>DZA</td>\n",
       "      <td>Africa</td>\n",
       "      <td>Algeria</td>\n",
       "      <td>09/12/2021</td>\n",
       "      <td>4756.612</td>\n",
       "      <td>137.303</td>\n",
       "      <td>17.348</td>\n",
       "      <td>278.364</td>\n",
       "      <td>6.73</td>\n",
       "      <td>76.88</td>\n",
       "      <td>0.748</td>\n",
       "    </tr>\n",
       "    <tr>\n",
       "      <th>3</th>\n",
       "      <td>AND</td>\n",
       "      <td>Europe</td>\n",
       "      <td>Andorra</td>\n",
       "      <td>09/12/2021</td>\n",
       "      <td>249140.316</td>\n",
       "      <td>1719.368</td>\n",
       "      <td>163.755</td>\n",
       "      <td>109.135</td>\n",
       "      <td>7.97</td>\n",
       "      <td>83.73</td>\n",
       "      <td>0.868</td>\n",
       "    </tr>\n",
       "    <tr>\n",
       "      <th>4</th>\n",
       "      <td>AGO</td>\n",
       "      <td>Africa</td>\n",
       "      <td>Angola</td>\n",
       "      <td>09/12/2021</td>\n",
       "      <td>1925.701</td>\n",
       "      <td>51.159</td>\n",
       "      <td>23.890</td>\n",
       "      <td>276.045</td>\n",
       "      <td>3.94</td>\n",
       "      <td>61.15</td>\n",
       "      <td>0.581</td>\n",
       "    </tr>\n",
       "  </tbody>\n",
       "</table>\n",
       "</div>"
      ],
      "text/plain": [
       "  code continent      country        date  total_cases_per_million  \\\n",
       "0  AFG      Asia  Afghanistan  09/12/2021                 3955.901   \n",
       "1  ALB    Europe      Albania  09/12/2021                70611.786   \n",
       "2  DZA    Africa      Algeria  09/12/2021                 4756.612   \n",
       "3  AND    Europe      Andorra  09/12/2021               249140.316   \n",
       "4  AGO    Africa       Angola  09/12/2021                 1925.701   \n",
       "\n",
       "   total_deaths_per_million  population_density  cardiovasc_death_rate  \\\n",
       "0                   183.781              54.422                597.029   \n",
       "1                  1088.782             104.871                304.195   \n",
       "2                   137.303              17.348                278.364   \n",
       "3                  1719.368             163.755                109.135   \n",
       "4                    51.159              23.890                276.045   \n",
       "\n",
       "   diabetes_prevalence  life_expectancy    hdi  \n",
       "0                 9.59            64.83  0.511  \n",
       "1                10.08            78.57  0.795  \n",
       "2                 6.73            76.88  0.748  \n",
       "3                 7.97            83.73  0.868  \n",
       "4                 3.94            61.15  0.581  "
      ]
     },
     "execution_count": 70,
     "metadata": {},
     "output_type": "execute_result"
    }
   ],
   "source": [
    "countries = pd.read_csv(\"C:\\\\Users\\\\Frida\\\\Desktop\\\\Bedu 2021\\\\Proyecto\\\\Bases de datos limpias\\\\países.csv\")\n",
    "countries.head()"
   ]
  },
  {
   "cell_type": "code",
   "execution_count": 71,
   "id": "f32b2238",
   "metadata": {},
   "outputs": [
    {
     "data": {
      "text/html": [
       "<div>\n",
       "<style scoped>\n",
       "    .dataframe tbody tr th:only-of-type {\n",
       "        vertical-align: middle;\n",
       "    }\n",
       "\n",
       "    .dataframe tbody tr th {\n",
       "        vertical-align: top;\n",
       "    }\n",
       "\n",
       "    .dataframe thead th {\n",
       "        text-align: right;\n",
       "    }\n",
       "</style>\n",
       "<table border=\"1\" class=\"dataframe\">\n",
       "  <thead>\n",
       "    <tr style=\"text-align: right;\">\n",
       "      <th></th>\n",
       "      <th>continent</th>\n",
       "      <th>country</th>\n",
       "      <th>date</th>\n",
       "      <th>cardiovasc_death_rate</th>\n",
       "      <th>diabetes_prevalence</th>\n",
       "      <th>total_cases_per_million</th>\n",
       "      <th>total_deaths_per_million</th>\n",
       "      <th>hdi</th>\n",
       "    </tr>\n",
       "  </thead>\n",
       "  <tbody>\n",
       "    <tr>\n",
       "      <th>0</th>\n",
       "      <td>Asia</td>\n",
       "      <td>Afghanistan</td>\n",
       "      <td>09/12/2021</td>\n",
       "      <td>597.029</td>\n",
       "      <td>9.59</td>\n",
       "      <td>3955.901</td>\n",
       "      <td>183.781</td>\n",
       "      <td>0.511</td>\n",
       "    </tr>\n",
       "    <tr>\n",
       "      <th>1</th>\n",
       "      <td>Europe</td>\n",
       "      <td>Albania</td>\n",
       "      <td>09/12/2021</td>\n",
       "      <td>304.195</td>\n",
       "      <td>10.08</td>\n",
       "      <td>70611.786</td>\n",
       "      <td>1088.782</td>\n",
       "      <td>0.795</td>\n",
       "    </tr>\n",
       "    <tr>\n",
       "      <th>2</th>\n",
       "      <td>Africa</td>\n",
       "      <td>Algeria</td>\n",
       "      <td>09/12/2021</td>\n",
       "      <td>278.364</td>\n",
       "      <td>6.73</td>\n",
       "      <td>4756.612</td>\n",
       "      <td>137.303</td>\n",
       "      <td>0.748</td>\n",
       "    </tr>\n",
       "    <tr>\n",
       "      <th>3</th>\n",
       "      <td>Europe</td>\n",
       "      <td>Andorra</td>\n",
       "      <td>09/12/2021</td>\n",
       "      <td>109.135</td>\n",
       "      <td>7.97</td>\n",
       "      <td>249140.316</td>\n",
       "      <td>1719.368</td>\n",
       "      <td>0.868</td>\n",
       "    </tr>\n",
       "    <tr>\n",
       "      <th>4</th>\n",
       "      <td>Africa</td>\n",
       "      <td>Angola</td>\n",
       "      <td>09/12/2021</td>\n",
       "      <td>276.045</td>\n",
       "      <td>3.94</td>\n",
       "      <td>1925.701</td>\n",
       "      <td>51.159</td>\n",
       "      <td>0.581</td>\n",
       "    </tr>\n",
       "  </tbody>\n",
       "</table>\n",
       "</div>"
      ],
      "text/plain": [
       "  continent      country        date  cardiovasc_death_rate  \\\n",
       "0      Asia  Afghanistan  09/12/2021                597.029   \n",
       "1    Europe      Albania  09/12/2021                304.195   \n",
       "2    Africa      Algeria  09/12/2021                278.364   \n",
       "3    Europe      Andorra  09/12/2021                109.135   \n",
       "4    Africa       Angola  09/12/2021                276.045   \n",
       "\n",
       "   diabetes_prevalence  total_cases_per_million  total_deaths_per_million  \\\n",
       "0                 9.59                 3955.901                   183.781   \n",
       "1                10.08                70611.786                  1088.782   \n",
       "2                 6.73                 4756.612                   137.303   \n",
       "3                 7.97               249140.316                  1719.368   \n",
       "4                 3.94                 1925.701                    51.159   \n",
       "\n",
       "     hdi  \n",
       "0  0.511  \n",
       "1  0.795  \n",
       "2  0.748  \n",
       "3  0.868  \n",
       "4  0.581  "
      ]
     },
     "execution_count": 71,
     "metadata": {},
     "output_type": "execute_result"
    }
   ],
   "source": [
    "paises_limpio = pd.DataFrame(countries.loc[:, [\"continent\",\n",
    "                       \"country\",\n",
    "                       \"date\",\n",
    "                       \"cardiovasc_death_rate\",\n",
    "                       \"diabetes_prevalence\",\n",
    "                       \"total_cases_per_million\", \n",
    "                       \"total_deaths_per_million\",\n",
    "                                              \"hdi\"]])\n",
    "paises_limpio.head()"
   ]
  },
  {
   "cell_type": "code",
   "execution_count": 72,
   "id": "398f2417",
   "metadata": {},
   "outputs": [
    {
     "data": {
      "text/html": [
       "<div>\n",
       "<style scoped>\n",
       "    .dataframe tbody tr th:only-of-type {\n",
       "        vertical-align: middle;\n",
       "    }\n",
       "\n",
       "    .dataframe tbody tr th {\n",
       "        vertical-align: top;\n",
       "    }\n",
       "\n",
       "    .dataframe thead th {\n",
       "        text-align: right;\n",
       "    }\n",
       "</style>\n",
       "<table border=\"1\" class=\"dataframe\">\n",
       "  <thead>\n",
       "    <tr style=\"text-align: right;\">\n",
       "      <th></th>\n",
       "      <th>continent</th>\n",
       "      <th>country</th>\n",
       "      <th>date</th>\n",
       "      <th>cardiovasc_death_rate</th>\n",
       "      <th>diabetes_prevalence</th>\n",
       "      <th>total_cases_per_million</th>\n",
       "      <th>total_deaths_per_million</th>\n",
       "      <th>hdi</th>\n",
       "    </tr>\n",
       "  </thead>\n",
       "  <tbody>\n",
       "    <tr>\n",
       "      <th>0</th>\n",
       "      <td>Asia</td>\n",
       "      <td>Afghanistan</td>\n",
       "      <td>09/12/2021</td>\n",
       "      <td>597.029</td>\n",
       "      <td>9.59</td>\n",
       "      <td>3955.901</td>\n",
       "      <td>183.781</td>\n",
       "      <td>0.511</td>\n",
       "    </tr>\n",
       "    <tr>\n",
       "      <th>1</th>\n",
       "      <td>Europe</td>\n",
       "      <td>Albania</td>\n",
       "      <td>09/12/2021</td>\n",
       "      <td>304.195</td>\n",
       "      <td>10.08</td>\n",
       "      <td>70611.786</td>\n",
       "      <td>1088.782</td>\n",
       "      <td>0.795</td>\n",
       "    </tr>\n",
       "    <tr>\n",
       "      <th>2</th>\n",
       "      <td>Africa</td>\n",
       "      <td>Algeria</td>\n",
       "      <td>09/12/2021</td>\n",
       "      <td>278.364</td>\n",
       "      <td>6.73</td>\n",
       "      <td>4756.612</td>\n",
       "      <td>137.303</td>\n",
       "      <td>0.748</td>\n",
       "    </tr>\n",
       "    <tr>\n",
       "      <th>3</th>\n",
       "      <td>Europe</td>\n",
       "      <td>Andorra</td>\n",
       "      <td>09/12/2021</td>\n",
       "      <td>109.135</td>\n",
       "      <td>7.97</td>\n",
       "      <td>249140.316</td>\n",
       "      <td>1719.368</td>\n",
       "      <td>0.868</td>\n",
       "    </tr>\n",
       "    <tr>\n",
       "      <th>4</th>\n",
       "      <td>Africa</td>\n",
       "      <td>Angola</td>\n",
       "      <td>09/12/2021</td>\n",
       "      <td>276.045</td>\n",
       "      <td>3.94</td>\n",
       "      <td>1925.701</td>\n",
       "      <td>51.159</td>\n",
       "      <td>0.581</td>\n",
       "    </tr>\n",
       "    <tr>\n",
       "      <th>...</th>\n",
       "      <td>...</td>\n",
       "      <td>...</td>\n",
       "      <td>...</td>\n",
       "      <td>...</td>\n",
       "      <td>...</td>\n",
       "      <td>...</td>\n",
       "      <td>...</td>\n",
       "      <td>...</td>\n",
       "    </tr>\n",
       "    <tr>\n",
       "      <th>191</th>\n",
       "      <td>South America</td>\n",
       "      <td>Venezuela</td>\n",
       "      <td>09/12/2021</td>\n",
       "      <td>204.850</td>\n",
       "      <td>6.47</td>\n",
       "      <td>15209.992</td>\n",
       "      <td>181.955</td>\n",
       "      <td>0.711</td>\n",
       "    </tr>\n",
       "    <tr>\n",
       "      <th>192</th>\n",
       "      <td>Asia</td>\n",
       "      <td>Vietnam</td>\n",
       "      <td>09/12/2021</td>\n",
       "      <td>245.465</td>\n",
       "      <td>6.00</td>\n",
       "      <td>13929.401</td>\n",
       "      <td>276.931</td>\n",
       "      <td>0.704</td>\n",
       "    </tr>\n",
       "    <tr>\n",
       "      <th>193</th>\n",
       "      <td>Asia</td>\n",
       "      <td>Yemen</td>\n",
       "      <td>09/12/2021</td>\n",
       "      <td>495.003</td>\n",
       "      <td>5.35</td>\n",
       "      <td>329.511</td>\n",
       "      <td>64.184</td>\n",
       "      <td>0.470</td>\n",
       "    </tr>\n",
       "    <tr>\n",
       "      <th>194</th>\n",
       "      <td>Africa</td>\n",
       "      <td>Zambia</td>\n",
       "      <td>09/12/2021</td>\n",
       "      <td>234.499</td>\n",
       "      <td>3.94</td>\n",
       "      <td>11128.683</td>\n",
       "      <td>193.862</td>\n",
       "      <td>0.584</td>\n",
       "    </tr>\n",
       "    <tr>\n",
       "      <th>195</th>\n",
       "      <td>Africa</td>\n",
       "      <td>Zimbabwe</td>\n",
       "      <td>09/12/2021</td>\n",
       "      <td>307.846</td>\n",
       "      <td>1.82</td>\n",
       "      <td>10324.360</td>\n",
       "      <td>312.944</td>\n",
       "      <td>0.571</td>\n",
       "    </tr>\n",
       "  </tbody>\n",
       "</table>\n",
       "<p>190 rows × 8 columns</p>\n",
       "</div>"
      ],
      "text/plain": [
       "         continent      country        date  cardiovasc_death_rate  \\\n",
       "0             Asia  Afghanistan  09/12/2021                597.029   \n",
       "1           Europe      Albania  09/12/2021                304.195   \n",
       "2           Africa      Algeria  09/12/2021                278.364   \n",
       "3           Europe      Andorra  09/12/2021                109.135   \n",
       "4           Africa       Angola  09/12/2021                276.045   \n",
       "..             ...          ...         ...                    ...   \n",
       "191  South America    Venezuela  09/12/2021                204.850   \n",
       "192           Asia      Vietnam  09/12/2021                245.465   \n",
       "193           Asia        Yemen  09/12/2021                495.003   \n",
       "194         Africa       Zambia  09/12/2021                234.499   \n",
       "195         Africa     Zimbabwe  09/12/2021                307.846   \n",
       "\n",
       "     diabetes_prevalence  total_cases_per_million  total_deaths_per_million  \\\n",
       "0                   9.59                 3955.901                   183.781   \n",
       "1                  10.08                70611.786                  1088.782   \n",
       "2                   6.73                 4756.612                   137.303   \n",
       "3                   7.97               249140.316                  1719.368   \n",
       "4                   3.94                 1925.701                    51.159   \n",
       "..                   ...                      ...                       ...   \n",
       "191                 6.47                15209.992                   181.955   \n",
       "192                 6.00                13929.401                   276.931   \n",
       "193                 5.35                  329.511                    64.184   \n",
       "194                 3.94                11128.683                   193.862   \n",
       "195                 1.82                10324.360                   312.944   \n",
       "\n",
       "       hdi  \n",
       "0    0.511  \n",
       "1    0.795  \n",
       "2    0.748  \n",
       "3    0.868  \n",
       "4    0.581  \n",
       "..     ...  \n",
       "191  0.711  \n",
       "192  0.704  \n",
       "193  0.470  \n",
       "194  0.584  \n",
       "195  0.571  \n",
       "\n",
       "[190 rows x 8 columns]"
      ]
     },
     "execution_count": 72,
     "metadata": {},
     "output_type": "execute_result"
    }
   ],
   "source": [
    "paises_limpio = paises_limpio[paises_limpio[\"total_cases_per_million\"].notna()]\n",
    "paises_limpio = paises_limpio[paises_limpio[\"diabetes_prevalence\"].notna()]\n",
    "paises_limpio"
   ]
  },
  {
   "cell_type": "code",
   "execution_count": 73,
   "id": "441fa123",
   "metadata": {},
   "outputs": [
    {
     "name": "stderr",
     "output_type": "stream",
     "text": [
      "C:\\Users\\Frida\\AppData\\Local\\Programs\\Python\\Python310\\lib\\site-packages\\seaborn\\_decorators.py:36: FutureWarning: Pass the following variables as keyword args: x, y. From version 0.12, the only valid positional argument will be `data`, and passing other arguments without an explicit keyword will result in an error or misinterpretation.\n",
      "  warnings.warn(\n"
     ]
    },
    {
     "data": {
      "image/png": "[encoded data removed]",
      "text/plain": [
       "<Figure size 432x288 with 1 Axes>"
      ]
     },
     "metadata": {
      "needs_background": "light"
     },
     "output_type": "display_data"
    }
   ],
   "source": [
    "fig = plt.figure()\n",
    "ax = fig.add_subplot()\n",
    "\n",
    "ax.set_title('Dispersión', pad=15)\n",
    "ax.set_xlabel('Prevalencia Diabetes')\n",
    "ax.set_ylabel('Casos por millón')\n",
    "\n",
    "sns.scatterplot(paises_limpio['diabetes_prevalence'], paises_limpio['total_cases_per_million'], ax=ax);"
   ]
  },
  {
   "cell_type": "code",
   "execution_count": 74,
   "id": "89b0309c",
   "metadata": {},
   "outputs": [
    {
     "data": {
      "text/html": [
       "<style>#sk-container-id-4 {color: black;background-color: white;}#sk-container-id-4 pre{padding: 0;}#sk-container-id-4 div.sk-toggleable {background-color: white;}#sk-container-id-4 label.sk-toggleable__label {cursor: pointer;display: block;width: 100%;margin-bottom: 0;padding: 0.3em;box-sizing: border-box;text-align: center;}#sk-container-id-4 label.sk-toggleable__label-arrow:before {content: \"▸\";float: left;margin-right: 0.25em;color: #696969;}#sk-container-id-4 label.sk-toggleable__label-arrow:hover:before {color: black;}#sk-container-id-4 div.sk-estimator:hover label.sk-toggleable__label-arrow:before {color: black;}#sk-container-id-4 div.sk-toggleable__content {max-height: 0;max-width: 0;overflow: hidden;text-align: left;background-color: #f0f8ff;}#sk-container-id-4 div.sk-toggleable__content pre {margin: 0.2em;color: black;border-radius: 0.25em;background-color: #f0f8ff;}#sk-container-id-4 input.sk-toggleable__control:checked~div.sk-toggleable__content {max-height: 200px;max-width: 100%;overflow: auto;}#sk-container-id-4 input.sk-toggleable__control:checked~label.sk-toggleable__label-arrow:before {content: \"▾\";}#sk-container-id-4 div.sk-estimator input.sk-toggleable__control:checked~label.sk-toggleable__label {background-color: #d4ebff;}#sk-container-id-4 div.sk-label input.sk-toggleable__control:checked~label.sk-toggleable__label {background-color: #d4ebff;}#sk-container-id-4 input.sk-hidden--visually {border: 0;clip: rect(1px 1px 1px 1px);clip: rect(1px, 1px, 1px, 1px);height: 1px;margin: -1px;overflow: hidden;padding: 0;position: absolute;width: 1px;}#sk-container-id-4 div.sk-estimator {font-family: monospace;background-color: #f0f8ff;border: 1px dotted black;border-radius: 0.25em;box-sizing: border-box;margin-bottom: 0.5em;}#sk-container-id-4 div.sk-estimator:hover {background-color: #d4ebff;}#sk-container-id-4 div.sk-parallel-item::after {content: \"\";width: 100%;border-bottom: 1px solid gray;flex-grow: 1;}#sk-container-id-4 div.sk-label:hover label.sk-toggleable__label {background-color: #d4ebff;}#sk-container-id-4 div.sk-serial::before {content: \"\";position: absolute;border-left: 1px solid gray;box-sizing: border-box;top: 0;bottom: 0;left: 50%;z-index: 0;}#sk-container-id-4 div.sk-serial {display: flex;flex-direction: column;align-items: center;background-color: white;padding-right: 0.2em;padding-left: 0.2em;position: relative;}#sk-container-id-4 div.sk-item {position: relative;z-index: 1;}#sk-container-id-4 div.sk-parallel {display: flex;align-items: stretch;justify-content: center;background-color: white;position: relative;}#sk-container-id-4 div.sk-item::before, #sk-container-id-4 div.sk-parallel-item::before {content: \"\";position: absolute;border-left: 1px solid gray;box-sizing: border-box;top: 0;bottom: 0;left: 50%;z-index: -1;}#sk-container-id-4 div.sk-parallel-item {display: flex;flex-direction: column;z-index: 1;position: relative;background-color: white;}#sk-container-id-4 div.sk-parallel-item:first-child::after {align-self: flex-end;width: 50%;}#sk-container-id-4 div.sk-parallel-item:last-child::after {align-self: flex-start;width: 50%;}#sk-container-id-4 div.sk-parallel-item:only-child::after {width: 0;}#sk-container-id-4 div.sk-dashed-wrapped {border: 1px dashed gray;margin: 0 0.4em 0.5em 0.4em;box-sizing: border-box;padding-bottom: 0.4em;background-color: white;}#sk-container-id-4 div.sk-label label {font-family: monospace;font-weight: bold;display: inline-block;line-height: 1.2em;}#sk-container-id-4 div.sk-label-container {text-align: center;}#sk-container-id-4 div.sk-container {/* jupyter's `normalize.less` sets `[hidden] { display: none; }` but bootstrap.min.css set `[hidden] { display: none !important; }` so we also need the `!important` here to be able to override the default hidden behavior on the sphinx rendered scikit-learn.org. See: https://github.com/scikit-learn/scikit-learn/issues/21755 */display: inline-block !important;position: relative;}#sk-container-id-4 div.sk-text-repr-fallback {display: none;}</style><div id=\"sk-container-id-4\" class=\"sk-top-container\"><div class=\"sk-text-repr-fallback\"><pre>KMeans(max_iter=10000, n_clusters=6)</pre><b>In a Jupyter environment, please rerun this cell to show the HTML representation or trust the notebook. <br />On GitHub, the HTML representation is unable to render, please try loading this page with nbviewer.org.</b></div><div class=\"sk-container\" hidden><div class=\"sk-item\"><div class=\"sk-estimator sk-toggleable\"><input class=\"sk-toggleable__control sk-hidden--visually\" id=\"sk-estimator-id-4\" type=\"checkbox\" checked><label for=\"sk-estimator-id-4\" class=\"sk-toggleable__label sk-toggleable__label-arrow\">KMeans</label><div class=\"sk-toggleable__content\"><pre>KMeans(max_iter=10000, n_clusters=6)</pre></div></div></div></div></div>"
      ],
      "text/plain": [
       "KMeans(max_iter=10000, n_clusters=6)"
      ]
     },
     "execution_count": 74,
     "metadata": {},
     "output_type": "execute_result"
    }
   ],
   "source": [
    "from sklearn.cluster import KMeans\n",
    "k_means = KMeans(n_clusters=6, max_iter=10000) # seis continentes. excluimos la Antártida\n",
    "k_means.fit(paises_limpio[['diabetes_prevalence', 'total_cases_per_million']])"
   ]
  },
  {
   "cell_type": "code",
   "execution_count": 75,
   "id": "c470dc3f",
   "metadata": {},
   "outputs": [],
   "source": [
    "import numpy as np\n",
    "from matplotlib import pyplot as plt\n",
    "from sklearn.datasets import make_blobs\n",
    "from sklearn.cluster import KMeans\n",
    "from sklearn.model_selection import train_test_split"
   ]
  },
  {
   "cell_type": "code",
   "execution_count": 76,
   "id": "2a794ccc",
   "metadata": {},
   "outputs": [
    {
     "data": {
      "text/plain": [
       "array([[9.00513514e+00, 4.36441675e+04],\n",
       "       [6.97800000e+00, 1.62391685e+05],\n",
       "       [9.66333333e+00, 8.19674595e+04],\n",
       "       [7.48217949e+00, 5.16165404e+03],\n",
       "       [8.15285714e+00, 2.31455491e+05],\n",
       "       [7.22782609e+00, 1.13724288e+05]])"
      ]
     },
     "execution_count": 76,
     "metadata": {},
     "output_type": "execute_result"
    }
   ],
   "source": [
    "centers = k_means.cluster_centers_\n",
    "\n",
    "centers"
   ]
  },
  {
   "cell_type": "code",
   "execution_count": 77,
   "id": "8ad2076c",
   "metadata": {},
   "outputs": [
    {
     "name": "stderr",
     "output_type": "stream",
     "text": [
      "C:\\Users\\Frida\\AppData\\Local\\Programs\\Python\\Python310\\lib\\site-packages\\seaborn\\_decorators.py:36: FutureWarning: Pass the following variables as keyword args: x, y. From version 0.12, the only valid positional argument will be `data`, and passing other arguments without an explicit keyword will result in an error or misinterpretation.\n",
      "  warnings.warn(\n",
      "C:\\Users\\Frida\\AppData\\Local\\Programs\\Python\\Python310\\lib\\site-packages\\seaborn\\_decorators.py:36: FutureWarning: Pass the following variables as keyword args: x, y. From version 0.12, the only valid positional argument will be `data`, and passing other arguments without an explicit keyword will result in an error or misinterpretation.\n",
      "  warnings.warn(\n"
     ]
    },
    {
     "data": {
      "image/png": "[encoded data removed]",
      "text/plain": [
       "<Figure size 432x288 with 1 Axes>"
      ]
     },
     "metadata": {
      "needs_background": "light"
     },
     "output_type": "display_data"
    }
   ],
   "source": [
    "fig = plt.figure()\n",
    "ax = fig.add_subplot()\n",
    "\n",
    "ax.set_title('Dispersión', pad=15)\n",
    "ax.set_xlabel('Diabetes')\n",
    "ax.set_ylabel('Casos por millón')\n",
    "\n",
    "sns.scatterplot(paises_limpio['diabetes_prevalence'], paises_limpio['total_cases_per_million'], ax=ax, palette='rainbow');\n",
    "sns.scatterplot(centers[:,0], centers[:,1], ax=ax, s=100, color='black');"
   ]
  },
  {
   "cell_type": "code",
   "execution_count": 87,
   "id": "746669eb",
   "metadata": {},
   "outputs": [
    {
     "data": {
      "text/html": [
       "<div>\n",
       "<style scoped>\n",
       "    .dataframe tbody tr th:only-of-type {\n",
       "        vertical-align: middle;\n",
       "    }\n",
       "\n",
       "    .dataframe tbody tr th {\n",
       "        vertical-align: top;\n",
       "    }\n",
       "\n",
       "    .dataframe thead th {\n",
       "        text-align: right;\n",
       "    }\n",
       "</style>\n",
       "<table border=\"1\" class=\"dataframe\">\n",
       "  <thead>\n",
       "    <tr style=\"text-align: right;\">\n",
       "      <th></th>\n",
       "      <th>0</th>\n",
       "      <th>1</th>\n",
       "      <th>2</th>\n",
       "      <th>3</th>\n",
       "      <th>4</th>\n",
       "      <th>5</th>\n",
       "    </tr>\n",
       "  </thead>\n",
       "  <tbody>\n",
       "    <tr>\n",
       "      <th>0</th>\n",
       "      <td>2227932.847</td>\n",
       "      <td>19580.182</td>\n",
       "      <td>12893.171</td>\n",
       "      <td>406.66</td>\n",
       "      <td>3351.32</td>\n",
       "      <td>32.349</td>\n",
       "    </tr>\n",
       "    <tr>\n",
       "      <th>1</th>\n",
       "      <td>880605.911</td>\n",
       "      <td>5485.100</td>\n",
       "      <td>15514.061</td>\n",
       "      <td>303.99</td>\n",
       "      <td>3462.15</td>\n",
       "      <td>29.719</td>\n",
       "    </tr>\n",
       "    <tr>\n",
       "      <th>2</th>\n",
       "      <td>5667218.834</td>\n",
       "      <td>26273.267</td>\n",
       "      <td>9436.536</td>\n",
       "      <td>288.57</td>\n",
       "      <td>3587.40</td>\n",
       "      <td>36.955</td>\n",
       "    </tr>\n",
       "    <tr>\n",
       "      <th>3</th>\n",
       "      <td>1331924.539</td>\n",
       "      <td>4278.681</td>\n",
       "      <td>4402.487</td>\n",
       "      <td>246.86</td>\n",
       "      <td>1734.47</td>\n",
       "      <td>17.387</td>\n",
       "    </tr>\n",
       "    <tr>\n",
       "      <th>4</th>\n",
       "      <td>885906.547</td>\n",
       "      <td>292.704</td>\n",
       "      <td>2247.887</td>\n",
       "      <td>93.73</td>\n",
       "      <td>901.09</td>\n",
       "      <td>9.158</td>\n",
       "    </tr>\n",
       "    <tr>\n",
       "      <th>5</th>\n",
       "      <td>73967.484</td>\n",
       "      <td>989.999</td>\n",
       "      <td>4240.242</td>\n",
       "      <td>181.72</td>\n",
       "      <td>869.02</td>\n",
       "      <td>8.569</td>\n",
       "    </tr>\n",
       "  </tbody>\n",
       "</table>\n",
       "</div>"
      ],
      "text/plain": [
       "             0          1          2       3        4       5\n",
       "0  2227932.847  19580.182  12893.171  406.66  3351.32  32.349\n",
       "1   880605.911   5485.100  15514.061  303.99  3462.15  29.719\n",
       "2  5667218.834  26273.267   9436.536  288.57  3587.40  36.955\n",
       "3  1331924.539   4278.681   4402.487  246.86  1734.47  17.387\n",
       "4   885906.547    292.704   2247.887   93.73   901.09   9.158\n",
       "5    73967.484    989.999   4240.242  181.72   869.02   8.569"
      ]
     },
     "execution_count": 87,
     "metadata": {},
     "output_type": "execute_result"
    }
   ],
   "source": [
    "continente = pd.read_csv(\"C:\\\\Users\\\\Frida\\\\Desktop\\\\Bedu 2021\\\\Proyecto\\\\Bases de datos limpias\\\\ml_continentes.csv\")\n",
    "continente"
   ]
  },
  {
   "cell_type": "code",
   "execution_count": 106,
   "id": "796f5c23",
   "metadata": {},
   "outputs": [
    {
     "data": {
      "text/html": [
       "<div>\n",
       "<style scoped>\n",
       "    .dataframe tbody tr th:only-of-type {\n",
       "        vertical-align: middle;\n",
       "    }\n",
       "\n",
       "    .dataframe tbody tr th {\n",
       "        vertical-align: top;\n",
       "    }\n",
       "\n",
       "    .dataframe thead th {\n",
       "        text-align: right;\n",
       "    }\n",
       "</style>\n",
       "<table border=\"1\" class=\"dataframe\">\n",
       "  <thead>\n",
       "    <tr style=\"text-align: right;\">\n",
       "      <th></th>\n",
       "      <th>0</th>\n",
       "      <th>1</th>\n",
       "      <th>2</th>\n",
       "      <th>3</th>\n",
       "      <th>4</th>\n",
       "      <th>5</th>\n",
       "    </tr>\n",
       "  </thead>\n",
       "  <tbody>\n",
       "    <tr>\n",
       "      <th>0</th>\n",
       "      <td>2227932.847</td>\n",
       "      <td>19580.182</td>\n",
       "      <td>12893.171</td>\n",
       "      <td>406.66</td>\n",
       "      <td>3351.32</td>\n",
       "      <td>32.349</td>\n",
       "    </tr>\n",
       "    <tr>\n",
       "      <th>1</th>\n",
       "      <td>880605.911</td>\n",
       "      <td>5485.100</td>\n",
       "      <td>15514.061</td>\n",
       "      <td>303.99</td>\n",
       "      <td>3462.15</td>\n",
       "      <td>29.719</td>\n",
       "    </tr>\n",
       "    <tr>\n",
       "      <th>2</th>\n",
       "      <td>5667218.834</td>\n",
       "      <td>26273.267</td>\n",
       "      <td>9436.536</td>\n",
       "      <td>288.57</td>\n",
       "      <td>3587.40</td>\n",
       "      <td>36.955</td>\n",
       "    </tr>\n",
       "    <tr>\n",
       "      <th>3</th>\n",
       "      <td>1331924.539</td>\n",
       "      <td>4278.681</td>\n",
       "      <td>4402.487</td>\n",
       "      <td>246.86</td>\n",
       "      <td>1734.47</td>\n",
       "      <td>17.387</td>\n",
       "    </tr>\n",
       "    <tr>\n",
       "      <th>4</th>\n",
       "      <td>885906.547</td>\n",
       "      <td>292.704</td>\n",
       "      <td>2247.887</td>\n",
       "      <td>93.73</td>\n",
       "      <td>901.09</td>\n",
       "      <td>9.158</td>\n",
       "    </tr>\n",
       "    <tr>\n",
       "      <th>5</th>\n",
       "      <td>73967.484</td>\n",
       "      <td>989.999</td>\n",
       "      <td>4240.242</td>\n",
       "      <td>181.72</td>\n",
       "      <td>869.02</td>\n",
       "      <td>8.569</td>\n",
       "    </tr>\n",
       "  </tbody>\n",
       "</table>\n",
       "</div>"
      ],
      "text/plain": [
       "             0          1          2       3        4       5\n",
       "0  2227932.847  19580.182  12893.171  406.66  3351.32  32.349\n",
       "1   880605.911   5485.100  15514.061  303.99  3462.15  29.719\n",
       "2  5667218.834  26273.267   9436.536  288.57  3587.40  36.955\n",
       "3  1331924.539   4278.681   4402.487  246.86  1734.47  17.387\n",
       "4   885906.547    292.704   2247.887   93.73   901.09   9.158\n",
       "5    73967.484    989.999   4240.242  181.72   869.02   8.569"
      ]
     },
     "execution_count": 106,
     "metadata": {},
     "output_type": "execute_result"
    }
   ],
   "source": [
    "df=pd.DataFrame(continente)\n",
    "df"
   ]
  },
  {
   "cell_type": "code",
   "execution_count": 119,
   "id": "7334e4cd",
   "metadata": {},
   "outputs": [
    {
     "name": "stderr",
     "output_type": "stream",
     "text": [
      "C:\\Users\\Frida\\AppData\\Local\\Programs\\Python\\Python310\\lib\\site-packages\\sklearn\\cluster\\_kmeans.py:1323: RuntimeWarning: algorithm='elkan' doesn't make sense for a single cluster. Using 'lloyd' instead.\n",
      "  warnings.warn(\n"
     ]
    }
   ],
   "source": [
    "inertia = []\n",
    "for n in range(1, 11):\n",
    "  kmeans = KMeans(n_clusters=n, init='k-means++', n_init=10, max_iter=300, algorithm='elkan')\n",
    "  kmeans.fit(paises_limpio[['diabetes_prevalence', 'total_cases_per_million']])\n",
    "  inertia.append(kmeans.inertia_)"
   ]
  },
  {
   "cell_type": "code",
   "execution_count": 120,
   "id": "bb96660e",
   "metadata": {},
   "outputs": [
    {
     "data": {
      "text/plain": [
       "[705321253471.6702,\n",
       " 207161483945.27942,\n",
       " 83683385807.56361,\n",
       " 48122931675.870964,\n",
       " 25479624177.29701,\n",
       " 17362547221.0282,\n",
       " 12127968534.322931,\n",
       " 9720295019.905567,\n",
       " 7704220915.275491,\n",
       " 6092561561.420632]"
      ]
     },
     "execution_count": 120,
     "metadata": {},
     "output_type": "execute_result"
    }
   ],
   "source": [
    "inertia"
   ]
  },
  {
   "cell_type": "code",
   "execution_count": 121,
   "id": "0b46586f",
   "metadata": {},
   "outputs": [
    {
     "data": {
      "image/png": "[encoded data removed]",
      "text/plain": [
       "<Figure size 1080x432 with 1 Axes>"
      ]
     },
     "metadata": {
      "needs_background": "light"
     },
     "output_type": "display_data"
    }
   ],
   "source": [
    "plt.figure(1, figsize=(15, 6))\n",
    "plt.plot(np.arange(1, 11), inertia, 'o')\n",
    "plt.plot(np.arange(1, 11), inertia, '-', alpha=0.5)\n",
    "plt.xlabel(\"K\")\n",
    "plt.ylabel(\"Inertia\");"
   ]
  },
  {
   "cell_type": "code",
   "execution_count": 122,
   "id": "7012ad1a",
   "metadata": {},
   "outputs": [
    {
     "data": {
      "text/plain": [
       "array([[8.20196970e+00, 1.28860019e+05],\n",
       "       [8.01088710e+00, 2.13179681e+04]])"
      ]
     },
     "execution_count": 122,
     "metadata": {},
     "output_type": "execute_result"
    }
   ],
   "source": [
    "k_means = KMeans(n_clusters=2, max_iter=10000) # seis continentes. excluimos la Antártida\n",
    "k_means.fit(paises_limpio[['diabetes_prevalence', 'total_cases_per_million']])\n",
    "centers = k_means.cluster_centers_\n",
    "\n",
    "centers"
   ]
  },
  {
   "cell_type": "code",
   "execution_count": 126,
   "id": "dc76aedf",
   "metadata": {},
   "outputs": [],
   "source": [
    "clasificaciones = k_means.predict(paises_limpio[['diabetes_prevalence', 'total_cases_per_million']])"
   ]
  },
  {
   "cell_type": "code",
   "execution_count": 128,
   "id": "173a7e3f",
   "metadata": {},
   "outputs": [
    {
     "name": "stderr",
     "output_type": "stream",
     "text": [
      "C:\\Users\\Frida\\AppData\\Local\\Programs\\Python\\Python310\\lib\\site-packages\\seaborn\\_decorators.py:36: FutureWarning: Pass the following variables as keyword args: x, y. From version 0.12, the only valid positional argument will be `data`, and passing other arguments without an explicit keyword will result in an error or misinterpretation.\n",
      "  warnings.warn(\n",
      "C:\\Users\\Frida\\AppData\\Local\\Programs\\Python\\Python310\\lib\\site-packages\\seaborn\\_decorators.py:36: FutureWarning: Pass the following variables as keyword args: x, y. From version 0.12, the only valid positional argument will be `data`, and passing other arguments without an explicit keyword will result in an error or misinterpretation.\n",
      "  warnings.warn(\n"
     ]
    },
    {
     "data": {
      "image/png": "[encoded data removed]",
      "text/plain": [
       "<Figure size 432x288 with 1 Axes>"
      ]
     },
     "metadata": {
      "needs_background": "light"
     },
     "output_type": "display_data"
    }
   ],
   "source": [
    "fig = plt.figure()\n",
    "ax = fig.add_subplot()\n",
    "\n",
    "ax.set_title('Códigos de producto', pad=15)\n",
    "ax.set_xlabel('Diabetes')\n",
    "ax.set_ylabel('Casos por millón')\n",
    "\n",
    "sns.scatterplot(paises_limpio['diabetes_prevalence'], paises_limpio['total_cases_per_million'], ax=ax, hue=clasificaciones, palette='rainbow');\n",
    "sns.scatterplot(centers[:,0], centers[:,1], ax=ax, s=100, color='black');\n",
    "\n",
    "ax.get_legend().remove()"
   ]
  }
 ],
 "metadata": {
  "kernelspec": {
   "display_name": "Python 3 (ipykernel)",
   "language": "python",
   "name": "python3"
  },
  "language_info": {
   "codemirror_mode": {
    "name": "ipython",
    "version": 3
   },
   "file_extension": ".py",
   "mimetype": "text/x-python",
   "name": "python",
   "nbconvert_exporter": "python",
   "pygments_lexer": "ipython3",
   "version": "3.10.1"
  }
 },
 "nbformat": 4,
 "nbformat_minor": 5
}
