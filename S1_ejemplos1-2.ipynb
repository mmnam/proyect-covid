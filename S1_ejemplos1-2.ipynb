{
 "cells": [
  {
   "cell_type": "code",
   "execution_count": 1,
   "id": "58247cff-90ac-4923-b3f7-7cd4834e0987",
   "metadata": {},
   "outputs": [],
   "source": [
    "import pandas as pd"
   ]
  },
  {
   "cell_type": "code",
   "execution_count": 2,
   "id": "3ac16d41-7b75-4eae-a691-33a22bf051df",
   "metadata": {},
   "outputs": [],
   "source": [
    "# Seleccionando el dataframe de casos y muertes por millón, por país y por fecha\n",
    "\n",
    "countries = pd.read_csv(\"Proyecto/countries.csv\")"
   ]
  },
  {
   "cell_type": "code",
   "execution_count": 3,
   "id": "6b89a973-18cf-451a-b5d5-167eb3763f1f",
   "metadata": {},
   "outputs": [
    {
     "data": {
      "text/html": [
       "<div>\n",
       "<style scoped>\n",
       "    .dataframe tbody tr th:only-of-type {\n",
       "        vertical-align: middle;\n",
       "    }\n",
       "\n",
       "    .dataframe tbody tr th {\n",
       "        vertical-align: top;\n",
       "    }\n",
       "\n",
       "    .dataframe thead th {\n",
       "        text-align: right;\n",
       "    }\n",
       "</style>\n",
       "<table border=\"1\" class=\"dataframe\">\n",
       "  <thead>\n",
       "    <tr style=\"text-align: right;\">\n",
       "      <th></th>\n",
       "      <th>iso_code</th>\n",
       "      <th>continent</th>\n",
       "      <th>location</th>\n",
       "      <th>date</th>\n",
       "      <th>total_cases</th>\n",
       "      <th>new_cases</th>\n",
       "      <th>new_cases_smoothed</th>\n",
       "      <th>total_deaths</th>\n",
       "      <th>new_deaths</th>\n",
       "      <th>new_deaths_smoothed</th>\n",
       "      <th>...</th>\n",
       "      <th>female_smokers</th>\n",
       "      <th>male_smokers</th>\n",
       "      <th>handwashing_facilities</th>\n",
       "      <th>hospital_beds_per_thousand</th>\n",
       "      <th>life_expectancy</th>\n",
       "      <th>human_development_index</th>\n",
       "      <th>excess_mortality_cumulative_absolute</th>\n",
       "      <th>excess_mortality_cumulative</th>\n",
       "      <th>excess_mortality</th>\n",
       "      <th>excess_mortality_cumulative_per_million</th>\n",
       "    </tr>\n",
       "  </thead>\n",
       "  <tbody>\n",
       "    <tr>\n",
       "      <th>0</th>\n",
       "      <td>AFG</td>\n",
       "      <td>Asia</td>\n",
       "      <td>Afghanistan</td>\n",
       "      <td>24/02/2020</td>\n",
       "      <td>5.0</td>\n",
       "      <td>5.0</td>\n",
       "      <td>NaN</td>\n",
       "      <td>NaN</td>\n",
       "      <td>NaN</td>\n",
       "      <td>NaN</td>\n",
       "      <td>...</td>\n",
       "      <td>NaN</td>\n",
       "      <td>NaN</td>\n",
       "      <td>37.746</td>\n",
       "      <td>0.5</td>\n",
       "      <td>64.83</td>\n",
       "      <td>0.511</td>\n",
       "      <td>NaN</td>\n",
       "      <td>NaN</td>\n",
       "      <td>NaN</td>\n",
       "      <td>NaN</td>\n",
       "    </tr>\n",
       "    <tr>\n",
       "      <th>1</th>\n",
       "      <td>AFG</td>\n",
       "      <td>Asia</td>\n",
       "      <td>Afghanistan</td>\n",
       "      <td>25/02/2020</td>\n",
       "      <td>5.0</td>\n",
       "      <td>0.0</td>\n",
       "      <td>NaN</td>\n",
       "      <td>NaN</td>\n",
       "      <td>NaN</td>\n",
       "      <td>NaN</td>\n",
       "      <td>...</td>\n",
       "      <td>NaN</td>\n",
       "      <td>NaN</td>\n",
       "      <td>37.746</td>\n",
       "      <td>0.5</td>\n",
       "      <td>64.83</td>\n",
       "      <td>0.511</td>\n",
       "      <td>NaN</td>\n",
       "      <td>NaN</td>\n",
       "      <td>NaN</td>\n",
       "      <td>NaN</td>\n",
       "    </tr>\n",
       "    <tr>\n",
       "      <th>2</th>\n",
       "      <td>AFG</td>\n",
       "      <td>Asia</td>\n",
       "      <td>Afghanistan</td>\n",
       "      <td>26/02/2020</td>\n",
       "      <td>5.0</td>\n",
       "      <td>0.0</td>\n",
       "      <td>NaN</td>\n",
       "      <td>NaN</td>\n",
       "      <td>NaN</td>\n",
       "      <td>NaN</td>\n",
       "      <td>...</td>\n",
       "      <td>NaN</td>\n",
       "      <td>NaN</td>\n",
       "      <td>37.746</td>\n",
       "      <td>0.5</td>\n",
       "      <td>64.83</td>\n",
       "      <td>0.511</td>\n",
       "      <td>NaN</td>\n",
       "      <td>NaN</td>\n",
       "      <td>NaN</td>\n",
       "      <td>NaN</td>\n",
       "    </tr>\n",
       "    <tr>\n",
       "      <th>3</th>\n",
       "      <td>AFG</td>\n",
       "      <td>Asia</td>\n",
       "      <td>Afghanistan</td>\n",
       "      <td>27/02/2020</td>\n",
       "      <td>5.0</td>\n",
       "      <td>0.0</td>\n",
       "      <td>NaN</td>\n",
       "      <td>NaN</td>\n",
       "      <td>NaN</td>\n",
       "      <td>NaN</td>\n",
       "      <td>...</td>\n",
       "      <td>NaN</td>\n",
       "      <td>NaN</td>\n",
       "      <td>37.746</td>\n",
       "      <td>0.5</td>\n",
       "      <td>64.83</td>\n",
       "      <td>0.511</td>\n",
       "      <td>NaN</td>\n",
       "      <td>NaN</td>\n",
       "      <td>NaN</td>\n",
       "      <td>NaN</td>\n",
       "    </tr>\n",
       "    <tr>\n",
       "      <th>4</th>\n",
       "      <td>AFG</td>\n",
       "      <td>Asia</td>\n",
       "      <td>Afghanistan</td>\n",
       "      <td>28/02/2020</td>\n",
       "      <td>5.0</td>\n",
       "      <td>0.0</td>\n",
       "      <td>NaN</td>\n",
       "      <td>NaN</td>\n",
       "      <td>NaN</td>\n",
       "      <td>NaN</td>\n",
       "      <td>...</td>\n",
       "      <td>NaN</td>\n",
       "      <td>NaN</td>\n",
       "      <td>37.746</td>\n",
       "      <td>0.5</td>\n",
       "      <td>64.83</td>\n",
       "      <td>0.511</td>\n",
       "      <td>NaN</td>\n",
       "      <td>NaN</td>\n",
       "      <td>NaN</td>\n",
       "      <td>NaN</td>\n",
       "    </tr>\n",
       "  </tbody>\n",
       "</table>\n",
       "<p>5 rows × 67 columns</p>\n",
       "</div>"
      ],
      "text/plain": [
       "  iso_code continent     location        date  total_cases  new_cases  \\\n",
       "0      AFG      Asia  Afghanistan  24/02/2020          5.0        5.0   \n",
       "1      AFG      Asia  Afghanistan  25/02/2020          5.0        0.0   \n",
       "2      AFG      Asia  Afghanistan  26/02/2020          5.0        0.0   \n",
       "3      AFG      Asia  Afghanistan  27/02/2020          5.0        0.0   \n",
       "4      AFG      Asia  Afghanistan  28/02/2020          5.0        0.0   \n",
       "\n",
       "   new_cases_smoothed  total_deaths  new_deaths  new_deaths_smoothed  ...  \\\n",
       "0                 NaN           NaN         NaN                  NaN  ...   \n",
       "1                 NaN           NaN         NaN                  NaN  ...   \n",
       "2                 NaN           NaN         NaN                  NaN  ...   \n",
       "3                 NaN           NaN         NaN                  NaN  ...   \n",
       "4                 NaN           NaN         NaN                  NaN  ...   \n",
       "\n",
       "   female_smokers  male_smokers  handwashing_facilities  \\\n",
       "0             NaN           NaN                  37.746   \n",
       "1             NaN           NaN                  37.746   \n",
       "2             NaN           NaN                  37.746   \n",
       "3             NaN           NaN                  37.746   \n",
       "4             NaN           NaN                  37.746   \n",
       "\n",
       "   hospital_beds_per_thousand  life_expectancy  human_development_index  \\\n",
       "0                         0.5            64.83                    0.511   \n",
       "1                         0.5            64.83                    0.511   \n",
       "2                         0.5            64.83                    0.511   \n",
       "3                         0.5            64.83                    0.511   \n",
       "4                         0.5            64.83                    0.511   \n",
       "\n",
       "   excess_mortality_cumulative_absolute  excess_mortality_cumulative  \\\n",
       "0                                   NaN                          NaN   \n",
       "1                                   NaN                          NaN   \n",
       "2                                   NaN                          NaN   \n",
       "3                                   NaN                          NaN   \n",
       "4                                   NaN                          NaN   \n",
       "\n",
       "   excess_mortality  excess_mortality_cumulative_per_million  \n",
       "0               NaN                                      NaN  \n",
       "1               NaN                                      NaN  \n",
       "2               NaN                                      NaN  \n",
       "3               NaN                                      NaN  \n",
       "4               NaN                                      NaN  \n",
       "\n",
       "[5 rows x 67 columns]"
      ]
     },
     "execution_count": 3,
     "metadata": {},
     "output_type": "execute_result"
    }
   ],
   "source": [
    "countries.head()"
   ]
  },
  {
   "cell_type": "code",
   "execution_count": 4,
   "id": "9c491be8-737c-43c1-929c-fb7f88057c91",
   "metadata": {},
   "outputs": [],
   "source": [
    "# Seleccionando las columnas de interés\n",
    "\n",
    "paises = pd.DataFrame(countries.loc[:, [\"continent\",\n",
    "                       \"location\",\n",
    "                       \"date\",\n",
    "                       'total_cases_per_million', \n",
    "                       \"total_deaths_per_million\"]])"
   ]
  },
  {
   "cell_type": "code",
   "execution_count": 5,
   "id": "97526ec9-58a5-4a1c-a15d-c2c9e51baea8",
   "metadata": {},
   "outputs": [
    {
     "data": {
      "text/html": [
       "<div>\n",
       "<style scoped>\n",
       "    .dataframe tbody tr th:only-of-type {\n",
       "        vertical-align: middle;\n",
       "    }\n",
       "\n",
       "    .dataframe tbody tr th {\n",
       "        vertical-align: top;\n",
       "    }\n",
       "\n",
       "    .dataframe thead th {\n",
       "        text-align: right;\n",
       "    }\n",
       "</style>\n",
       "<table border=\"1\" class=\"dataframe\">\n",
       "  <thead>\n",
       "    <tr style=\"text-align: right;\">\n",
       "      <th></th>\n",
       "      <th>continent</th>\n",
       "      <th>location</th>\n",
       "      <th>date</th>\n",
       "      <th>total_cases_per_million</th>\n",
       "      <th>total_deaths_per_million</th>\n",
       "    </tr>\n",
       "  </thead>\n",
       "  <tbody>\n",
       "    <tr>\n",
       "      <th>0</th>\n",
       "      <td>Asia</td>\n",
       "      <td>Afghanistan</td>\n",
       "      <td>24/02/2020</td>\n",
       "      <td>0.126</td>\n",
       "      <td>NaN</td>\n",
       "    </tr>\n",
       "    <tr>\n",
       "      <th>1</th>\n",
       "      <td>Asia</td>\n",
       "      <td>Afghanistan</td>\n",
       "      <td>25/02/2020</td>\n",
       "      <td>0.126</td>\n",
       "      <td>NaN</td>\n",
       "    </tr>\n",
       "    <tr>\n",
       "      <th>2</th>\n",
       "      <td>Asia</td>\n",
       "      <td>Afghanistan</td>\n",
       "      <td>26/02/2020</td>\n",
       "      <td>0.126</td>\n",
       "      <td>NaN</td>\n",
       "    </tr>\n",
       "    <tr>\n",
       "      <th>3</th>\n",
       "      <td>Asia</td>\n",
       "      <td>Afghanistan</td>\n",
       "      <td>27/02/2020</td>\n",
       "      <td>0.126</td>\n",
       "      <td>NaN</td>\n",
       "    </tr>\n",
       "    <tr>\n",
       "      <th>4</th>\n",
       "      <td>Asia</td>\n",
       "      <td>Afghanistan</td>\n",
       "      <td>28/02/2020</td>\n",
       "      <td>0.126</td>\n",
       "      <td>NaN</td>\n",
       "    </tr>\n",
       "  </tbody>\n",
       "</table>\n",
       "</div>"
      ],
      "text/plain": [
       "  continent     location        date  total_cases_per_million  \\\n",
       "0      Asia  Afghanistan  24/02/2020                    0.126   \n",
       "1      Asia  Afghanistan  25/02/2020                    0.126   \n",
       "2      Asia  Afghanistan  26/02/2020                    0.126   \n",
       "3      Asia  Afghanistan  27/02/2020                    0.126   \n",
       "4      Asia  Afghanistan  28/02/2020                    0.126   \n",
       "\n",
       "   total_deaths_per_million  \n",
       "0                       NaN  \n",
       "1                       NaN  \n",
       "2                       NaN  \n",
       "3                       NaN  \n",
       "4                       NaN  "
      ]
     },
     "execution_count": 5,
     "metadata": {},
     "output_type": "execute_result"
    }
   ],
   "source": [
    "paises.head()"
   ]
  },
  {
   "cell_type": "code",
   "execution_count": 6,
   "id": "cd20910c-20cc-4a08-a203-cfd6e6870e3c",
   "metadata": {},
   "outputs": [
    {
     "data": {
      "text/html": [
       "<div>\n",
       "<style scoped>\n",
       "    .dataframe tbody tr th:only-of-type {\n",
       "        vertical-align: middle;\n",
       "    }\n",
       "\n",
       "    .dataframe tbody tr th {\n",
       "        vertical-align: top;\n",
       "    }\n",
       "\n",
       "    .dataframe thead th {\n",
       "        text-align: right;\n",
       "    }\n",
       "</style>\n",
       "<table border=\"1\" class=\"dataframe\">\n",
       "  <thead>\n",
       "    <tr style=\"text-align: right;\">\n",
       "      <th></th>\n",
       "      <th>continent</th>\n",
       "      <th>location</th>\n",
       "      <th>date</th>\n",
       "      <th>total_cases_per_million</th>\n",
       "      <th>total_deaths_per_million</th>\n",
       "    </tr>\n",
       "  </thead>\n",
       "  <tbody>\n",
       "    <tr>\n",
       "      <th>28</th>\n",
       "      <td>Asia</td>\n",
       "      <td>Afghanistan</td>\n",
       "      <td>23/03/2020</td>\n",
       "      <td>1.004</td>\n",
       "      <td>0.025</td>\n",
       "    </tr>\n",
       "    <tr>\n",
       "      <th>29</th>\n",
       "      <td>Asia</td>\n",
       "      <td>Afghanistan</td>\n",
       "      <td>24/03/2020</td>\n",
       "      <td>1.054</td>\n",
       "      <td>0.025</td>\n",
       "    </tr>\n",
       "    <tr>\n",
       "      <th>30</th>\n",
       "      <td>Asia</td>\n",
       "      <td>Afghanistan</td>\n",
       "      <td>25/03/2020</td>\n",
       "      <td>1.858</td>\n",
       "      <td>0.025</td>\n",
       "    </tr>\n",
       "    <tr>\n",
       "      <th>31</th>\n",
       "      <td>Asia</td>\n",
       "      <td>Afghanistan</td>\n",
       "      <td>26/03/2020</td>\n",
       "      <td>2.008</td>\n",
       "      <td>0.050</td>\n",
       "    </tr>\n",
       "    <tr>\n",
       "      <th>32</th>\n",
       "      <td>Asia</td>\n",
       "      <td>Afghanistan</td>\n",
       "      <td>27/03/2020</td>\n",
       "      <td>2.284</td>\n",
       "      <td>0.050</td>\n",
       "    </tr>\n",
       "    <tr>\n",
       "      <th>...</th>\n",
       "      <td>...</td>\n",
       "      <td>...</td>\n",
       "      <td>...</td>\n",
       "      <td>...</td>\n",
       "      <td>...</td>\n",
       "    </tr>\n",
       "    <tr>\n",
       "      <th>138936</th>\n",
       "      <td>Africa</td>\n",
       "      <td>Zimbabwe</td>\n",
       "      <td>05/12/2021</td>\n",
       "      <td>9213.121</td>\n",
       "      <td>312.082</td>\n",
       "    </tr>\n",
       "    <tr>\n",
       "      <th>138937</th>\n",
       "      <td>Africa</td>\n",
       "      <td>Zimbabwe</td>\n",
       "      <td>06/12/2021</td>\n",
       "      <td>9213.121</td>\n",
       "      <td>312.082</td>\n",
       "    </tr>\n",
       "    <tr>\n",
       "      <th>138938</th>\n",
       "      <td>Africa</td>\n",
       "      <td>Zimbabwe</td>\n",
       "      <td>07/12/2021</td>\n",
       "      <td>9382.414</td>\n",
       "      <td>312.281</td>\n",
       "    </tr>\n",
       "    <tr>\n",
       "      <th>138939</th>\n",
       "      <td>Africa</td>\n",
       "      <td>Zimbabwe</td>\n",
       "      <td>08/12/2021</td>\n",
       "      <td>9980.539</td>\n",
       "      <td>312.745</td>\n",
       "    </tr>\n",
       "    <tr>\n",
       "      <th>138940</th>\n",
       "      <td>Africa</td>\n",
       "      <td>Zimbabwe</td>\n",
       "      <td>09/12/2021</td>\n",
       "      <td>10324.360</td>\n",
       "      <td>312.944</td>\n",
       "    </tr>\n",
       "  </tbody>\n",
       "</table>\n",
       "<p>119206 rows × 5 columns</p>\n",
       "</div>"
      ],
      "text/plain": [
       "       continent     location        date  total_cases_per_million  \\\n",
       "28          Asia  Afghanistan  23/03/2020                    1.004   \n",
       "29          Asia  Afghanistan  24/03/2020                    1.054   \n",
       "30          Asia  Afghanistan  25/03/2020                    1.858   \n",
       "31          Asia  Afghanistan  26/03/2020                    2.008   \n",
       "32          Asia  Afghanistan  27/03/2020                    2.284   \n",
       "...          ...          ...         ...                      ...   \n",
       "138936    Africa     Zimbabwe  05/12/2021                 9213.121   \n",
       "138937    Africa     Zimbabwe  06/12/2021                 9213.121   \n",
       "138938    Africa     Zimbabwe  07/12/2021                 9382.414   \n",
       "138939    Africa     Zimbabwe  08/12/2021                 9980.539   \n",
       "138940    Africa     Zimbabwe  09/12/2021                10324.360   \n",
       "\n",
       "        total_deaths_per_million  \n",
       "28                         0.025  \n",
       "29                         0.025  \n",
       "30                         0.025  \n",
       "31                         0.050  \n",
       "32                         0.050  \n",
       "...                          ...  \n",
       "138936                   312.082  \n",
       "138937                   312.082  \n",
       "138938                   312.281  \n",
       "138939                   312.745  \n",
       "138940                   312.944  \n",
       "\n",
       "[119206 rows x 5 columns]"
      ]
     },
     "execution_count": 6,
     "metadata": {},
     "output_type": "execute_result"
    }
   ],
   "source": [
    "total_deaths_permillion2 = paises[paises[\"total_deaths_per_million\"].notna()]\n",
    "total_deaths_permillion2"
   ]
  },
  {
   "cell_type": "code",
   "execution_count": 7,
   "id": "ad217eee-81b3-40a8-8f25-2aac2384021e",
   "metadata": {},
   "outputs": [
    {
     "data": {
      "text/plain": [
       "continent                    object\n",
       "location                     object\n",
       "date                         object\n",
       "total_cases_per_million     float64\n",
       "total_deaths_per_million    float64\n",
       "dtype: object"
      ]
     },
     "execution_count": 7,
     "metadata": {},
     "output_type": "execute_result"
    }
   ],
   "source": [
    "paises.dtypes\n",
    "\n",
    "# Aquí vemos que date es objeto"
   ]
  },
  {
   "cell_type": "code",
   "execution_count": 8,
   "id": "13f4427f-c146-405e-8c77-28db3fc45333",
   "metadata": {},
   "outputs": [],
   "source": [
    "from datetime import date, datetime, timedelta as td"
   ]
  },
  {
   "cell_type": "code",
   "execution_count": 9,
   "id": "1d33e2ee-1bb2-429e-aa3f-d8f4bc60426f",
   "metadata": {},
   "outputs": [],
   "source": [
    "# casting de \"date\" (convertir de objeto a fecha)\n",
    "\n",
    "paises[\"date\"]  = pd.to_datetime(paises[\"date\"], format=\"%d/%m/%Y\")"
   ]
  },
  {
   "cell_type": "code",
   "execution_count": 10,
   "id": "e980e9bb-102b-4706-8d10-2da593a13bc2",
   "metadata": {},
   "outputs": [
    {
     "data": {
      "text/plain": [
       "continent                           object\n",
       "location                            object\n",
       "date                        datetime64[ns]\n",
       "total_cases_per_million            float64\n",
       "total_deaths_per_million           float64\n",
       "dtype: object"
      ]
     },
     "execution_count": 10,
     "metadata": {},
     "output_type": "execute_result"
    }
   ],
   "source": [
    "paises.dtypes"
   ]
  },
  {
   "cell_type": "code",
   "execution_count": 11,
   "id": "c6c7f481-2aae-4f7f-955d-c984d2ca983f",
   "metadata": {},
   "outputs": [],
   "source": [
    "# Función para obtener sólo el año en otra columna \n",
    "get_year = lambda x: x.year"
   ]
  },
  {
   "cell_type": "code",
   "execution_count": 12,
   "id": "c1c2783a-6d57-414f-a85c-9e4ca52507b2",
   "metadata": {},
   "outputs": [],
   "source": [
    "# Mapping para obtener sólo el año en otra columna \n",
    "paises[\"year\"] = paises[\"date\"].map(get_year)"
   ]
  },
  {
   "cell_type": "code",
   "execution_count": 13,
   "id": "91da232b-8008-48a1-93b9-c2e47ef8f107",
   "metadata": {},
   "outputs": [
    {
     "data": {
      "text/html": [
       "<div>\n",
       "<style scoped>\n",
       "    .dataframe tbody tr th:only-of-type {\n",
       "        vertical-align: middle;\n",
       "    }\n",
       "\n",
       "    .dataframe tbody tr th {\n",
       "        vertical-align: top;\n",
       "    }\n",
       "\n",
       "    .dataframe thead th {\n",
       "        text-align: right;\n",
       "    }\n",
       "</style>\n",
       "<table border=\"1\" class=\"dataframe\">\n",
       "  <thead>\n",
       "    <tr style=\"text-align: right;\">\n",
       "      <th></th>\n",
       "      <th>continent</th>\n",
       "      <th>location</th>\n",
       "      <th>date</th>\n",
       "      <th>total_cases_per_million</th>\n",
       "      <th>total_deaths_per_million</th>\n",
       "      <th>year</th>\n",
       "    </tr>\n",
       "  </thead>\n",
       "  <tbody>\n",
       "    <tr>\n",
       "      <th>138936</th>\n",
       "      <td>Africa</td>\n",
       "      <td>Zimbabwe</td>\n",
       "      <td>2021-12-05</td>\n",
       "      <td>9213.121</td>\n",
       "      <td>312.082</td>\n",
       "      <td>2021</td>\n",
       "    </tr>\n",
       "    <tr>\n",
       "      <th>138937</th>\n",
       "      <td>Africa</td>\n",
       "      <td>Zimbabwe</td>\n",
       "      <td>2021-12-06</td>\n",
       "      <td>9213.121</td>\n",
       "      <td>312.082</td>\n",
       "      <td>2021</td>\n",
       "    </tr>\n",
       "    <tr>\n",
       "      <th>138938</th>\n",
       "      <td>Africa</td>\n",
       "      <td>Zimbabwe</td>\n",
       "      <td>2021-12-07</td>\n",
       "      <td>9382.414</td>\n",
       "      <td>312.281</td>\n",
       "      <td>2021</td>\n",
       "    </tr>\n",
       "    <tr>\n",
       "      <th>138939</th>\n",
       "      <td>Africa</td>\n",
       "      <td>Zimbabwe</td>\n",
       "      <td>2021-12-08</td>\n",
       "      <td>9980.539</td>\n",
       "      <td>312.745</td>\n",
       "      <td>2021</td>\n",
       "    </tr>\n",
       "    <tr>\n",
       "      <th>138940</th>\n",
       "      <td>Africa</td>\n",
       "      <td>Zimbabwe</td>\n",
       "      <td>2021-12-09</td>\n",
       "      <td>10324.360</td>\n",
       "      <td>312.944</td>\n",
       "      <td>2021</td>\n",
       "    </tr>\n",
       "  </tbody>\n",
       "</table>\n",
       "</div>"
      ],
      "text/plain": [
       "       continent  location       date  total_cases_per_million  \\\n",
       "138936    Africa  Zimbabwe 2021-12-05                 9213.121   \n",
       "138937    Africa  Zimbabwe 2021-12-06                 9213.121   \n",
       "138938    Africa  Zimbabwe 2021-12-07                 9382.414   \n",
       "138939    Africa  Zimbabwe 2021-12-08                 9980.539   \n",
       "138940    Africa  Zimbabwe 2021-12-09                10324.360   \n",
       "\n",
       "        total_deaths_per_million  year  \n",
       "138936                   312.082  2021  \n",
       "138937                   312.082  2021  \n",
       "138938                   312.281  2021  \n",
       "138939                   312.745  2021  \n",
       "138940                   312.944  2021  "
      ]
     },
     "execution_count": 13,
     "metadata": {},
     "output_type": "execute_result"
    }
   ],
   "source": [
    "# Obtuvimos la columna nueva year\n",
    "\n",
    "paises.tail()"
   ]
  },
  {
   "cell_type": "code",
   "execution_count": 14,
   "id": "e26f4b73-7acc-4f4f-9413-261f087a0929",
   "metadata": {},
   "outputs": [
    {
     "data": {
      "text/plain": [
       "year\n",
       "2020     4513.792138\n",
       "2021    35951.466033\n",
       "Name: total_cases_per_million, dtype: float64"
      ]
     },
     "execution_count": 14,
     "metadata": {},
     "output_type": "execute_result"
    }
   ],
   "source": [
    "# Vamos a obtener las medias globales de casos COVID-19 por año\n",
    "media_casos = paises.groupby([\"year\"])[\"total_cases_per_million\"].mean()\n",
    "media_casos"
   ]
  },
  {
   "cell_type": "code",
   "execution_count": 15,
   "id": "444b0dc1-dc2e-4339-8017-722e16b9f954",
   "metadata": {},
   "outputs": [
    {
     "data": {
      "text/plain": [
       "year\n",
       "2020    60567\n",
       "2021    69967\n",
       "Name: total_cases_per_million, dtype: int64"
      ]
     },
     "execution_count": 15,
     "metadata": {},
     "output_type": "execute_result"
    }
   ],
   "source": [
    "# Conteo de casos COVID-19 por año\n",
    "media_c = paises.groupby([\"year\"])[\"total_cases_per_million\"].count()\n",
    "media_c"
   ]
  },
  {
   "cell_type": "code",
   "execution_count": 76,
   "id": "d87ce3df-7a48-47a2-b731-0027ee37207d",
   "metadata": {},
   "outputs": [
    {
     "data": {
      "text/plain": [
       "year\n",
       "2020    126.804042\n",
       "2021    661.859237\n",
       "Name: total_deaths_per_million, dtype: float64"
      ]
     },
     "execution_count": 76,
     "metadata": {},
     "output_type": "execute_result"
    }
   ],
   "source": [
    "# Vamos a obtener las medias globales de muertes por COVID-19 por año\n",
    "media_muertes = paises.groupby([\"year\"])[\"total_deaths_per_million\"].mean()\n",
    "media_muertes"
   ]
  },
  {
   "cell_type": "code",
   "execution_count": 77,
   "id": "2d183a4f-13d1-4bf1-9c76-f32ddd3a7d76",
   "metadata": {},
   "outputs": [
    {
     "data": {
      "text/plain": [
       "year\n",
       "2020      706.005\n",
       "2021    17815.200\n",
       "Name: total_cases_per_million, dtype: float64"
      ]
     },
     "execution_count": 77,
     "metadata": {},
     "output_type": "execute_result"
    }
   ],
   "source": [
    "mediana_casos = paises.groupby([\"year\"])[\"total_cases_per_million\"].median()\n",
    "mediana_casos"
   ]
  },
  {
   "cell_type": "code",
   "execution_count": 78,
   "id": "726c3328-dd45-4062-a288-5d27454db33e",
   "metadata": {},
   "outputs": [
    {
     "data": {
      "text/plain": [
       "year\n",
       "2020     22.071\n",
       "2021    294.326\n",
       "Name: total_deaths_per_million, dtype: float64"
      ]
     },
     "execution_count": 78,
     "metadata": {},
     "output_type": "execute_result"
    }
   ],
   "source": [
    "mediana_muertes = paises.groupby([\"year\"])[\"total_deaths_per_million\"].median()\n",
    "mediana_muertes"
   ]
  },
  {
   "cell_type": "code",
   "execution_count": 30,
   "id": "156deeeb-599e-403e-b5f6-773b97863528",
   "metadata": {},
   "outputs": [],
   "source": [
    "from scipy import stats"
   ]
  },
  {
   "cell_type": "code",
   "execution_count": 31,
   "id": "2d348362-de9e-480a-bf57-d693a9248c56",
   "metadata": {},
   "outputs": [],
   "source": [
    "# Queremos calcular las medias truncadas al 10%\n",
    "# Necesitamos una función lambda porque tenemos grupos (por año)\n",
    "\n",
    "truncar_media = lambda x: stats.trim_mean(x, 0.1)"
   ]
  },
  {
   "cell_type": "code",
   "execution_count": 32,
   "id": "48dad10c-3e96-4d24-91cc-1ad4b3da80bd",
   "metadata": {},
   "outputs": [
    {
     "data": {
      "text/plain": [
       "year\n",
       "2020     2408.418262\n",
       "2021    39747.084074\n",
       "Name: total_cases_per_million, dtype: float64"
      ]
     },
     "execution_count": 32,
     "metadata": {},
     "output_type": "execute_result"
    }
   ],
   "source": [
    "truncada_casos = paises.groupby([\"year\"])[\"total_cases_per_million\"].agg(truncar_media)\n",
    "truncada_casos"
   ]
  },
  {
   "cell_type": "code",
   "execution_count": 33,
   "id": "d08ca5d7-8bb4-472d-bf7c-3cbd90a72509",
   "metadata": {},
   "outputs": [
    {
     "data": {
      "text/plain": [
       "year\n",
       "2020     64.237573\n",
       "2021    515.987343\n",
       "Name: total_deaths_per_million, dtype: float64"
      ]
     },
     "execution_count": 33,
     "metadata": {},
     "output_type": "execute_result"
    }
   ],
   "source": [
    "paises2 = paises[paises[\"total_deaths_per_million\"].notna()]\n",
    "truncada_muertes = paises2.groupby([\"year\"])[\"total_deaths_per_million\"].agg(truncar_media)\n",
    "truncada_muertes"
   ]
  }
 ],
 "metadata": {
  "kernelspec": {
   "display_name": "Python 3 (ipykernel)",
   "language": "python",
   "name": "python3"
  },
  "language_info": {
   "codemirror_mode": {
    "name": "ipython",
    "version": 3
   },
   "file_extension": ".py",
   "mimetype": "text/x-python",
   "name": "python",
   "nbconvert_exporter": "python",
   "pygments_lexer": "ipython3",
   "version": "3.9.7"
  }
 },
 "nbformat": 4,
 "nbformat_minor": 5
}
